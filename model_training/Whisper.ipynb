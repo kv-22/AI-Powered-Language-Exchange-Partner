{
 "cells": [
  {
   "cell_type": "code",
   "execution_count": null,
   "metadata": {
    "colab": {
     "base_uri": "https://localhost:8080/"
    },
    "id": "RIWYNGOIVHGG",
    "outputId": "a7d58fed-c0ac-4113-ed7f-01b05aaad4d8"
   },
   "outputs": [],
   "source": [
    "!pip install --upgrade pip\n",
    "!pip install --upgrade \"datasets[audio]\" transformers accelerate evaluate jiwer tensorboard gradio\n"
   ]
  },
  {
   "cell_type": "code",
   "execution_count": null,
   "metadata": {
    "colab": {
     "base_uri": "https://localhost:8080/",
     "height": 17,
     "referenced_widgets": [
      "bc270c853f1d456c9d191f8a285e7f88",
      "fb3b28a7032d4547899db937d6151a17",
      "1e6f512c1be543a1aa597295a679482b",
      "1c318c273acb4e80a5478c2ef06f2a36",
      "c2c40237d1d147f898b8734aa2b35af5",
      "d8077bef11be4b628fac3fac45c1a4ab",
      "2f0f1fd0d2a34e78ac1173ee7fb50ff5",
      "2fd1311f0dd84716bbb45be956cd2db3",
      "ca87ce50114b4cbbb21796746453f9a5",
      "a6229f7039934488be7f973ecfbc17b2",
      "3a503a4341244717a0df427e8d24854c",
      "04cc0c181bea4f71a03e43a51f0be635",
      "d4fb3abe108849f1902bf543eb020cc3",
      "2063bf2ee659418091f62c646b3b9ce4",
      "d54208a0430340b29fe1c702c30f5721",
      "7e1d8b10ac364cd2931194da1dd27b1e",
      "c2aae437e3f24b1d9119bfb8dbe43377",
      "9a1c9979acb74173939a7009bf60ea0f",
      "e2d4a2a6c9bb45eeadc06ad8fd17bf33",
      "9c5111d6685e400ea15b24e061e94cd5"
     ]
    },
    "id": "upPq9QkpVO5x",
    "outputId": "a333daed-2cd1-406c-d25b-cfe4917548c8"
   },
   "outputs": [],
   "source": [
    "from huggingface_hub import notebook_login\n",
    "\n",
    "notebook_login()"
   ]
  },
  {
   "cell_type": "markdown",
   "metadata": {
    "id": "ASD_AfXT82wV"
   },
   "source": [
    "Run this only in colab."
   ]
  },
  {
   "cell_type": "code",
   "execution_count": null,
   "metadata": {
    "colab": {
     "base_uri": "https://localhost:8080/"
    },
    "id": "WvEkDCFusj6d",
    "outputId": "4bf7b8bd-932f-4472-e5bc-e337068e6d2e"
   },
   "outputs": [],
   "source": [
    "from google.colab import drive\n",
    "drive.mount('/content/drive')"
   ]
  },
  {
   "cell_type": "code",
   "execution_count": null,
   "metadata": {
    "colab": {
     "base_uri": "https://localhost:8080/",
     "height": 156,
     "referenced_widgets": [
      "8540759834d3420aa5db1f9ed6da8226",
      "bd4d299303f64f1ca29abfaffa21bae0",
      "66ae7d2c5f11476684ce0f46b4a33e64",
      "5fc90c3014ab4c648ddfed7509186ebe",
      "98df6005197847b7b770255344623d42",
      "2c920f4a9e994bc29876e81dca34a4ed",
      "c9e8335426744ce8ae9c8137f36bb698",
      "1b9f76f22dfd45e38471fea3dab80be7",
      "523adad9a625413d9b1d3345109626b3",
      "75fdb1c1ab3a4e6e9ed21b41ba810c5b",
      "52baee3f8d6e4cfcaf9e0150e55a01e0"
     ]
    },
    "id": "FwhC8fw087Na",
    "outputId": "312b4e99-7832-4617-c61b-c9fb6f0f197b"
   },
   "outputs": [],
   "source": [
    "from datasets import load_dataset, DatasetDict\n",
    "\n",
    "my_dataset = DatasetDict()\n",
    "my_dataset[\"train\"] = load_dataset(\"/content/drive/My Drive/dataset_new\", split='train')\n",
    "print(my_dataset)"
   ]
  },
  {
   "cell_type": "markdown",
   "metadata": {
    "id": "63hNqf508-qL"
   },
   "source": [
    "Run this on your machine."
   ]
  },
  {
   "cell_type": "code",
   "execution_count": null,
   "metadata": {
    "id": "-0M0dlNDV8uF"
   },
   "outputs": [],
   "source": [
    "# from datasets import load_dataset, DatasetDict\n",
    "\n",
    "# my_dataset = DatasetDict()\n",
    "# my_dataset[\"train\"] = load_dataset(\"itskavya/gp\", split='train')\n",
    "# print(my_dataset)\n"
   ]
  },
  {
   "cell_type": "markdown",
   "metadata": {
    "id": "qniZ9G0T_Kmj"
   },
   "source": [
    "Preprocessing"
   ]
  },
  {
   "cell_type": "code",
   "execution_count": null,
   "metadata": {
    "colab": {
     "base_uri": "https://localhost:8080/",
     "height": 35
    },
    "id": "p_xwpnU6c4IC",
    "outputId": "d50f05bb-d198-493d-e84f-d2a2c7038de5"
   },
   "outputs": [],
   "source": [
    "# Get column names to identify the second column\n",
    "column_names = my_dataset[\"train\"].column_names\n",
    "second_column = column_names[1]\n",
    "second_column"
   ]
  },
  {
   "cell_type": "code",
   "execution_count": null,
   "metadata": {
    "colab": {
     "base_uri": "https://localhost:8080/"
    },
    "id": "jmDC4crNGp8z",
    "outputId": "c185ac87-b4ff-4651-f763-1e80386bca97"
   },
   "outputs": [],
   "source": [
    "import re\n",
    "\n",
    "# filter rows that have anything other than letters\n",
    "def filter_dataset(dataset):\n",
    "    filtered_rows = []\n",
    "    for i in range(len(dataset['transcription'])):\n",
    "        if bool(re.search(r'[^A-Za-z\\u0621-\\u064A\\s]', dataset['transcription'][i])):\n",
    "            filtered_rows.append(i)\n",
    "\n",
    "    return dataset.select(filtered_rows)\n",
    "\n",
    "filtered_dataset2 = filter_dataset(my_dataset['train'])\n",
    "\n",
    "print(filtered_dataset2)"
   ]
  },
  {
   "cell_type": "code",
   "execution_count": null,
   "metadata": {
    "colab": {
     "base_uri": "https://localhost:8080/"
    },
    "id": "AvrY0L8LHuZl",
    "outputId": "20097bfd-dcd3-4c89-ac03-12bbdc215067"
   },
   "outputs": [],
   "source": [
    "for i in range(len(filtered_dataset2)):\n",
    "  print(filtered_dataset2[i]['audio']['path'])\n",
    "  print(filtered_dataset2[i]['transcription'])\n",
    "  print(\"\\n\")"
   ]
  },
  {
   "cell_type": "code",
   "execution_count": null,
   "metadata": {
    "colab": {
     "base_uri": "https://localhost:8080/"
    },
    "id": "PM7b686LIlIY",
    "outputId": "c49fe1bb-1d9a-4b9e-8ee8-727b59c7b3da"
   },
   "outputs": [],
   "source": [
    "import re\n",
    "\n",
    "# filter rows that have both eng and arabic\n",
    "def filter_dataset(dataset):\n",
    "    filtered_rows = []\n",
    "    for i in range(len(dataset['transcription'])):\n",
    "        if bool(re.search(r'[A-Za-z]', dataset['transcription'][i]) and re.search(r'[\\u0600-\\u06FF]', dataset['transcription'][i])):\n",
    "            filtered_rows.append(i)\n",
    "\n",
    "    return dataset.select(filtered_rows)\n",
    "\n",
    "filtered_dataset3 = filter_dataset(my_dataset['train'])\n",
    "\n",
    "print(filtered_dataset3)"
   ]
  },
  {
   "cell_type": "code",
   "execution_count": null,
   "metadata": {
    "colab": {
     "base_uri": "https://localhost:8080/"
    },
    "id": "J0slfAu_KuEs",
    "outputId": "500769d5-f327-420d-82c1-3d8cbbe019bb"
   },
   "outputs": [],
   "source": [
    "for i in range(len(filtered_dataset3)):\n",
    "  print(filtered_dataset3[i]['audio']['path'])\n",
    "  print(filtered_dataset3[i]['transcription'])\n",
    "  print(\"\\n\")"
   ]
  },
  {
   "cell_type": "markdown",
   "metadata": {
    "id": "6pJNBr94MOrO"
   },
   "source": [
    "Checking whether the tokenizer can handle the english text"
   ]
  },
  {
   "cell_type": "code",
   "execution_count": null,
   "metadata": {
    "colab": {
     "base_uri": "https://localhost:8080/",
     "height": 241,
     "referenced_widgets": [
      "39111607b4534ef2aa4f88390fb1ac12",
      "3414bf37cca74313920ce91f7e15f890",
      "7f82fa87f7bf45cb9c3c366a0398224a",
      "a141acced42b403281c087edd6ecf193",
      "0ad96ed606864745b909c3468b33b243",
      "f36e8eed03c64953a35e7c82a8b64de3",
      "72a6552a29634a8b917d17e34793f484",
      "b5dbbe1efd684d1f8e165da39104abd7",
      "04d438b6c44e4f468dd5271a8d39b994",
      "71d89df91ce64e65aa0933b0d3049fca",
      "756ffd52658f40359a36c8a01b152f1a",
      "40efaec0400e409f9f92b64c9bef1066",
      "df6322bb604945a7a17ad9b6cbb604b1",
      "b6fbc137afd74230a42312e67a490873",
      "db110c5d9bee45faa5bb9a062ad6fbb3",
      "d143b59aa957488e963f98cd8394fbcc",
      "ccd44d8e9be54c5fa4970d68af2948b6",
      "c74ba31bc5114392b3b50dbf4c97f959",
      "e782fba8f7824a31aba0a066d426821a",
      "bc5e1ea0709b432a9f7f1e98a488350f",
      "63ffe26695394f8dbdee689781e5c151",
      "435f4529eadd4cec82a5304ec988b70d",
      "a1be5ef9e45e43cc95d9db8d7c6f3bbd",
      "883797176d7644e8b034c6bbf3c72b28",
      "661439601c6e40ef8ab35543c22c839f",
      "d37d6fefebf742ad9815f9682551cca9",
      "d261fd85dd7246709a2dd72cd9cb38fd",
      "ee419caddb904553b5e6da88e5e2d3d7",
      "dfbc82fa76fe44ac9790b73c907ecffc",
      "138d84fcb4cb4f8fa07a4f784456a59e",
      "f2835ead923449f7942f7219463e13c1",
      "f572cef451d342399869cdb20556238a",
      "98110ddd190a45aa89305257ee2fd07d",
      "862d27ada0bf47899b1ea466f3f759e2",
      "4f5c35ea65e74c4c89627dfceb59cf8f",
      "3962df296232406bb98be2e800124923",
      "da813559645e43c1bd5a0f5d400c276b",
      "64412f5c07144df497797d2b70f8b37a",
      "7654c3e5c0d34436970077346c5d6d2f",
      "269c438caa7b48babef87f5358c6f04e",
      "1e27f4b6cbb946589bcea42a9c73b52b",
      "e300e89c74e54bb4ab19353edef45920",
      "f84f501b36e94399ae772641b461706b",
      "c684040c341943aa83d314feeeacc32e",
      "3254d3ed8b544e1aa3a13b262cb0fcbe",
      "a38ec5346ac9404385a8fbaad4a3fed5",
      "7582cf8193b347caac3cbd7c417e50fa",
      "e10c3e7de63a4eb089e09a47355d4d0a",
      "ca1201c3aa554f2a89ae391c4e04ab32",
      "1e1759f19ccc43919d98018da06f68ab",
      "6cacb8ee215342b1aa884b37458cb3ef",
      "bf27c7b8cd1c434b93fcca06a3ceb668",
      "db2216ed30bc4752868447dd5cd70f83",
      "5499198ae43a48ed90c53305ebf8f579",
      "34fc1629760e4fbea89fe95ef0299e16",
      "14154c36dc16412e8be7eb84e0c6f6f4",
      "1e77b1b883a14d85a59ad9d3da151bb9",
      "a331bf0d914345449ef7223b46b7dc4a",
      "e4db2ee9e11745e5bef6b0580c232b0e",
      "107a20d19329485dbc87a29cada3ccea",
      "37bcfbcf16314ed1a501eff0ffb73386",
      "b3ef5acb170149e2b5e005d71f5ced3d",
      "cdbd3024e4b64da0979c617273a47b24",
      "693d9cbda6f64693bb523ddeacde1437",
      "b61d9b3f423a4c7ab29da076114aa581",
      "b887c5de7cca4956b3d462389cfddb53",
      "b79dd98c684d48deb8ff97a01921535e",
      "24db324193a9497ea9f8b5d2c61176e9",
      "b5536e280d954acc9480d34eab427133",
      "3cee970bed6442e49dff42e30d2effb3",
      "977c6b85aa1745a1881ecec88d559520",
      "89157c0914ba4dd2a03a04d2db8f9dde",
      "09d61a3d9e63429a81354dbec4312074",
      "537cd22564584dc4b5321cd000930a9a",
      "c657f7ce5eb64c5792701ac96791f939",
      "d323c6043ea64b6ab66113dc5d3c76d5",
      "2f6fb54554114d4db0683255ded29f1c"
     ]
    },
    "id": "H2L-DTbILiRX",
    "outputId": "420c85a4-fb65-4e6e-cf6b-e28d45a3c023"
   },
   "outputs": [],
   "source": [
    "from transformers import WhisperTokenizer\n",
    "\n",
    "tokenizer = WhisperTokenizer.from_pretrained(\"openai/whisper-small\", language=\"Arabic\", task=\"transcribe\")"
   ]
  },
  {
   "cell_type": "code",
   "execution_count": null,
   "metadata": {
    "colab": {
     "base_uri": "https://localhost:8080/"
    },
    "id": "PNZUliyFLlpa",
    "outputId": "a7218519-f7d4-41a2-f7c8-b57f40a59de5"
   },
   "outputs": [],
   "source": [
    "input_str = filtered_dataset3[2][\"transcription\"]\n",
    "labels = tokenizer(input_str).input_ids # it returns a dict of input ids and attention mask so just get the input ids\n",
    "print(labels)\n",
    "print(tokenizer.tokenize(input_str))\n",
    "decoded_with_special = tokenizer.decode(labels, skip_special_tokens=False)\n",
    "decoded_str = tokenizer.decode(labels, skip_special_tokens=True)\n",
    "\n",
    "print(f\"Input:                 {input_str}\")\n",
    "print(f\"Decoded w/ special:    {decoded_with_special}\")\n",
    "print(f\"Decoded w/out special: {decoded_str}\")\n",
    "print(f\"Are equal:             {input_str == decoded_str}\")"
   ]
  },
  {
   "cell_type": "code",
   "execution_count": null,
   "metadata": {
    "colab": {
     "base_uri": "https://localhost:8080/"
    },
    "id": "8ifC9O9ev6Yk",
    "outputId": "ab4af8d6-2edb-4d89-fd1d-bb2e50dc3c63"
   },
   "outputs": [],
   "source": [
    "!pip install PyArabic"
   ]
  },
  {
   "cell_type": "code",
   "execution_count": null,
   "metadata": {
    "colab": {
     "base_uri": "https://localhost:8080/"
    },
    "id": "p-uAUtrPvxnu",
    "outputId": "c7c45edf-4b54-4a4f-afed-cac6b494f013"
   },
   "outputs": [],
   "source": [
    "import pyarabic.araby as araby\n",
    "\n",
    "before_filter=\"هو أننا فقط أخذنا وقت طويل جداً بالتفكير بالماضي حيناً وبالمستقبل حيناً آخر في نفس الفترة الزمنية وراح الحاضر بدون ما نحس هذا بالضبط اللي خلينا نفقد التركيز ويسمح للقلق والتوتر بالسيطرة على عقولنا وأفكارنا وهنا تجي فائدة اللي يقظه الذهنية اللي تساعدنا على تجنب هذا التأثير السلبي\"\n",
    "after_filter = araby.strip_diacritics(before_filter)\n",
    "print(before_filter)\n",
    "print(after_filter)\n",
    "print(before_filter==after_filter)"
   ]
  },
  {
   "cell_type": "markdown",
   "metadata": {
    "id": "X1rkZvuOMew2"
   },
   "source": [
    "So only clean the text as in remove the punctuation and diacritics, the other records are deleted/fixed from the dataset itself."
   ]
  },
  {
   "cell_type": "code",
   "execution_count": null,
   "metadata": {
    "colab": {
     "base_uri": "https://localhost:8080/",
     "height": 49,
     "referenced_widgets": [
      "0b854c427242424fbe6585d869f524c1",
      "071276e788934597b8e12c3b985b1b9d",
      "ce55bdc9afd84f7b848408de4f339640",
      "78e536e3400344248b61b9dc175109c0",
      "bfc081decd4b4d179b79f989fd213a42",
      "207ca4f862914bbc844ba1ca798f90f4",
      "c03b88c488e645a28e173cb0ffa26174",
      "d72b0e21e7b045a7bbec1b05c255c01e",
      "94106da61b1b4040a6fadef0e7a3425e",
      "df7753aadb3f441f86e72e874f89b048",
      "a93a5ca280a947839ca62490cb1a74f0"
     ]
    },
    "id": "Gtkxqbd7WJlb",
    "outputId": "ee8367aa-2e76-4062-e4ed-e5d56728c5af"
   },
   "outputs": [],
   "source": [
    "import re\n",
    "import pyarabic.araby as araby\n",
    "\n",
    "# remove full stop, comma, question mark\n",
    "def remove_fullstop_and_questionmark(text):\n",
    "    return re.sub(r'[.?،\\-؟]', '', text)\n",
    "\n",
    "def clean_text(example):\n",
    "    example['transcription'] = remove_fullstop_and_questionmark(example['transcription'])\n",
    "    return example\n",
    "\n",
    "my_dataset['train'] = my_dataset['train'].map(clean_text)"
   ]
  },
  {
   "cell_type": "code",
   "execution_count": null,
   "metadata": {
    "colab": {
     "base_uri": "https://localhost:8080/",
     "height": 156,
     "referenced_widgets": [
      "ff7643548d294a97b1a2c4a12d8e75ba",
      "e60fee3171b94ff29dd7e4753c697ac1",
      "a63cf95a8e504d9f9c902c0967d104b9",
      "da25c12bfea94a0289b0ba6038787bc9",
      "4e898bd20eb64862af12be72c16a7567",
      "6eed389f174d4f2badfaae327c603789",
      "52fd21c36a9240dab34e619d61b7fe8f",
      "bb75fedf88474a0bba20315114105e40",
      "7a24831d5ade469b87ade44954abd4c8",
      "923f030dca2248e5aeb31e6eba6a5be1",
      "dce7c2a1c94a451e927daefce42e029e"
     ]
    },
    "id": "2qLuhX0qAWsm",
    "outputId": "3315a5e6-71a9-4ef3-d502-61a6317bc873"
   },
   "outputs": [],
   "source": [
    "# remove diacritic\n",
    "def remove_diacritic(example):\n",
    "    example['transcription'] = araby.strip_diacritics(example['transcription'])\n",
    "    return example\n",
    "\n",
    "my_dataset['train'] = my_dataset['train'].map(remove_diacritic)\n",
    "print(my_dataset)"
   ]
  },
  {
   "cell_type": "code",
   "execution_count": null,
   "metadata": {
    "colab": {
     "base_uri": "https://localhost:8080/"
    },
    "id": "_EiAuwJbX1ag",
    "outputId": "7a2f6fc1-6b93-4b97-f919-0439b7c925f8"
   },
   "outputs": [],
   "source": [
    "# check if removed\n",
    "import re\n",
    "\n",
    "# filter rows that have anything other than letters\n",
    "def filter_dataset(dataset):\n",
    "    filtered_rows = []\n",
    "    for i in range(len(dataset['transcription'])):\n",
    "        if bool(re.search(r'[^A-Za-z\\u0621-\\u064A\\s]', dataset['transcription'][i])):\n",
    "            filtered_rows.append(i)\n",
    "\n",
    "    return dataset.select(filtered_rows)\n",
    "\n",
    "filtered_dataset2 = filter_dataset(my_dataset['train'])\n",
    "\n",
    "print(filtered_dataset2)\n",
    "\n",
    "for i in range(len(filtered_dataset2)):\n",
    "  print(filtered_dataset2[i]['audio']['path'])\n",
    "  print(filtered_dataset2[i]['transcription'])\n",
    "  print(\"\\n\")"
   ]
  },
  {
   "cell_type": "markdown",
   "metadata": {
    "id": "tRqBrdKUv25D"
   },
   "source": [
    "Hear some audios"
   ]
  },
  {
   "cell_type": "code",
   "execution_count": null,
   "metadata": {
    "colab": {
     "base_uri": "https://localhost:8080/"
    },
    "id": "tFzAJp99v25D",
    "outputId": "7aaba32d-3310-42e9-ab95-b0af6efc27ec"
   },
   "outputs": [],
   "source": [
    "import random\n",
    "\n",
    "rand_int = random.randint(0, len(my_dataset['train'])-1)\n",
    "print(my_dataset['train'][rand_int])"
   ]
  },
  {
   "cell_type": "code",
   "execution_count": null,
   "metadata": {
    "colab": {
     "base_uri": "https://localhost:8080/",
     "height": 113
    },
    "id": "cyOuSQfcv25D",
    "outputId": "4add890b-7155-4918-cac5-3ebdce1d411f"
   },
   "outputs": [],
   "source": [
    "import IPython.display as ipd\n",
    "\n",
    "print(my_dataset['train'][rand_int][\"transcription\"])\n",
    "ipd.Audio(data=my_dataset['train'][rand_int][\"audio\"][\"array\"], autoplay=True, rate=my_dataset['train'][rand_int][\"audio\"][\"sampling_rate\"])"
   ]
  },
  {
   "cell_type": "code",
   "execution_count": null,
   "metadata": {
    "colab": {
     "base_uri": "https://localhost:8080/"
    },
    "id": "6VYPESo2WLBY",
    "outputId": "a86d8cd6-36ef-42fb-8614-1ea7829fb1bb"
   },
   "outputs": [],
   "source": [
    "# split the dataset for testing n validation\n",
    "\n",
    "my_dataset = my_dataset[\"train\"].train_test_split(test_size=0.3, seed=42)\n",
    "my_dataset"
   ]
  },
  {
   "cell_type": "code",
   "execution_count": null,
   "metadata": {
    "colab": {
     "base_uri": "https://localhost:8080/"
    },
    "id": "ZY-GjZqtr9v3",
    "outputId": "55b8e380-9faa-4eff-89d1-df2036df4e48"
   },
   "outputs": [],
   "source": [
    "my_dataset_test = my_dataset['test'].train_test_split(test_size=0.5, seed=42)\n",
    "print(my_dataset_test)"
   ]
  },
  {
   "cell_type": "code",
   "execution_count": null,
   "metadata": {
    "colab": {
     "base_uri": "https://localhost:8080/"
    },
    "id": "8ea-DWjzsIJi",
    "outputId": "5d44a6af-73df-4135-9ce4-05462116d30b"
   },
   "outputs": [],
   "source": [
    "my_dataset['validation'] = my_dataset_test['train']\n",
    "my_dataset['test'] = my_dataset_test['test']\n",
    "print(my_dataset)"
   ]
  },
  {
   "cell_type": "code",
   "execution_count": null,
   "metadata": {
    "colab": {
     "base_uri": "https://localhost:8080/",
     "height": 49,
     "referenced_widgets": [
      "b38dd66c602c477ab60fec2e2fd23c6e",
      "06c92e339a9e4b2eb14efd2124da792a",
      "729ad9a189554960ac784a19a6f991b2",
      "e1ebc9f0acd84cd3ba7ce13c4500098a",
      "b310eac6c19a456698677e1ba7ecd0d4",
      "b4189bec4031455f8a3e0d533aa5eaaa",
      "88778a76584f4c95bf03abe94fd319da",
      "983a15c5f881452d90be1e1d17891116",
      "462b97b92e5d4eb5ad854b95ab478ba0",
      "54e53f67ae534258bf9d866ac06115d1",
      "8a5752685dde447bad35971034caa39e"
     ]
    },
    "id": "ISfgygpHa38i",
    "outputId": "f5c3a171-370a-407d-de8a-dbf1bf4d770f"
   },
   "outputs": [],
   "source": [
    "# input to whisper should be log-mel, this is done automatically by the whisper feature extractor\n",
    "# it also performs padding and truncation\n",
    "\n",
    "from transformers import WhisperFeatureExtractor\n",
    "\n",
    "feature_extractor = WhisperFeatureExtractor.from_pretrained(\"openai/whisper-small\")"
   ]
  },
  {
   "cell_type": "code",
   "execution_count": null,
   "metadata": {
    "id": "MfbQW1VsdxcS"
   },
   "outputs": [],
   "source": [
    "# load the whisper tokenizer to convert map the indices predicted by model to text\n",
    "\n",
    "from transformers import WhisperTokenizer\n",
    "\n",
    "tokenizer = WhisperTokenizer.from_pretrained(\"openai/whisper-small\", language=\"Arabic\", task=\"transcribe\")"
   ]
  },
  {
   "cell_type": "code",
   "execution_count": null,
   "metadata": {
    "colab": {
     "base_uri": "https://localhost:8080/"
    },
    "id": "811tGIy_fFDv",
    "outputId": "bae76974-2b94-4962-b756-7b1be90122ef"
   },
   "outputs": [],
   "source": [
    "input_str = my_dataset[\"train\"][0][\"transcription\"]\n",
    "labels = tokenizer(input_str).input_ids # it returns a dict of input ids and attention mask so just get the input ids\n",
    "decoded_with_special = tokenizer.decode(labels, skip_special_tokens=False)\n",
    "decoded_str = tokenizer.decode(labels, skip_special_tokens=True)\n",
    "\n",
    "print(f\"Input:                 {input_str}\")\n",
    "print(f\"Decoded w/ special:    {decoded_with_special}\")\n",
    "print(f\"Decoded w/out special: {decoded_str}\")\n",
    "print(f\"Are equal:             {input_str == decoded_str}\")"
   ]
  },
  {
   "cell_type": "code",
   "execution_count": null,
   "metadata": {
    "id": "vFpGhaMYfsQP"
   },
   "outputs": [],
   "source": [
    "# can combine the tokenizer and feature extractor into one object\n",
    "\n",
    "from transformers import WhisperProcessor\n",
    "\n",
    "processor = WhisperProcessor.from_pretrained(\"openai/whisper-small\", language=\"Arabic\", task=\"transcribe\")"
   ]
  },
  {
   "cell_type": "code",
   "execution_count": null,
   "metadata": {
    "colab": {
     "base_uri": "https://localhost:8080/"
    },
    "id": "uFHUNiC6gMpz",
    "outputId": "2271e9c4-df61-4579-9f5e-d4eb2bd4805c"
   },
   "outputs": [],
   "source": [
    "print(my_dataset[\"train\"][0])"
   ]
  },
  {
   "cell_type": "code",
   "execution_count": null,
   "metadata": {
    "id": "Gl5bbjkqgTxf"
   },
   "outputs": [],
   "source": [
    "# need to sample the audio to match whisper's sampling rate, this does it on the fly when audio is loaded\n",
    "\n",
    "from datasets import Audio\n",
    "\n",
    "my_dataset = my_dataset.cast_column(\"audio\", Audio(sampling_rate=16000))"
   ]
  },
  {
   "cell_type": "code",
   "execution_count": null,
   "metadata": {
    "colab": {
     "base_uri": "https://localhost:8080/"
    },
    "id": "YFQNbzBPheHd",
    "outputId": "564ca8db-ed87-4624-851f-afbbfb94ba57"
   },
   "outputs": [],
   "source": [
    "print(my_dataset[\"train\"][0])"
   ]
  },
  {
   "cell_type": "code",
   "execution_count": null,
   "metadata": {
    "id": "10H8ZZXuhgVq"
   },
   "outputs": [],
   "source": [
    "def prepare_dataset(batch):\n",
    "    # load and resample audio data 16kHz\n",
    "    audio = batch[\"audio\"]\n",
    "\n",
    "    # compute log-Mel input features from input audio array\n",
    "    batch[\"input_features\"] = feature_extractor(audio[\"array\"], sampling_rate=audio[\"sampling_rate\"]).input_features[0] # its a batch\n",
    "\n",
    "    # encode target text to label ids\n",
    "    batch[\"labels\"] = tokenizer(batch[\"transcription\"]).input_ids\n",
    "    return batch"
   ]
  },
  {
   "cell_type": "code",
   "execution_count": null,
   "metadata": {
    "colab": {
     "base_uri": "https://localhost:8080/",
     "height": 113,
     "referenced_widgets": [
      "4b841f704e5547efb7045337a7e0047a",
      "6efc1e21097a46fb877e01abffe2819d",
      "fb99aaa99a1a482daf88aad0d8361ffd",
      "541f93781b9a43d3b661df947cd4772c",
      "a370ad9c3ece4a25834b4052d90d894a",
      "6d8d00927fbd47d68d5aa9deefe0715f",
      "45936a06dd224081a89476af4c36381e",
      "fe8fe7eff516495a9043cf3566f2c95d",
      "fa5a27b393114d6fa4d5e236ef26ad94",
      "0eca914f11b742b1b751421b9919022f",
      "693a0b452b604957a3890175feb8f68a",
      "5b386a4e4d6845e3b293930a7b74ef95",
      "2d898a80a71e41c5815f7345dd37f678",
      "c66c8640135043ca9a561207c1969082",
      "4d6d9224120f48acbd3a6d48d284f0a8",
      "55e06ebead23456b8b85555ca95d80c8",
      "684591e01143480aa45f6b7ee144fdd9",
      "5b3a97bb01664ec485e917a3bedb5317",
      "2578d89238134f9dbd07fa7d8e68e243",
      "6c1eb5e9b98a4ce78db72187f53ae952",
      "286d46ababe24b898944fb9599685ec6",
      "d42903049b0948859050eaaf603762a7",
      "a5445c4c402644ac923562633b71fdcc",
      "60c1520ae31e476d9ccc6e5f56d013ca",
      "34d827c38e8740b588dc704c62e680c6",
      "38a2870aa2c54abf89d4c217141d22e3",
      "918091c5d1304ffcb8ba633fd7c27251",
      "db24e2289fe64154a879921e1f889143",
      "824b7f5588d541d99456e0009295d9d7",
      "a0d0719dafaa43bf98eaba5ef8931852",
      "c46a3d7b7e564fb588cc7f4582ec30f1",
      "2da40e145b494e67ac1fabcf4fa17e30",
      "c58617652bce44f08c7e0a81e46d8364"
     ]
    },
    "id": "Hi4uCFqOCUGh",
    "outputId": "0c1850f8-8116-4131-ffe4-43912215e19c"
   },
   "outputs": [],
   "source": [
    "my_dataset = my_dataset.map(prepare_dataset, remove_columns=my_dataset.column_names[\"train\"], num_proc=4) # use num_proc=4 to make it process faster, if gives error remove it\n"
   ]
  },
  {
   "cell_type": "code",
   "execution_count": null,
   "metadata": {
    "colab": {
     "base_uri": "https://localhost:8080/",
     "height": 113,
     "referenced_widgets": [
      "0a3619c70bed477ea44499cef2070a39",
      "766c388b56fc4dfb9590a225bd1e6ad3",
      "acc2cf64ca48445d9e2629697994d2d8",
      "87235eb4f59c4be9b08b2fd7bb37aac4",
      "287a60d920ef45eeaa5265391c573302",
      "2c6e874206f94712b2bb57e088822808",
      "433ed700ea76466aa41b486078dabff4",
      "a1509443cf1540d09ad5a8a823b2a541",
      "7c4f55a5f3a44856a1e96d05164d8806",
      "d087d3f35a914e87ab5aa7741552024d",
      "b92e88a60db34836b41c264984a724b1",
      "64b05090d0ad49e083bf5f59ada3f024",
      "8a1959eed533494d9c0bef2858fd5b96",
      "3782d50ee89b4bcdb34e365019911631",
      "b8729d6294884aa9b3d0a338ea113eb5",
      "671bcc4649a846148fcb8b662bcacccf",
      "4b55ae748fcf44f2b925364269c52bf2",
      "5371b6a005d94c84a18ba5792a44024e",
      "3c438e0ae55c49bc856123ff419e598a",
      "9ea720b4d0524fbeb1e33239593c8264",
      "c8c0f823abd94db5b26dbe996c16dc49",
      "0b4c19b9b9284682883025bd25b7cd0e",
      "36683181bbea44bfb39b67d28e301f88",
      "71f0e3a435004f8984d3d1ec2f4cd45f",
      "fb4fc3c5ee4c403fb3dbbc012d49f238",
      "90719ad257d343c09b33333c81452a9e",
      "3d00fe1632de485a9194fc426585af76",
      "036be47786964224a2316fe3a3be09df",
      "41db8c9121724063a5d182e94ab831d2",
      "da52b41ddfde4015b4d9a797537d9bd7",
      "0e81f665028445ada86c3d226fa4e556",
      "e5978c20cf2b48519bf653b4910328f8",
      "10cf89f109d54f48ab2a55e76717a9fe"
     ]
    },
    "id": "jcnMTDyuDLu8",
    "outputId": "fdc73968-6626-4d78-eae6-24191e9c3d03"
   },
   "outputs": [],
   "source": [
    "# load the model\n",
    "\n",
    "from transformers import WhisperForConditionalGeneration\n",
    "\n",
    "model = WhisperForConditionalGeneration.from_pretrained(\"openai/whisper-small\")"
   ]
  },
  {
   "cell_type": "code",
   "execution_count": null,
   "metadata": {
    "colab": {
     "base_uri": "https://localhost:8080/",
     "height": 363,
     "referenced_widgets": [
      "4fdd8c57124f4ff997e40acf131e7056",
      "d19bc200a4534f0398a6e4e56dad6611",
      "050fc04dd7fe4b63be1c681051dc73f9",
      "f6f5d421a926410ea6bcb1fd5b7831e2",
      "9b21367c54b049f9ba84fd0007f471b5",
      "e3f01fc984624a55a9cefc093553dd66",
      "03db85db4b794e3c835f516c642f7402",
      "ecbcd40aed404e9d9070c7a6550b328d",
      "fce0320bf8334ee092aa4383836f6271",
      "8d6203dd87d24a0995e7051a81b2d94f",
      "0fcd7b018857464daa8906c41e67286e",
      "56a3468810044807b97867a6f7130a5a",
      "9628ee53cf0b4060b86be6cfb3af2b8b",
      "6fa3c1b9a2a448359b66ed850b24909e",
      "79df99069ef4483a814fd632b81bf611",
      "b10e03d370664a6fa0faf5013e07df16",
      "f903e98b7bef4aa08a214ee4999f867c",
      "61b463d9797241f4b2f554bf720a8f44",
      "b1fc5cde74f840c8887dd6fb3d5a4c76",
      "95b93849202c419d8a1da263e966af02",
      "6c48ec0428cf414a8879f9c129ea6e0d",
      "27dac3cee57f4665b20ec273debf9e90",
      "5bccc6112bc74a86be3de46d2b7b0667",
      "7acba0ba611a47a487ce3205436e6444",
      "389b4d4518694e5aa79b100ab55fb59e",
      "48b15c34b2234f0b8c5106636f53510d",
      "4e93cb146adf47c5bb1ca25f27cee92f",
      "ca6c78840b90456d9691252bc06e0e23",
      "3be441cf77b947e8af28de82aa8af561",
      "9e9399deac414bda802072fbdc598bf0",
      "1c965d6b9e27425597cf06cc02ee87d7",
      "710743b139464228ae253af3a45f4c93",
      "aa3e7b66a21d42e3b3e00306c7c4e7fc"
     ]
    },
    "id": "PLwavWMf_tz6",
    "outputId": "b1dea806-9a1d-4918-d8c0-df504b8d14fd"
   },
   "outputs": [],
   "source": [
    "# tokens in transcript can't be more than 448\n",
    "\n",
    "max_label_length = model.config.max_length\n",
    "def is_labels_in_length_range(labels):\n",
    "    return len(labels) < max_label_length\n",
    "\n",
    "my_dataset = my_dataset.filter(is_labels_in_length_range, num_proc=4, input_columns=[\"labels\"])\n",
    "print(my_dataset)"
   ]
  },
  {
   "cell_type": "code",
   "execution_count": null,
   "metadata": {
    "id": "Vn9y46BbD8N6"
   },
   "outputs": [],
   "source": [
    "model.generation_config.language = \"Arabic\"\n",
    "model.generation_config.task = \"transcribe\"\n",
    "\n",
    "model.generation_config.forced_decoder_ids = None # don't use the legacy method instead use the config above"
   ]
  },
  {
   "cell_type": "code",
   "execution_count": null,
   "metadata": {
    "id": "0PS6l5pxFpwz"
   },
   "outputs": [],
   "source": [
    "import torch\n",
    "\n",
    "from dataclasses import dataclass\n",
    "from typing import Any, Dict, List, Union\n",
    "\n",
    "@dataclass #decorator that provides init function\n",
    "class DataCollatorSpeechSeq2SeqWithPadding:\n",
    "    processor: Any\n",
    "    decoder_start_token_id: int\n",
    "\n",
    "    def __call__(self, features: List[Dict[str, Union[List[int], torch.Tensor]]]) -> Dict[str, torch.Tensor]:\n",
    "        # split inputs and labels since they have to be of different lengths and need different padding methods\n",
    "        # first treat the audio inputs by simply returning torch tensors\n",
    "        input_features = [{\"input_features\": feature[\"input_features\"]} for feature in features]\n",
    "        batch = self.processor.feature_extractor.pad(input_features, return_tensors=\"pt\") # pad the input audio and return tensors\n",
    "\n",
    "        # get the tokenized label sequences\n",
    "        label_features = [{\"input_ids\": feature[\"labels\"]} for feature in features]\n",
    "        # pad the labels to max length\n",
    "        labels_batch = self.processor.tokenizer.pad(label_features, return_tensors=\"pt\") # pad the transcript and return tensors\n",
    "\n",
    "        # replace padding with -100 to ignore loss correctly\n",
    "        labels = labels_batch[\"input_ids\"].masked_fill(labels_batch.attention_mask.ne(1), -100) #ne not equal to 1, means get padding tokens from attention mask and replace with -100 so the loss function can ignore them\n",
    "\n",
    "        # if bos token is appended in previous tokenization step,\n",
    "        # cut bos token here as it's append later anyways\n",
    "        if (labels[:, 0] == self.decoder_start_token_id).all().cpu().item():\n",
    "            labels = labels[:, 1:]\n",
    "\n",
    "        batch[\"labels\"] = labels\n",
    "\n",
    "        return batch\n"
   ]
  },
  {
   "cell_type": "code",
   "execution_count": null,
   "metadata": {
    "id": "2rWkWp7nOYi8"
   },
   "outputs": [],
   "source": [
    "data_collator = DataCollatorSpeechSeq2SeqWithPadding(\n",
    "    processor=processor,\n",
    "    decoder_start_token_id=model.config.decoder_start_token_id,\n",
    ")"
   ]
  },
  {
   "cell_type": "code",
   "execution_count": null,
   "metadata": {
    "colab": {
     "base_uri": "https://localhost:8080/",
     "height": 81,
     "referenced_widgets": [
      "cb2d228dfcf3437384274c1865873473",
      "d1ba97ab788742188518c14fba997339",
      "dd4449609f0c42e49f2f50bf6c24e3af",
      "17566287733f4da9b0158410aeb449b2",
      "1c9d4f00fc2846f3979578119983bd52",
      "43d0a763ee2940f2a42c449fe65b02bf",
      "74efa20837e949b687526b93083973c6",
      "07596fa5e45946c08575045022a44b65",
      "b3351af12e6245ddb1b54502bb2998e3",
      "79a833ab42b54ebf8cef76e8b301be7c",
      "bc0042937ae94502b07eef89f8d5fab4",
      "32f383df411d48e5a25dd95eab92b02b",
      "f47301b783de483e86c565570543c81a",
      "9a71b39d230c4c508f842f4251b00322",
      "ca46308ef8bd449ab0cda3c8b95357f9",
      "f8770e54d92b4279bd63f7858d759a15",
      "96cc808e1adc471e81a6b55f294fdc73",
      "45ccb28e30cc46d185d436255d3e990f",
      "df91173460f44250bb45ef5872024112",
      "fa898631c5374f708c03c9f6a4cadd5d",
      "75a138ebb9b3418f9145f59f71bdb028",
      "f25cca7d2c7d40eb94a6f0463d97633e"
     ]
    },
    "id": "pXUKE-PXObhp",
    "outputId": "ce0841dd-fb03-4f40-dca1-9fbb1f7dd898"
   },
   "outputs": [],
   "source": [
    "import evaluate\n",
    "\n",
    "metric = evaluate.load(\"wer\")\n",
    "metric2 = evaluate.load(\"cer\")"
   ]
  },
  {
   "cell_type": "code",
   "execution_count": null,
   "metadata": {
    "id": "FZKsFgspOyt7"
   },
   "outputs": [],
   "source": [
    "def compute_metrics(pred):\n",
    "    pred_ids = pred.predictions\n",
    "    label_ids = pred.label_ids\n",
    "\n",
    "    # replace -100 with the pad_token_id\n",
    "    label_ids[label_ids == -100] = tokenizer.pad_token_id\n",
    "\n",
    "    # we do not want to group tokens when computing the metrics\n",
    "    pred_str = tokenizer.batch_decode(pred_ids, skip_special_tokens=True) # use batch decode to get literal tokens for calculating error\n",
    "    label_str = tokenizer.batch_decode(label_ids, skip_special_tokens=True)\n",
    "\n",
    "    wer = 100 * metric.compute(predictions=pred_str, references=label_str)\n",
    "    cer = 100 * metric2.compute(predictions=pred_str, references=label_str)\n",
    "\n",
    "    return {\"wer\": wer, \"cer\":cer}"
   ]
  },
  {
   "cell_type": "code",
   "execution_count": null,
   "metadata": {
    "colab": {
     "base_uri": "https://localhost:8080/"
    },
    "id": "UuxjJc1fRZZ-",
    "outputId": "89c9180f-1fad-4fe8-87fc-883f2ef70ceb"
   },
   "outputs": [],
   "source": [
    "from transformers import Seq2SeqTrainingArguments\n",
    "\n",
    "training_args = Seq2SeqTrainingArguments(\n",
    "    output_dir=\"./whisper-small-informal-arabic-new\",  # change small if diff checkpoint\n",
    "    per_device_train_batch_size=16, # this can be reduced if out of memory\n",
    "    gradient_accumulation_steps=1,  # increase by 2x for every 2x decrease in batch size, accumulate gradients before updating weights when using big batch size to help w memory\n",
    "    learning_rate=1e-5,\n",
    "    warmup_steps=200, # for lr\n",
    "    max_steps=2000, # train for max steps\n",
    "    gradient_checkpointing=True, # keep subset of activatons in fp n calculate again in bp for memory\n",
    "    fp16=True, # mixed preciison training with 16 bits instead of 32 for faster training n memory\n",
    "    evaluation_strategy=\"steps\", # steps not epoch\n",
    "    per_device_eval_batch_size=8,\n",
    "    predict_with_generate=True,\n",
    "    generation_max_length=225, # tokens\n",
    "    save_steps=1000,\n",
    "    eval_steps=1000,\n",
    "    logging_steps=25,\n",
    "    report_to=[\"tensorboard\"],\n",
    "    load_best_model_at_end=True,\n",
    "    metric_for_best_model=\"wer\",\n",
    "    greater_is_better=False, # because lower wer is better\n",
    "    push_to_hub=True,\n",
    ")"
   ]
  },
  {
   "cell_type": "code",
   "execution_count": null,
   "metadata": {
    "colab": {
     "base_uri": "https://localhost:8080/"
    },
    "id": "T9Cletk8RaPy",
    "outputId": "c6b0360f-f8b1-4dcb-d09f-332f1ce30200"
   },
   "outputs": [],
   "source": [
    "from transformers import Seq2SeqTrainer\n",
    "\n",
    "trainer = Seq2SeqTrainer(\n",
    "    args=training_args,\n",
    "    model=model,\n",
    "    train_dataset=my_dataset[\"train\"],\n",
    "    eval_dataset=my_dataset[\"validation\"],\n",
    "    data_collator=data_collator,\n",
    "    compute_metrics=compute_metrics,\n",
    "    tokenizer=processor.feature_extractor,\n",
    ")"
   ]
  },
  {
   "cell_type": "code",
   "execution_count": null,
   "metadata": {
    "colab": {
     "base_uri": "https://localhost:8080/",
     "height": 131
    },
    "id": "5qtVU-ysRl1i",
    "outputId": "cf1060d4-58db-41bb-80db-71de8256f1eb"
   },
   "outputs": [],
   "source": [
    "trainer.train()"
   ]
  },
  {
   "cell_type": "code",
   "execution_count": null,
   "metadata": {
    "colab": {
     "base_uri": "https://localhost:8080/",
     "height": 88
    },
    "id": "9Y5fqvCbbH6H",
    "outputId": "be1c4964-3120-4896-8d33-8501ca1eac5f"
   },
   "outputs": [],
   "source": [
    "# write meta data\n",
    "kwargs = {\n",
    "    \"dataset\": \"Informal Arabic\",\n",
    "    \"language\": [\"ar\"],\n",
    "    \"model_name\": \"Whisper Medium Informal Arabic\",\n",
    "    \"finetuned_from\": \"openai/whisper-small\", # should be changed if we use diff checkpoint\n",
    "    \"tags\": [\"automatic-speech-recognition\", \"arabic\"],\n",
    "    \"tasks\": \"automatic-speech-recognition\",\n",
    "}\n",
    "trainer.push_to_hub(**kwargs)"
   ]
  },
  {
   "cell_type": "markdown",
   "metadata": {
    "id": "AGZdE0zBiGYS"
   },
   "source": [
    "References:\n",
    "\n",
    "-https://huggingface.co/blog/fine-tune-whisper\n"
   ]
  }
 ],
 "metadata": {
  "accelerator": "GPU",
  "colab": {
   "gpuType": "T4",
   "machine_shape": "hm",
   "provenance": []
  },
  "kernelspec": {
   "display_name": "Python 3",
   "name": "python3"
  },
  "language_info": {
   "codemirror_mode": {
    "name": "ipython",
    "version": 3
   },
   "file_extension": ".py",
   "mimetype": "text/x-python",
   "name": "python",
   "nbconvert_exporter": "python",
   "pygments_lexer": "ipython3",
   "version": "3.11.5"
  }
 },
 "nbformat": 4,
 "nbformat_minor": 0
}
