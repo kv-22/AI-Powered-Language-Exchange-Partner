{
 "cells": [
  {
   "cell_type": "code",
   "execution_count": null,
   "metadata": {
    "colab": {
     "base_uri": "https://localhost:8080/"
    },
    "id": "CMdMfk3rnGrx",
    "outputId": "334569bc-45b4-48ee-8f7f-202de7b399ca"
   },
   "outputs": [],
   "source": [
    "!pip install transformers datasets torchaudio jiwer librosa evaluate"
   ]
  },
  {
   "cell_type": "code",
   "execution_count": null,
   "metadata": {
    "colab": {
     "base_uri": "https://localhost:8080/",
     "height": 17,
     "referenced_widgets": [
      "d25cb6500abb450fb2de60d13c1602a6",
      "7446cf9e1b60403e97f075131a36505e",
      "6acd180cd701471da75a7971339d44e3",
      "b9211d48a8b04e118eaaee96947a1a04",
      "b929cd6c38604daf802112343498499a",
      "ed844fed3ba2494ab0e99ffe7bb2e7ce",
      "730bf14684914396b86463380e7dc11b",
      "c9a9d7d89b164b69857a92b51ea17757",
      "ca8b20b4d2d84f18addcabe6b912a6be",
      "24239a6d870240a884729ecce77cc3ec",
      "91071f1d0b914d53b47bd95f39c08331",
      "c9df975c8f8b48759fcbf9f2ba672213",
      "8e9d71376447417d9af8c0f636715cb3",
      "517caa318517450084433fed75feb427",
      "d00a91bb14514e0894bb35ba125a40ad",
      "59b504ce4fc146efa52c61d8948f9420",
      "9a67dca511854d97a1718afd4370fb8e",
      "c7359e5361b1479ba28f1c10e16ade87",
      "048c26c781ab43e398992dba3f9b11da",
      "0f61465f39c44378bdf32c0425819b8e"
     ]
    },
    "id": "Xx7ibogts1wz",
    "outputId": "eb36cc2a-5e48-432b-fb5f-8b3210698ec1"
   },
   "outputs": [],
   "source": [
    "from huggingface_hub import notebook_login\n",
    "\n",
    "notebook_login()"
   ]
  },
  {
   "cell_type": "code",
   "execution_count": null,
   "metadata": {
    "colab": {
     "base_uri": "https://localhost:8080/"
    },
    "id": "HhyjQVNInIYQ",
    "outputId": "05df73ce-fa37-4f9c-d525-fcd587ab2305"
   },
   "outputs": [],
   "source": [
    "from google.colab import drive\n",
    "drive.mount('/content/drive', force_remount=True)"
   ]
  },
  {
   "cell_type": "code",
   "execution_count": null,
   "metadata": {
    "colab": {
     "base_uri": "https://localhost:8080/",
     "height": 220,
     "referenced_widgets": [
      "6b19a181bb484871be48413ddde599fe",
      "49908ff604c14ce7a5b89b10181ccfcd",
      "7eb6cb3620454f148c6ba04379fd93bb",
      "fff807997bb445089a5a094d7a54fb5d",
      "c8b765412c044ad3b4c3148c7d8cae40",
      "318a084c57494f7a9df307829a4f7a29",
      "f7ac32649d1f4f3594999157575f13df",
      "fcd5cc6e9dde4de4b90b9b9f2b0a83d1",
      "f0af6a83c3cc4d9188d8ff8434728234",
      "97f876da79214b58861b44cf6d206891",
      "8e30f1801030465b9f33f3f4ca0f9733",
      "a01caf2d25fa4ca9a84d9041eaee562e",
      "c7aa43ab35f04e1cba44db05fcc96109",
      "82f0de8d414f40cd890a78e52cc624c0",
      "5b1b79053fb54c698dab27dcf90d6d11",
      "3f547af476ea4c7c935f8c15ec07ad4a",
      "d5128a26b507441697d655de9aeba128",
      "31d395290ac44fb6a355766522b8d3f0",
      "811bf4a7e5e74d34b3dae56efe282c98",
      "752aaab1ae644e87afbb987db5f6f6f2",
      "279154aedd014565b657b8a73bc9d50a",
      "d87facb26943464bbd944011bafd3428",
      "d44883cbd63a4f16b45fcf7fd9b97abe",
      "38eff59d3dca41b6a8bccd5e00ecccdf",
      "593a0002456c41b1a6c5999949fbcbd6",
      "dbf6ed6984e74385916dd64427fdfc7c",
      "a164bb29f44948e1af95cd0766ad6ba3",
      "efe11a2fc7824c2885da2b851978380b",
      "eb4bafd18718488e89f074588d72137e",
      "de99d9d9524d4614b2db00e78c001388",
      "9d05fa45f5ea40afbefcfbe9a64ff42e",
      "661ef4a3918f44a8a6bf4cf5138e0fde",
      "644a9eff4a474215a03cc9f230adb2d7"
     ]
    },
    "id": "oBVidZ03lzfT",
    "outputId": "3a542330-b9a0-45ce-f6e9-b1043f98c8ca"
   },
   "outputs": [],
   "source": [
    "from datasets import load_dataset, DatasetDict\n",
    "\n",
    "dataset = DatasetDict()\n",
    "dataset[\"train\"] = load_dataset(\"/content/drive/My Drive/dataset_new\", split='train')\n",
    "\n",
    "print(dataset)"
   ]
  },
  {
   "cell_type": "code",
   "execution_count": null,
   "metadata": {
    "id": "Tsd429O-9T5W"
   },
   "outputs": [],
   "source": [
    "# Get column names to identify the second column\n",
    "column_names = dataset[\"train\"].column_names\n",
    "second_column = column_names[1]  # Get the second column name\n",
    "second_column"
   ]
  },
  {
   "cell_type": "code",
   "execution_count": null,
   "metadata": {
    "colab": {
     "base_uri": "https://localhost:8080/"
    },
    "id": "f1llKNQB4fVq",
    "outputId": "dca5b234-ecfb-46e3-d2cd-32c9352dc037"
   },
   "outputs": [],
   "source": [
    "import re\n",
    "\n",
    "# filter rows that have anything other than letters\n",
    "def filter_dataset_2(dataset):\n",
    "    filtered_rows = []\n",
    "    for i in range(len(dataset['transcription'])):\n",
    "        if bool(re.search(r'[^A-Za-z\\u0621-\\u064A\\s]', dataset['transcription'][i])):\n",
    "            filtered_rows.append(i)\n",
    "\n",
    "    return dataset.select(filtered_rows)\n",
    "\n",
    "filtered_dataset2 = filter_dataset_2(dataset['train'])\n",
    "\n",
    "print(filtered_dataset2)"
   ]
  },
  {
   "cell_type": "code",
   "execution_count": null,
   "metadata": {
    "id": "AvrY0L8LHuZl"
   },
   "outputs": [],
   "source": [
    "for i in range(len(filtered_dataset2)):\n",
    "  print(filtered_dataset2[i]['audio']['path'])\n",
    "  print(filtered_dataset2[i]['transcription'])\n",
    "  print(\"\\n\")"
   ]
  },
  {
   "cell_type": "code",
   "execution_count": null,
   "metadata": {
    "id": "XdOL2Qxq8vw9"
   },
   "outputs": [],
   "source": [
    "import re\n",
    "\n",
    "# filter rows that have both eng and arabic\n",
    "def filter_dataset_3(dataset):\n",
    "    filtered_rows = []\n",
    "    for i in range(len(dataset['transcription'])):\n",
    "        if bool(re.search(r'[A-Za-z]', dataset['transcription'][i]) and re.search(r'[\\u0600-\\u06FF]', dataset['transcription'][i])):\n",
    "            filtered_rows.append(i)\n",
    "\n",
    "    return dataset.select(filtered_rows)\n",
    "\n",
    "filtered_dataset3 = filter_dataset_3(dataset['train'])\n",
    "\n",
    "print(filtered_dataset3)"
   ]
  },
  {
   "cell_type": "code",
   "execution_count": null,
   "metadata": {
    "id": "KcPaohSz9H-A"
   },
   "outputs": [],
   "source": [
    "for i in range(len(filtered_dataset3)):\n",
    "  print(filtered_dataset3[i]['audio']['path'])\n",
    "  print(filtered_dataset3[i]['transcription'])\n",
    "  print(\"\\n\")"
   ]
  },
  {
   "cell_type": "code",
   "execution_count": null,
   "metadata": {
    "colab": {
     "base_uri": "https://localhost:8080/"
    },
    "id": "-iRlv3PP99qz",
    "outputId": "947fd991-bf01-4642-fd38-2b8d53b8110e"
   },
   "outputs": [],
   "source": [
    "!pip install PyArabic"
   ]
  },
  {
   "cell_type": "code",
   "execution_count": null,
   "metadata": {
    "colab": {
     "base_uri": "https://localhost:8080/",
     "height": 49,
     "referenced_widgets": [
      "cfaec9262278422ba8082ec7376ad499",
      "f0ebcd1f9b214912a5450add0b0b0229",
      "350496c63b9c42ee9f7da742dbcabfff",
      "24a9233401e4441fb8f9dd03c8f70ec2",
      "68f2260713aa4e84bb59871783b7ff1a",
      "d97ba1e1f4034fa8a68fdb0eac07e593",
      "d4a6a27c8fd44114949a9b8d33b37ec4",
      "0359b6d422754f34ba8bd2637bdf4337",
      "c21f90466e36403e86c7c48367b34003",
      "80b1fadaea664f1fa7c8776fdc665469",
      "295b211bedb843cb9a9d87cc70c6402e"
     ]
    },
    "id": "W7v346hSCsx3",
    "outputId": "5c0f3937-5584-42ae-e701-500b019c36f8"
   },
   "outputs": [],
   "source": [
    "import re\n",
    "import pyarabic.araby as araby\n",
    "\n",
    "# remove punctuation etc\n",
    "def remove_punctuation(text):\n",
    "    return re.sub(r'[.?،\\-؟]', '', text)\n",
    "\n",
    "def clean_text(example):\n",
    "    example['transcription'] = remove_punctuation(example['transcription'])\n",
    "    return example\n",
    "\n",
    "dataset['train'] = dataset['train'].map(clean_text)"
   ]
  },
  {
   "cell_type": "code",
   "execution_count": null,
   "metadata": {
    "colab": {
     "base_uri": "https://localhost:8080/",
     "height": 156,
     "referenced_widgets": [
      "6f91a2e60e0048f7abca75ff0e81f7bf",
      "05640d8b3b2846da812ea8566b856dc5",
      "814d13484cfe460a9dba995df9b51ea6",
      "ffe870790e85499aa0aef0883c701be8",
      "91bc66da0b9243a0a5b9bc1eb33617a7",
      "76cdc8ba4bc44e0c9151b359697a41e5",
      "20898ac7f67a49028cffede6a2158f4a",
      "8e3934a7c53e4f4594c3250309bdd988",
      "2c4a3e941317414fb49f2449ba8a3ede",
      "34490bde2f95467eb138b102833f106a",
      "90d18c8d25714b269df23946f1cb726d"
     ]
    },
    "id": "HsQw6SZu9WFY",
    "outputId": "3cae11b6-4343-4ca6-b717-5dac6479c8dd"
   },
   "outputs": [],
   "source": [
    "# remove diacritic\n",
    "def remove_diacritic(example):\n",
    "    example['transcription'] = araby.strip_diacritics(example['transcription'])\n",
    "    return example\n",
    "\n",
    "dataset['train'] = dataset['train'].map(remove_diacritic)\n",
    "print(dataset)"
   ]
  },
  {
   "cell_type": "code",
   "execution_count": null,
   "metadata": {
    "id": "MUXd558J-XXG"
   },
   "outputs": [],
   "source": [
    "filtered_dataset2 = filter_dataset_2(dataset['train'])\n",
    "\n",
    "print(filtered_dataset2)\n",
    "\n",
    "for i in range(len(filtered_dataset2)):\n",
    "  print(filtered_dataset2[i]['audio']['path'])\n",
    "  print(filtered_dataset2[i]['transcription'])\n",
    "  print(\"\\n\")"
   ]
  },
  {
   "cell_type": "code",
   "execution_count": null,
   "metadata": {
    "colab": {
     "base_uri": "https://localhost:8080/"
    },
    "id": "DhBozeUSDKif",
    "outputId": "e86db625-73f4-46c7-8a68-b5de32cf43a1"
   },
   "outputs": [],
   "source": [
    "# split the dataset for testing n validation\n",
    "\n",
    "dataset = dataset[\"train\"].train_test_split(test_size=0.3, seed=42)\n",
    "dataset"
   ]
  },
  {
   "cell_type": "code",
   "execution_count": null,
   "metadata": {
    "colab": {
     "base_uri": "https://localhost:8080/"
    },
    "id": "QcQQ1_xKDK_4",
    "outputId": "bd30b622-8476-4d52-b9fc-b9512a3ebb01"
   },
   "outputs": [],
   "source": [
    "my_dataset_test = dataset['test'].train_test_split(test_size=0.5, seed=42)\n",
    "print(my_dataset_test)"
   ]
  },
  {
   "cell_type": "code",
   "execution_count": null,
   "metadata": {
    "colab": {
     "base_uri": "https://localhost:8080/"
    },
    "id": "L6ULYdNgDN8E",
    "outputId": "d9dfdb2b-1224-46f1-ecf3-8c8348930981"
   },
   "outputs": [],
   "source": [
    "dataset['validation'] = my_dataset_test['train']\n",
    "dataset['test'] = my_dataset_test['test']\n",
    "print(dataset)"
   ]
  },
  {
   "cell_type": "code",
   "execution_count": null,
   "metadata": {
    "id": "WdbHE5D56BEP"
   },
   "outputs": [],
   "source": [
    "test_set = []\n",
    "for i in range(len(dataset['test'])):\n",
    "  x = {}\n",
    "  x['file'] = dataset['test'][i]['audio']['path']\n",
    "  x['transcription'] = dataset['test'][i]['transcription']\n",
    "  test_set.append(x)"
   ]
  },
  {
   "cell_type": "code",
   "execution_count": null,
   "metadata": {
    "id": "YJuAJ18e6Kwp"
   },
   "outputs": [],
   "source": [
    "with open('test-wave.txt', 'w') as f:\n",
    "  for item in test_set:\n",
    "    f.write(f\"{item['file']}\\n\")"
   ]
  },
  {
   "cell_type": "code",
   "execution_count": null,
   "metadata": {
    "id": "qWTYaDZpF28M"
   },
   "outputs": [],
   "source": [
    "def extract_all_chars(batch):\n",
    "  all_text = \" \".join(batch[\"transcription\"])\n",
    "  print(all_text)\n",
    "  vocab = list(set(all_text))\n",
    "  print(vocab)\n",
    "  return {\"vocab\": [vocab], \"all_text\": [all_text]}\n"
   ]
  },
  {
   "cell_type": "code",
   "execution_count": null,
   "metadata": {
    "colab": {
     "base_uri": "https://localhost:8080/",
     "height": 258,
     "referenced_widgets": [
      "28eca1ccae5c4a15b7d4e27a3af81594",
      "59d79a6b92c24f0ba39fe7b7cbbc4312",
      "a52ac9044aea4c59a23c8667be7d1715",
      "e2a36882cde74796996135632b7eda0a",
      "c2642a15b27b4f34813b39297823306c",
      "8a8417900840468aaf24178501b812c5",
      "e7ce4f7ac9ac45c6a103577c0e31a60e",
      "866cf19a6e484099a4e77fb8cfcd879c",
      "2150f97c94da40d2ae6ae3fbd502dc87",
      "82714f0b9881476d92e78c91e98390f9",
      "d6fde038f5ee4e7b9ebc55ee0efb4038",
      "2d2cce87d41c44208737f977a078c984",
      "f4c520bcc53a41c89e9960f61da7e136",
      "05bc1330b33b42e6bfeff46fc42b5b35",
      "29db0eef4a254a1c8af7e9bc5861303f",
      "fd9331ecebb74849a9f8eb42dc5390cb",
      "84d98570ea7846c981329b8e70ced296",
      "f840bc710e9541939069bec1cc04853c",
      "d4e21c7b5d624f9e8a68389187456540",
      "490c9a0ee71942c68e5cb7827133930c",
      "2d9f98b9245541e98f4e47df3e629120",
      "889f0d276bdf47139246bb2a2d952220",
      "6786ab64836a4351a7c9e1c66928ca00",
      "f7bbb052db1e46bba90c201089cef758",
      "303ff5a1f3c64ffa992e2baf5ecc65ce",
      "7d0739e48b634a91852395ca799bb083",
      "60288c01328e4746baebe135c77c05ee",
      "cf390081102c4fd48c47b9a2364617ae",
      "e4d99f4f880f474298df6c8846889ac6",
      "8637e9d5fb734006a2bef3b670160186",
      "ba2faeff9edb45b3b72695caafcecce4",
      "8d22582232af4ac7b4d357a5adbdde49",
      "bde73de90a2b48cb824b39836cf28dd3"
     ]
    },
    "id": "tqWEYrtBNiAW",
    "outputId": "9a3a2d77-479d-4e66-a232-39e3237b068e"
   },
   "outputs": [],
   "source": [
    "vocab_train = dataset['train'].map(extract_all_chars, batched=True, batch_size=-1, keep_in_memory=True, remove_columns=dataset['train'].column_names)\n",
    "vocab_val = dataset['validation'].map(extract_all_chars, batched=True, batch_size=-1, keep_in_memory=True, remove_columns=dataset['validation'].column_names)\n",
    "vocab_test = dataset['test'].map(extract_all_chars, batched=True, batch_size=-1, keep_in_memory=True, remove_columns=dataset['test'].column_names)"
   ]
  },
  {
   "cell_type": "code",
   "execution_count": null,
   "metadata": {
    "id": "j2kenQtGH7-8"
   },
   "outputs": [],
   "source": [
    "# all distinct letters in the training dataset and test dataset\n",
    "\n",
    "vocab_list = list(set(vocab_train[\"vocab\"][0]) | set(vocab_test[\"vocab\"][0])| set(vocab_val[\"vocab\"][0]))"
   ]
  },
  {
   "cell_type": "code",
   "execution_count": null,
   "metadata": {
    "id": "_tjlI8xMPHh0"
   },
   "outputs": [],
   "source": [
    "print(len(vocab_list))"
   ]
  },
  {
   "cell_type": "code",
   "execution_count": null,
   "metadata": {
    "id": "_Wp78OozunH0"
   },
   "outputs": [],
   "source": [
    "print((vocab_list))"
   ]
  },
  {
   "cell_type": "code",
   "execution_count": null,
   "metadata": {
    "colab": {
     "base_uri": "https://localhost:8080/"
    },
    "id": "WzpwlxUnH_Ag",
    "outputId": "eab38603-b770-4c65-d7f5-56af31ae0d04"
   },
   "outputs": [],
   "source": [
    "vocab_dict = {k:v for k, v in enumerate(sorted(vocab_list))}\n",
    "vocab_dict"
   ]
  },
  {
   "cell_type": "code",
   "execution_count": null,
   "metadata": {
    "colab": {
     "base_uri": "https://localhost:8080/"
    },
    "id": "tyLHCMLaOiZF",
    "outputId": "bb6b3967-1334-43a1-e279-5b0bdfdb7f20"
   },
   "outputs": [],
   "source": [
    "vocab_dict2 = {}\n",
    "for k, v in vocab_dict.items():\n",
    "  vocab_dict2[v] = k\n",
    "print(vocab_dict2)"
   ]
  },
  {
   "cell_type": "code",
   "execution_count": null,
   "metadata": {
    "id": "0bSVLZ-zIhif"
   },
   "outputs": [],
   "source": [
    "# let space be | and remove new line\n",
    "\n",
    "vocab_dict = vocab_dict2\n",
    "vocab_dict[\"|\"] = vocab_dict[\" \"]\n",
    "del vocab_dict[\" \"]\n",
    "del vocab_dict[\"\\n\"]"
   ]
  },
  {
   "cell_type": "code",
   "execution_count": null,
   "metadata": {
    "id": "O34w7QCI_2p4"
   },
   "outputs": [],
   "source": [
    "vocab_dict"
   ]
  },
  {
   "cell_type": "code",
   "execution_count": null,
   "metadata": {
    "id": "41WsxPuh__zT"
   },
   "outputs": [],
   "source": [
    "len(vocab_dict)"
   ]
  },
  {
   "cell_type": "code",
   "execution_count": null,
   "metadata": {
    "colab": {
     "base_uri": "https://localhost:8080/"
    },
    "id": "M76KlJjiJPJu",
    "outputId": "c1e70db5-0d72-48c9-fefa-d6c922cc5c28"
   },
   "outputs": [],
   "source": [
    "# add unk and padding tokens\n",
    "\n",
    "vocab_dict[\"[UNK]\"] = len(vocab_dict) + 1 # plus one because the last char already has len as value\n",
    "vocab_dict[\"[PAD]\"] = len(vocab_dict) + 1\n",
    "len(vocab_dict)"
   ]
  },
  {
   "cell_type": "code",
   "execution_count": null,
   "metadata": {
    "id": "CnHPgQmYOqGb"
   },
   "outputs": [],
   "source": [
    "vocab_dict"
   ]
  },
  {
   "cell_type": "code",
   "execution_count": null,
   "metadata": {
    "id": "PC4G8OAuJccn"
   },
   "outputs": [],
   "source": [
    "# save the vocab\n",
    "\n",
    "import json\n",
    "with open('vocab.json', 'w') as vocab_file:\n",
    "    json.dump(vocab_dict, vocab_file)"
   ]
  },
  {
   "cell_type": "code",
   "execution_count": null,
   "metadata": {
    "id": "fPmVpxATJgj6"
   },
   "outputs": [],
   "source": [
    "from transformers import Wav2Vec2CTCTokenizer\n",
    "\n",
    "tokenizer = Wav2Vec2CTCTokenizer.from_pretrained(\"./\", unk_token=\"[UNK]\", pad_token=\"[PAD]\", word_delimiter_token=\"|\") # load vocab to the tokenizer"
   ]
  },
  {
   "cell_type": "code",
   "execution_count": null,
   "metadata": {
    "id": "RqMjWMptR8AI"
   },
   "outputs": [],
   "source": [
    "repo_name = \"wav2vec2-arabic-colab-f\""
   ]
  },
  {
   "cell_type": "code",
   "execution_count": null,
   "metadata": {
    "colab": {
     "base_uri": "https://localhost:8080/",
     "height": 106
    },
    "id": "0kZPA70JSBkM",
    "outputId": "3a984387-7b47-4142-b464-8deec08b3f84"
   },
   "outputs": [],
   "source": [
    "tokenizer.push_to_hub(repo_name)"
   ]
  },
  {
   "cell_type": "code",
   "execution_count": null,
   "metadata": {
    "id": "pIleC7Ko_7x_"
   },
   "outputs": [],
   "source": [
    "#input_str = filtered_dataset2[0][\"transcription\"]\n",
    "#labels = tokenizer(input_str).input_ids # it returns a dict of input ids and attention mask so just get the input ids\n",
    "#print(labels)\n",
    "#print(tokenizer.tokenize(input_str))\n",
    "#decoded_with_special = tokenizer.decode(labels, skip_special_tokens=False)\n",
    "#decoded_str = tokenizer.decode(labels, skip_special_tokens=True, group_tokens=False)\n",
    "\n",
    "#print(f\"Input:                 {input_str}\")\n",
    "#print(f\"Decoded w/ special:    {decoded_with_special}\")\n",
    "#print(f\"Decoded w/out special: {decoded_str}\")\n",
    "#print(f\"Are equal:             {input_str == decoded_str}\")"
   ]
  },
  {
   "cell_type": "code",
   "execution_count": null,
   "metadata": {
    "id": "PT33ozq5J0fH"
   },
   "outputs": [],
   "source": [
    "from transformers import Wav2Vec2FeatureExtractor\n",
    "\n",
    "feature_extractor = Wav2Vec2FeatureExtractor(feature_size=1, sampling_rate=16000, padding_value=0.0, do_normalize=True, return_attention_mask=True)"
   ]
  },
  {
   "cell_type": "code",
   "execution_count": null,
   "metadata": {
    "id": "o_Uh1VYTKAAQ"
   },
   "outputs": [],
   "source": [
    "# the feature extractor and tokenizer are wrapped into a single Wav2Vec2Processor class so that one only needs a model and processor object\n",
    "\n",
    "from transformers import Wav2Vec2Processor\n",
    "\n",
    "processor = Wav2Vec2Processor(feature_extractor=feature_extractor, tokenizer=tokenizer)"
   ]
  },
  {
   "cell_type": "code",
   "execution_count": null,
   "metadata": {
    "id": "ot6sGhnTKJtF"
   },
   "outputs": [],
   "source": [
    "# check the sampling rate\n",
    "\n",
    "dataset['train'][0][\"audio\"]"
   ]
  },
  {
   "cell_type": "code",
   "execution_count": null,
   "metadata": {
    "id": "mv4wMkhKKYC1"
   },
   "outputs": [],
   "source": [
    "# set the audio feature to the correct sampling rate\n",
    "\n",
    "from datasets import Audio\n",
    "\n",
    "dataset['train'] = dataset['train'].cast_column(\"audio\", Audio(sampling_rate=16_000))\n",
    "dataset['validation'] = dataset['validation'].cast_column(\"audio\", Audio(sampling_rate=16_000))"
   ]
  },
  {
   "cell_type": "code",
   "execution_count": null,
   "metadata": {
    "id": "epBoXha1LRxP"
   },
   "outputs": [],
   "source": [
    "dataset['train'][0][\"audio\"]"
   ]
  },
  {
   "cell_type": "code",
   "execution_count": null,
   "metadata": {
    "id": "Y354etU-LiSn"
   },
   "outputs": [],
   "source": [
    "# check that the data is correctly prepared\n",
    "\n",
    "import IPython.display as ipd\n",
    "import numpy as np\n",
    "import random\n",
    "\n",
    "rand_int = random.randint(0, len(dataset['train'])-1)\n",
    "\n",
    "print(dataset['train'][rand_int][\"transcription\"])\n",
    "ipd.Audio(data=dataset['train'][rand_int][\"audio\"][\"array\"], autoplay=True, rate=16000)"
   ]
  },
  {
   "cell_type": "code",
   "execution_count": null,
   "metadata": {
    "id": "rv00jI4PL9yg"
   },
   "outputs": [],
   "source": [
    "rand_int = random.randint(0, len(dataset['train'])-1)\n",
    "\n",
    "print(\"Target text:\", dataset['train'][rand_int][\"transcription\"])\n",
    "print(\"Input array shape:\", dataset['train'][rand_int][\"audio\"][\"array\"].shape)\n",
    "print(\"Sampling rate:\", dataset['train'][rand_int][\"audio\"][\"sampling_rate\"])"
   ]
  },
  {
   "cell_type": "code",
   "execution_count": null,
   "metadata": {
    "id": "CPASZ8L2M7wr"
   },
   "outputs": [],
   "source": [
    "# apply the data preparation function to all examples\n",
    "\n",
    "def prepare_dataset(batch):\n",
    "    audio = batch[\"audio\"]\n",
    "\n",
    "    # batched output is \"un-batched\"\n",
    "    batch[\"input_values\"] = processor(audio[\"array\"], sampling_rate=audio[\"sampling_rate\"]).input_values[0]\n",
    "    batch[\"input_length\"] = len(batch[\"input_values\"])\n",
    "\n",
    "    with processor.as_target_processor():\n",
    "        batch[\"labels\"] = processor(batch[\"transcription\"]).input_ids\n",
    "    return batch"
   ]
  },
  {
   "cell_type": "code",
   "execution_count": null,
   "metadata": {
    "colab": {
     "base_uri": "https://localhost:8080/",
     "height": 81,
     "referenced_widgets": [
      "6325890bd76f4c8fa449bdee810ed444",
      "a88027148508478fb5c2ae58db27d6e0",
      "a2a86a432bcd41518a1485a7e2828b9c",
      "486e8e0aac3844a8a8aa6cef1d694620",
      "76fb14dd659d46a69bf1da1a257fbdab",
      "8df2d9455c514484a066b739cb685ee0",
      "dba2ee29633d40cd8f6dad847cfcc0cd",
      "a1aeeb2a66c64ea9bff33acc07dd3ec3",
      "74ad865493cd4b9f8bd45eedfd8b65a9",
      "74293d45da2f4590811ae4c4250e5bcc",
      "3838069e8e484776a80efbbeba47a4a6",
      "8703f58400be4800bd1d24a02a0587c1",
      "740b75647dd943d89ae9e291d58167c9",
      "b7e28ca59c6e4743a8a1dc4d4e927c01",
      "3321ab261f7247ff839bfefd91c23d85",
      "a9b85c97229245bbb35977844a586241",
      "e9ada16582a143d69236118ed0adbbdd",
      "49fa9e9815e74354b145bedb0ba0fb22",
      "1dfdfcd4ecd048859e561fbdbcfd9b5a",
      "24e79715ba36420d9f94fff7eba7094b",
      "cac4eaf3282e41f18fc6f8caf0b14364",
      "37874f204ccb4cbf903fef83f2a6857c"
     ]
    },
    "id": "uj_dD4P2NGVe",
    "outputId": "6d3687be-f5dc-494b-b367-c2fc675947e4"
   },
   "outputs": [],
   "source": [
    "dataset['train'] = dataset['train'].map(prepare_dataset, remove_columns=dataset['train'].column_names)\n",
    "dataset['validation'] = dataset['validation'].map(prepare_dataset, remove_columns=dataset['validation'].column_names)"
   ]
  },
  {
   "cell_type": "code",
   "execution_count": null,
   "metadata": {
    "id": "tborvC9hx88e"
   },
   "outputs": [],
   "source": [
    "import torch\n",
    "\n",
    "from dataclasses import dataclass, field\n",
    "from typing import Any, Dict, List, Optional, Union\n",
    "\n",
    "@dataclass\n",
    "class DataCollatorCTCWithPadding:\n",
    "    \"\"\"\n",
    "    Data collator that will dynamically pad the inputs received.\n",
    "    Args:\n",
    "        processor (:class:`~transformers.Wav2Vec2Processor`)\n",
    "            The processor used for proccessing the data.\n",
    "        padding (:obj:`bool`, :obj:`str` or :class:`~transformers.tokenization_utils_base.PaddingStrategy`, `optional`, defaults to :obj:`True`):\n",
    "            Select a strategy to pad the returned sequences (according to the model's padding side and padding index)\n",
    "            among:\n",
    "            * :obj:`True` or :obj:`'longest'`: Pad to the longest sequence in the batch (or no padding if only a single\n",
    "              sequence if provided).\n",
    "            * :obj:`'max_length'`: Pad to a maximum length specified with the argument :obj:`max_length` or to the\n",
    "              maximum acceptable input length for the model if that argument is not provided.\n",
    "            * :obj:`False` or :obj:`'do_not_pad'` (default): No padding (i.e., can output a batch with sequences of\n",
    "              different lengths).\n",
    "    \"\"\"\n",
    "\n",
    "    processor: Wav2Vec2Processor\n",
    "    padding: Union[bool, str] = True\n",
    "\n",
    "    def __call__(self, features: List[Dict[str, Union[List[int], torch.Tensor]]]) -> Dict[str, torch.Tensor]:\n",
    "        # split inputs and labels since they have to be of different lenghts and need\n",
    "        # different padding methods\n",
    "        input_features = [{\"input_values\": feature[\"input_values\"]} for feature in features]\n",
    "        label_features = [{\"input_ids\": feature[\"labels\"]} for feature in features]\n",
    "\n",
    "        batch = self.processor.pad(\n",
    "            input_features,\n",
    "            padding=self.padding,\n",
    "            return_tensors=\"pt\",\n",
    "        )\n",
    "        with self.processor.as_target_processor():\n",
    "            labels_batch = self.processor.pad(\n",
    "                label_features,\n",
    "                padding=self.padding,\n",
    "                return_tensors=\"pt\",\n",
    "            )\n",
    "\n",
    "        # replace padding with -100 to ignore loss correctly\n",
    "        labels = labels_batch[\"input_ids\"].masked_fill(labels_batch.attention_mask.ne(1), -100)\n",
    "\n",
    "        batch[\"labels\"] = labels\n",
    "\n",
    "        return batch"
   ]
  },
  {
   "cell_type": "code",
   "execution_count": null,
   "metadata": {
    "id": "x1B1fk34Qd5O"
   },
   "outputs": [],
   "source": [
    "data_collator = DataCollatorCTCWithPadding(processor=processor, padding=True)"
   ]
  },
  {
   "cell_type": "code",
   "execution_count": null,
   "metadata": {
    "colab": {
     "base_uri": "https://localhost:8080/",
     "height": 81,
     "referenced_widgets": [
      "a26fccc7ffc44343a7c888bc64b99226",
      "920f79ea0db74f8b89c6af7dad075f39",
      "e3f528429245425cbe9c4ddfb1149e2b",
      "e79009bec13349c28d5974fb0f885382",
      "b901ddfeaf1a4212944bf582d339c858",
      "8c3a7e6552f44c85a940826bdb478972",
      "78aa347360934bf799aa951770459d3a",
      "0e716a91d8b548bfbe99f4b97b6a5983",
      "d47b7744f3864d37ba3f6f185b1392ad",
      "223589a8e82d46059365918d72c354d1",
      "ea93b2464a614c3494dcfbf882214891",
      "0525525e39664993bb12b82af3d7fde6",
      "0e5c536d89b94b919c850a1d5f3f376e",
      "091eb88e62b740648bc1b3df2425ff18",
      "92e6c7c4e602433980526872ca242cac",
      "c5def89a05de441293dfd463b5c7e64c",
      "7da3f1ff1bcf456eb4d55eb7cda86c6e",
      "cc7bf95b0333488dbd2a3dc708565de7",
      "d4d3ac8452254fef80b4a5951631a7c2",
      "cfdae1b18054400a8966f57d4108da4e",
      "4ee2028830214e4a92c7e5dac0b3a65f",
      "43385174e5944cc8b9db22eaafab8ae6"
     ]
    },
    "id": "ri_Smv16QlDP",
    "outputId": "66ecdb16-2dde-474d-b90d-599d03f62219"
   },
   "outputs": [],
   "source": [
    "import evaluate\n",
    "metric = evaluate.load(\"wer\")\n",
    "metric2 = evaluate.load(\"cer\")"
   ]
  },
  {
   "cell_type": "code",
   "execution_count": null,
   "metadata": {
    "id": "WoP9L6zCQ79S"
   },
   "outputs": [],
   "source": [
    "import numpy as np\n",
    "\n",
    "def compute_metrics(pred):\n",
    "    pred_logits = pred.predictions\n",
    "    pred_ids = np.argmax(pred_logits, axis=-1)\n",
    "\n",
    "    pred.label_ids[pred.label_ids == -100] = processor.tokenizer.pad_token_id\n",
    "\n",
    "    pred_str = processor.batch_decode(pred_ids)\n",
    "    # we do not want to group tokens when computing the metrics\n",
    "    label_str = processor.batch_decode(pred.label_ids, group_tokens=False)\n",
    "\n",
    "    with open('refs_and_preds.txt', 'w') as f:\n",
    "      for ref, pred in zip(label_str, pred_str):\n",
    "          f.write(f\"Ref: {ref}\\n\")\n",
    "          f.write(f\"Pred: {pred}\\n\\n\")\n",
    "\n",
    "    wer = 100 * metric.compute(predictions=pred_str, references=label_str)\n",
    "    cer = 100 * metric2.compute(predictions=pred_str, references=label_str)\n",
    "\n",
    "    return {\"wer\": wer, \"cer\":cer}\n"
   ]
  },
  {
   "cell_type": "code",
   "execution_count": null,
   "metadata": {
    "colab": {
     "base_uri": "https://localhost:8080/",
     "height": 137,
     "referenced_widgets": [
      "e35e727ec93f4a75a2288ae4ed570b3a",
      "e3c3f7aa85ac4ccca61da913f47be4b3",
      "da9c4297d3e04092a7dc2425da125f39",
      "a7d7d2275b2045e8adcb928195e90d42",
      "c95924d439934d839f8c7a35f32e6a45",
      "fba2130b38cb479a8822509adbcfce2f",
      "d5d23fd4293a417d8ce75c4db05952af",
      "b055dbe13cd347beb29c0fb1af575312",
      "96bd7d79161b410e9695e21d8ec1838b",
      "75ac978b7b884974a0012539f35e6d61",
      "f94b26fd3b1e45c485063d818078a79c",
      "ba291b36b8b14aa1bc68c22c7c0782f1",
      "67b27df8b7c74f33b45f438bec993107",
      "7dede2ae144c42ab82ca148988e5ff85",
      "5ef4a1ed312e433891ed96c20c696643",
      "a72be9deba3c46fa861d2b1f3bbdb64a",
      "e606d801bff048e4b452bc330c6969c4",
      "62cefb69b79a48f2aeb63bbba6480816",
      "0c6621de49514da9b636082d64872650",
      "0696024a74744c2caa7af1fe5a2b811c",
      "e1844a3260214a2c88b64837ec1872e2",
      "494cd24c6ecf4eeebedd215fa1d10206"
     ]
    },
    "id": "Vkp1FQXvRGfR",
    "outputId": "2e84e971-1d26-4d67-c219-ca8e3c13de5e"
   },
   "outputs": [],
   "source": [
    "from transformers import Wav2Vec2ForCTC\n",
    "\n",
    "model = Wav2Vec2ForCTC.from_pretrained(\n",
    "    \"facebook/wav2vec2-xls-r-1b\",\n",
    "    attention_dropout=0.1, # dropout for attention layers, can try 0.1\n",
    "    hidden_dropout=0.1, # dropout for hidden layers, can try 0.1\n",
    "    feat_proj_dropout=0.1, # dropout for feature projection layers, can try 0.1\n",
    "    mask_time_prob=0.05, # probability to mask time step\n",
    "    layerdrop=0.1, # probability to drop entire transformer layer\n",
    "    ctc_loss_reduction=\"mean\", # avg loss across batch for ctc loss\n",
    "    pad_token_id=processor.tokenizer.pad_token_id,\n",
    "    vocab_size=len(processor.tokenizer),\n",
    ")"
   ]
  },
  {
   "cell_type": "code",
   "execution_count": null,
   "metadata": {
    "colab": {
     "base_uri": "https://localhost:8080/"
    },
    "id": "skHE4HW0RRBJ",
    "outputId": "381c539d-2f22-4009-fd0a-a1ca4aa76055"
   },
   "outputs": [],
   "source": [
    "model.freeze_feature_extractor()"
   ]
  },
  {
   "cell_type": "code",
   "execution_count": null,
   "metadata": {
    "id": "Tz2YRbHXRlYr"
   },
   "outputs": [],
   "source": [
    "from transformers import TrainingArguments\n",
    "\n",
    "training_args = TrainingArguments(\n",
    "  output_dir=repo_name,\n",
    "  group_by_length=True, # to prevent excess padding\n",
    "  per_device_train_batch_size=2, # changed it as out of memory error\n",
    "  gradient_accumulation_steps=8,\n",
    "  per_device_eval_batch_size=2,\n",
    "  eval_strategy=\"steps\",\n",
    "  max_steps=3000,\n",
    "  gradient_checkpointing=True,\n",
    "  fp16=True,\n",
    "  save_steps=500,\n",
    "  eval_steps=500,\n",
    "  logging_steps=500,\n",
    "  learning_rate=1e-4,\n",
    "  warmup_steps=300,\n",
    "  push_to_hub=True,\n",
    "  report_to=[\"tensorboard\"],\n",
    "  load_best_model_at_end=True,\n",
    "  metric_for_best_model=\"wer\",\n",
    "  greater_is_better=False, # because lower wer is better\n",
    ")"
   ]
  },
  {
   "cell_type": "code",
   "execution_count": null,
   "metadata": {
    "colab": {
     "base_uri": "https://localhost:8080/"
    },
    "id": "1rceYvYaXorJ",
    "outputId": "6c75147f-73f9-478a-8e6d-689f9a74b928"
   },
   "outputs": [],
   "source": [
    "from transformers import Trainer , EarlyStoppingCallback\n",
    "\n",
    "trainer = Trainer(\n",
    "    model=model,\n",
    "    data_collator=data_collator,\n",
    "    args=training_args,\n",
    "    compute_metrics=compute_metrics,\n",
    "    train_dataset=dataset[\"train\"],\n",
    "    eval_dataset=dataset[\"validation\"],\n",
    "    tokenizer=processor.feature_extractor,\n",
    "    callbacks=[EarlyStoppingCallback(2)]\n",
    ")"
   ]
  },
  {
   "cell_type": "code",
   "execution_count": null,
   "metadata": {
    "colab": {
     "base_uri": "https://localhost:8080/",
     "height": 717
    },
    "id": "FwwEf9ubYRqn",
    "outputId": "f2309557-da72-40c4-bebd-28ae49709ae0"
   },
   "outputs": [],
   "source": [
    "trainer.train()"
   ]
  },
  {
   "cell_type": "code",
   "execution_count": null,
   "metadata": {
    "colab": {
     "base_uri": "https://localhost:8080/",
     "height": 71
    },
    "id": "CVrJPykdYU3V",
    "outputId": "eee1da84-38fa-4f05-f151-3c4b49806b2e"
   },
   "outputs": [],
   "source": [
    "trainer.push_to_hub()"
   ]
  },
  {
   "cell_type": "code",
   "execution_count": null,
   "metadata": {
    "colab": {
     "base_uri": "https://localhost:8080/",
     "height": 259,
     "referenced_widgets": [
      "191b0459a4524fa0b3afbbef80556642",
      "ede1147c045d4fedb7cce061b7381b61",
      "2a5b2a06dd60418ba8a5a8e6bc6a430c",
      "5f45f10ccb7942d7a891c68781e5053e",
      "a03901b8ab654622b46c8d5332ed6b26",
      "ed6ec70c0d34471daf4c48864c1183d8",
      "48d4c53574894175a46677f0b10a7f76",
      "0afbb3189ddd4ce0bd8d63e1b5826eb2",
      "47fe446175644aa3933bd7e756ad26b5",
      "0a2da47661554b42bf4e618cab734994",
      "20e65db50b7a472da95b8c96b4f90100",
      "e2063c8cee5940148c911214e6efd996",
      "637643b82d024c9090a7930bb4db66c9",
      "27d3be50cc1341888a96a4e575175c2e",
      "38dfd15f152546ff932901ed57810eaf",
      "d8f48ae34b984ce191354e90c115bf82",
      "556c5068e619444aa0fdb0bf06069a8f",
      "397971f24ffa4926875bf78876f04691",
      "84971e7b8e714d9dada9faad7571cb10",
      "be7a69d25906412f95cbe87107395c47",
      "a804f1bc6d5b4f9c8535f81316001079",
      "24c4cc763a7643ed80e519b65b102dd1",
      "5ef64e4f056f47829c43d8a5051fca83",
      "1f4f8eb9a0ad4c3d8b43c572c9146acd",
      "40fc9fea5e1c4726b4324647dd82522d",
      "1a99f121ff2140b8ae495249057449f2",
      "a25c104771c74be3b7939fd0e7b79e20",
      "c964ce34f00f42178de49166fac6850a",
      "898bdff9339b4821860931a280d92744",
      "be60cb60bef84b73b0c52892fd1e4e85",
      "8e206968a67c48fba99feca135754a7c",
      "20a92856f96c4faaba36aaed61f85e43",
      "b24680610f704fc0a3d8a6d1b6ee0b7b",
      "90ef56e3a18b4b90ad26e06d32bc16ad",
      "16c714d49704495090b4de426b5439ea",
      "9311cbe526fa4400bbe2e6870a46e1ed",
      "70d73abf12b24a46b9179b8d57fefbd3",
      "6ac08b2525e14725abfe8a68586011b0",
      "6997207c6ef746deaea109924cf4c942",
      "e33505db90954f8daf81bb89e3f3e186",
      "e7c987954373474faf5872d34d8d303e",
      "84fd315f3df8449f9638e33a291981a0",
      "95a62d567c68473fbf2bc6260b93be37",
      "bbceb323890b4548b54509ba81e6b3b8",
      "da461af455ac47ecadbb428d2b045aca",
      "55accb0bc2c640ff8bf71e931413183b",
      "2c9364501f3d4737a058ba29355381ab",
      "96bf4d919911498981f3f94b851140cc",
      "37e65f6c3b1f4901bab4f64488f3ab21",
      "b9e7a78a62d4432cab3d20b2215368f0",
      "0aa65ffaf43542ebad704b280dda2f85",
      "65025f9a84ba41ea81d7b2c00e9b75c2",
      "8284d880e6d84a8bbabbe96849870bf9",
      "49cbffc293064719b8591ad4c7eed08f",
      "70eaa59d993d4ddc8131136fbc0e66b9",
      "a371f734b81c4b73be98ee629dd1aa80",
      "02b17118993f433aae91779fcc051089",
      "8380f78e2c634529b43429eec916a776",
      "97b3eebb014a463a8b87e895c24e88b5",
      "ba99fe4f80bf4a659faafc099003d916",
      "faac882a1fd64df59e5ffe0c4bc407a6",
      "71d8e4554bc347b5ab1be87c1c936977",
      "61c67cae0d4848f9984401987fbbfdc0",
      "049eaf14b7224dcf8edbf2a073392a99",
      "e8bd0268eb5a4b6994fdf880851bb9f3",
      "caed56a7e4604b60a94877d25832a418",
      "01f1e4dae1eb4252b9dac4b700043e6f",
      "1f0be14ec9604e278716ffdecbfca9a8",
      "8f8039a4c3d9408b846057c388449fd0",
      "7b675e7070484c25a646e03ee4df3f36",
      "f1219a79d487419fb02297a82bb0c04c",
      "af94e9f4d3884d25af98718338cddd1f",
      "2ea5cbf5577d4c32a2c85f0725230ba7",
      "ca672862b10144c1bab95dc2cb85c780",
      "99994e39673a482ca3d9347c3ea9058a",
      "1be824bfe89b4a81805b8d8941e71f85",
      "8330383ac2eb4fb2817c939efd24cb16"
     ]
    },
    "id": "kfi_EL2ayUQe",
    "outputId": "f55d7316-07cd-4a87-8983-01ba3852e931"
   },
   "outputs": [],
   "source": [
    "from transformers import pipeline\n",
    "import torch\n",
    "\n",
    "pipe = pipeline(\"automatic-speech-recognition\", model=\"itskavya/wav2vec2-arabic-colab-f\")"
   ]
  },
  {
   "cell_type": "code",
   "execution_count": null,
   "metadata": {
    "colab": {
     "base_uri": "https://localhost:8080/",
     "height": 53
    },
    "id": "ANhtAuZc9iWK",
    "outputId": "49246fd4-c882-4c57-bc8e-c838e9547474"
   },
   "outputs": [],
   "source": [
    "x=dataset['test'][0]['transcription']\n",
    "x"
   ]
  },
  {
   "cell_type": "code",
   "execution_count": null,
   "metadata": {
    "colab": {
     "base_uri": "https://localhost:8080/"
    },
    "id": "qwt5VJI1zOdS",
    "outputId": "a0f57d02-798e-42a8-9c80-20e82c329976"
   },
   "outputs": [],
   "source": [
    "x2=pipe(dataset['test'][0]['audio']['path'])\n",
    "x2"
   ]
  },
  {
   "cell_type": "code",
   "execution_count": null,
   "metadata": {
    "colab": {
     "base_uri": "https://localhost:8080/"
    },
    "id": "aKCsXJao-CqC",
    "outputId": "df5f0f36-1f97-4a28-8530-4dcd277b8284"
   },
   "outputs": [],
   "source": [
    "!pip install jiwer"
   ]
  },
  {
   "cell_type": "code",
   "execution_count": null,
   "metadata": {
    "colab": {
     "base_uri": "https://localhost:8080/"
    },
    "id": "Bv4zXtjr-FRu",
    "outputId": "99adda8b-6123-49c1-915d-a2d27b27d29e"
   },
   "outputs": [],
   "source": [
    "from jiwer import wer\n",
    "\n",
    "error = wer(x, x2['text'])\n",
    "print(\"WER: \", error*100)"
   ]
  },
  {
   "cell_type": "code",
   "execution_count": null,
   "metadata": {
    "colab": {
     "base_uri": "https://localhost:8080/"
    },
    "id": "dwhtgojKyj63",
    "outputId": "63d4803b-a786-45c8-b210-40fb4a5b963a"
   },
   "outputs": [],
   "source": [
    "all_predictions = []\n",
    "\n",
    "for i in range(len(dataset['test'])):\n",
    "  transcript = pipe(dataset['test'][i]['audio']['path'])\n",
    "  all_predictions.append(transcript['text'])"
   ]
  },
  {
   "cell_type": "code",
   "execution_count": null,
   "metadata": {
    "colab": {
     "base_uri": "https://localhost:8080/",
     "height": 67,
     "referenced_widgets": [
      "7e01289025584cbdba7183d860ad224c",
      "bfab16d6dc5c4c009684120ca01ce82f",
      "a14b4b24981c4cddadf0ca7da862dcc5",
      "b3528602929e47b482ce7ad61cba475d",
      "da74a637058d44b0a543ad7f1a0d3c4a",
      "f3557a920c3b449ebb9e84935c4c7f27",
      "26612898a8c4496b9066c141dcaff7c9",
      "a1f4d3c17c7d4b36a01bcdc3274fd4aa",
      "cba0599da3a6438d8e3df1d66942fd80",
      "ed56af378d724676b31f561e1615b32e",
      "518e0fa4ed464e4ebc2b6a2d3046dbd3"
     ]
    },
    "id": "2XarCpfxym6w",
    "outputId": "35848fb7-05da-4694-d06d-8fdae0478fc5"
   },
   "outputs": [],
   "source": [
    "from evaluate import load\n",
    "\n",
    "wer_metric = load(\"wer\")\n",
    "\n",
    "wer = 100 * wer_metric.compute(references=dataset['test'][\"transcription\"], predictions=all_predictions)\n",
    "wer"
   ]
  },
  {
   "cell_type": "code",
   "execution_count": null,
   "metadata": {
    "colab": {
     "base_uri": "https://localhost:8080/",
     "height": 67,
     "referenced_widgets": [
      "ee74665bf4124ba097031e9af02196d9",
      "4941b7c0a4324de28eb7e40cb43e64df",
      "cd7613c966234ab19a5dcc99e40835ac",
      "a47b3f80e8cc4d188faaa1a64f44fa44",
      "0dcbb0059bd7471991ce75af2c78c497",
      "f2fc125377cc42f8859da5397f6f7e63",
      "6d4bdbda98f24b33bf655e894572a80a",
      "b6efc07b26364c8abcc0a21a9eb99d14",
      "66131811886f4fb8b87529e3644f1b67",
      "4a4c09c0558148bc99f8e682bb42a1d6",
      "5c0049dd8d4b4a9ab959ed96fca9813b"
     ]
    },
    "id": "UKkmneYnyqTd",
    "outputId": "821c387a-5e0c-4eee-e030-b293f4df2f25"
   },
   "outputs": [],
   "source": [
    "from evaluate import load\n",
    "\n",
    "cer_metric = load(\"cer\")\n",
    "\n",
    "cer = 100 * cer_metric.compute(references=dataset['test'][\"transcription\"], predictions=all_predictions)\n",
    "cer"
   ]
  },
  {
   "cell_type": "markdown",
   "metadata": {},
   "source": [
    "Final model: https://huggingface.co/itskavya/wav2vec2-arabic-colab-f"
   ]
  }
 ],
 "metadata": {
  "accelerator": "GPU",
  "colab": {
   "gpuType": "T4",
   "machine_shape": "hm",
   "provenance": []
  },
  "kernelspec": {
   "display_name": "Python 3",
   "name": "python3"
  },
  "language_info": {
   "codemirror_mode": {
    "name": "ipython",
    "version": 3
   },
   "file_extension": ".py",
   "mimetype": "text/x-python",
   "name": "python",
   "nbconvert_exporter": "python",
   "pygments_lexer": "ipython3",
   "version": "3.9.20"
  }
 },
 "nbformat": 4,
 "nbformat_minor": 0
}
