{
 "cells": [
  {
   "cell_type": "code",
   "execution_count": null,
   "metadata": {
    "colab": {
     "base_uri": "https://localhost:8080/"
    },
    "id": "CMdMfk3rnGrx",
    "outputId": "0d7b02df-f1cf-4f71-e4a0-211df9c67402"
   },
   "outputs": [],
   "source": [
    "pip install transformers datasets torchaudio jiwer librosa evaluate"
   ]
  },
  {
   "cell_type": "code",
   "execution_count": null,
   "metadata": {
    "colab": {
     "base_uri": "https://localhost:8080/",
     "height": 17,
     "referenced_widgets": [
      "bffb1e79fa2a4862ac95aee3a00ef1ae",
      "61e880f17f6a4074a6a3c116d37ef761",
      "a472714a90ac49b59e2e5b5ce563b294",
      "82a47219b4b74a20bcd1d42b0fe50715",
      "e879e651ff0045649a6f7dabfd21b8b3",
      "07cc249588e043709798d68089cff9d3",
      "9306d0f1cf3b4a7a8f82ec1b22204ecb",
      "32e42797deb74fccab4e6894e8d29136",
      "c465846da7804ef38b9e061c13fa3ea4",
      "2945a37e522840a38f52c70dff5f7401",
      "62970ee1b48d48eb9b3e5cad45edf80d",
      "77a990c871504bfd98be08e647c2ef83",
      "2231f0b464034457b3bacf586008931a",
      "c75e27f467314d6a8e8762a2cb06a6df",
      "72058f1614f849d48bfec64ed62cf85f",
      "7c79a546b9fc4099a05030c632e3cc44",
      "d303e37e2d8c41e3888bd5a7e8d4c1f0",
      "8c9773951f2648269d36e6f8e88fb439",
      "95a7e5fea29e4bdea55d5866cd6d6940",
      "bcc4617e4d244c94a4e97ae7a383f3f9"
     ]
    },
    "id": "Xx7ibogts1wz",
    "outputId": "1aa8eb09-468c-445e-8586-cb636ae317f2"
   },
   "outputs": [],
   "source": [
    "from huggingface_hub import notebook_login\n",
    "\n",
    "notebook_login()"
   ]
  },
  {
   "cell_type": "code",
   "execution_count": null,
   "metadata": {
    "colab": {
     "base_uri": "https://localhost:8080/"
    },
    "id": "HhyjQVNInIYQ",
    "outputId": "0e2b3cd3-c847-4842-ccbb-0f6f4325c7f7"
   },
   "outputs": [],
   "source": [
    "from google.colab import drive\n",
    "drive.mount('/content/drive', force_remount=True)"
   ]
  },
  {
   "cell_type": "code",
   "execution_count": null,
   "metadata": {
    "colab": {
     "base_uri": "https://localhost:8080/",
     "height": 156,
     "referenced_widgets": [
      "72272af436044e09ae12563972e14d0b",
      "ef979945f4fb4168b6cd2544c6a511f2",
      "11da3725ea6b4761ba08bdcf7a2e2a28",
      "f197e47ad64b4a04becb235a0213b037",
      "ac251036feb0429683e11aec11ed7dcb",
      "1b8d77650311497aa5d78e10f56bc617",
      "4793a9973fc045d7ae5b57c6c2960586",
      "eaa94882f568434380b7de3e13ac3648",
      "19c11ec6cb444719994cd0758e45ff8b",
      "8d8a2c9e437f4fbfa75e00648eba8992",
      "b316a221dcda4167b589d1f03068a680"
     ]
    },
    "id": "oBVidZ03lzfT",
    "outputId": "02be1ee1-38f8-4598-f488-9ccca9091578"
   },
   "outputs": [],
   "source": [
    "from datasets import load_dataset, DatasetDict\n",
    "\n",
    "dataset = DatasetDict()\n",
    "dataset[\"train\"] = load_dataset(\"/content/drive/My Drive/dataset_new\", split='train')  # Works in Colab\n",
    "\n",
    "print(dataset)"
   ]
  },
  {
   "cell_type": "code",
   "execution_count": null,
   "metadata": {
    "colab": {
     "base_uri": "https://localhost:8080/",
     "height": 36
    },
    "id": "Tsd429O-9T5W",
    "outputId": "c42ca607-1db9-4689-fb77-f6dabc785ba4"
   },
   "outputs": [],
   "source": [
    "# Get column names to identify the second column\n",
    "column_names = dataset[\"train\"].column_names\n",
    "second_column = column_names[1]  # Get the second column name\n",
    "second_column"
   ]
  },
  {
   "cell_type": "code",
   "execution_count": null,
   "metadata": {
    "colab": {
     "base_uri": "https://localhost:8080/"
    },
    "id": "f1llKNQB4fVq",
    "outputId": "5ce6794c-5845-4db9-9bbc-694a39942940"
   },
   "outputs": [],
   "source": [
    "import re\n",
    "\n",
    "# filter rows that have anything other than letters\n",
    "def filter_dataset_2(dataset):\n",
    "    filtered_rows = []\n",
    "    for i in range(len(dataset['transcription'])):\n",
    "        if bool(re.search(r'[^A-Za-z\\u0621-\\u064A\\s]', dataset['transcription'][i])):\n",
    "            filtered_rows.append(i)\n",
    "\n",
    "    return dataset.select(filtered_rows)\n",
    "\n",
    "filtered_dataset2 = filter_dataset_2(dataset['train'])\n",
    "\n",
    "print(filtered_dataset2)"
   ]
  },
  {
   "cell_type": "code",
   "execution_count": null,
   "metadata": {
    "id": "AvrY0L8LHuZl"
   },
   "outputs": [],
   "source": [
    "for i in range(len(filtered_dataset2)):\n",
    "  print(filtered_dataset2[i]['audio']['path'])\n",
    "  print(filtered_dataset2[i]['transcription'])\n",
    "  print(\"\\n\")"
   ]
  },
  {
   "cell_type": "code",
   "execution_count": null,
   "metadata": {
    "colab": {
     "base_uri": "https://localhost:8080/"
    },
    "id": "XdOL2Qxq8vw9",
    "outputId": "a6c5b5f2-162f-48a4-ed92-f3728af0b952"
   },
   "outputs": [],
   "source": [
    "import re\n",
    "\n",
    "# filter rows that have both eng and arabic\n",
    "def filter_dataset_3(dataset):\n",
    "    filtered_rows = []\n",
    "    for i in range(len(dataset['transcription'])):\n",
    "        if bool(re.search(r'[A-Za-z]', dataset['transcription'][i]) and re.search(r'[\\u0600-\\u06FF]', dataset['transcription'][i])):\n",
    "            filtered_rows.append(i)\n",
    "\n",
    "    return dataset.select(filtered_rows)\n",
    "\n",
    "filtered_dataset3 = filter_dataset_3(dataset['train'])\n",
    "\n",
    "print(filtered_dataset3)"
   ]
  },
  {
   "cell_type": "code",
   "execution_count": null,
   "metadata": {
    "id": "KcPaohSz9H-A"
   },
   "outputs": [],
   "source": [
    "for i in range(len(filtered_dataset3)):\n",
    "  print(filtered_dataset3[i]['audio']['path'])\n",
    "  print(filtered_dataset3[i]['transcription'])\n",
    "  print(\"\\n\")"
   ]
  },
  {
   "cell_type": "code",
   "execution_count": null,
   "metadata": {
    "colab": {
     "base_uri": "https://localhost:8080/"
    },
    "id": "-iRlv3PP99qz",
    "outputId": "bed72a6d-bcf6-46ec-a5dc-f5edbf383ea8"
   },
   "outputs": [],
   "source": [
    "!pip install PyArabic"
   ]
  },
  {
   "cell_type": "code",
   "execution_count": null,
   "metadata": {
    "id": "W7v346hSCsx3"
   },
   "outputs": [],
   "source": [
    "import re\n",
    "import pyarabic.araby as araby\n",
    "\n",
    "# remove punctuation etc\n",
    "def remove_punctuation(text):\n",
    "    return re.sub(r'[.?،\\-؟]', '', text)\n",
    "\n",
    "def clean_text(example):\n",
    "    example['transcription'] = remove_punctuation(example['transcription'])\n",
    "    return example\n",
    "\n",
    "dataset['train'] = dataset['train'].map(clean_text)"
   ]
  },
  {
   "cell_type": "code",
   "execution_count": null,
   "metadata": {
    "colab": {
     "base_uri": "https://localhost:8080/"
    },
    "id": "HsQw6SZu9WFY",
    "outputId": "f7e7287c-314f-4f4f-9285-3c3f061e9f5b"
   },
   "outputs": [],
   "source": [
    "# remove diacritic\n",
    "def remove_diacritic(example):\n",
    "    example['transcription'] = araby.strip_diacritics(example['transcription'])\n",
    "    return example\n",
    "\n",
    "dataset['train'] = dataset['train'].map(remove_diacritic)\n",
    "print(dataset)"
   ]
  },
  {
   "cell_type": "code",
   "execution_count": null,
   "metadata": {
    "id": "MUXd558J-XXG"
   },
   "outputs": [],
   "source": [
    "filtered_dataset2 = filter_dataset_2(dataset['train'])\n",
    "\n",
    "print(filtered_dataset2)\n",
    "\n",
    "for i in range(len(filtered_dataset2)):\n",
    "  print(filtered_dataset2[i]['audio']['path'])\n",
    "  print(filtered_dataset2[i]['transcription'])\n",
    "  print(\"\\n\")"
   ]
  },
  {
   "cell_type": "code",
   "execution_count": null,
   "metadata": {
    "colab": {
     "base_uri": "https://localhost:8080/"
    },
    "id": "DhBozeUSDKif",
    "outputId": "e06b3dd9-bbe4-488d-9335-3ae5c8af133c"
   },
   "outputs": [],
   "source": [
    "# split the dataset for testing n validation\n",
    "\n",
    "dataset = dataset[\"train\"].train_test_split(test_size=0.3, seed=42)\n",
    "dataset"
   ]
  },
  {
   "cell_type": "code",
   "execution_count": null,
   "metadata": {
    "colab": {
     "base_uri": "https://localhost:8080/"
    },
    "id": "QcQQ1_xKDK_4",
    "outputId": "b9c6b8eb-72ab-4961-c7f4-c5a71f70bdd2"
   },
   "outputs": [],
   "source": [
    "my_dataset_test = dataset['test'].train_test_split(test_size=0.5, seed=42)\n",
    "print(my_dataset_test)"
   ]
  },
  {
   "cell_type": "code",
   "execution_count": null,
   "metadata": {
    "colab": {
     "base_uri": "https://localhost:8080/"
    },
    "id": "L6ULYdNgDN8E",
    "outputId": "e991bf76-a560-44ca-b77e-dbe729927163"
   },
   "outputs": [],
   "source": [
    "dataset['validation'] = my_dataset_test['train']\n",
    "dataset['test'] = my_dataset_test['test']\n",
    "print(dataset)"
   ]
  },
  {
   "cell_type": "code",
   "execution_count": null,
   "metadata": {
    "id": "WdbHE5D56BEP"
   },
   "outputs": [],
   "source": [
    "# test_set = []\n",
    "# for i in range(len(dataset['test'])):\n",
    "#   x = {}\n",
    "#   x['file'] = dataset['test'][i]['audio']['path']\n",
    "#   x['transcription'] = dataset['test'][i]['transcription']\n",
    "#   test_set.append(x)"
   ]
  },
  {
   "cell_type": "code",
   "execution_count": null,
   "metadata": {
    "id": "YJuAJ18e6Kwp"
   },
   "outputs": [],
   "source": [
    "# with open('test-wave.txt', 'w') as f:\n",
    "#   for item in test_set:\n",
    "#     f.write(f\"{item['file']}\\n\")"
   ]
  },
  {
   "cell_type": "code",
   "execution_count": null,
   "metadata": {
    "id": "qWTYaDZpF28M"
   },
   "outputs": [],
   "source": [
    "def extract_all_chars(batch):\n",
    "  all_text = \" \".join(batch[\"transcription\"])\n",
    "  print(all_text)\n",
    "  vocab = list(set(all_text))\n",
    "  print(vocab)\n",
    "  return {\"vocab\": [vocab], \"all_text\": [all_text]}\n"
   ]
  },
  {
   "cell_type": "code",
   "execution_count": null,
   "metadata": {
    "colab": {
     "base_uri": "https://localhost:8080/",
     "height": 254,
     "referenced_widgets": [
      "1ba060c39c884edbaba6bbadfcde4e5c",
      "7e289abd58714765ba3a9441f50e0e59",
      "2eac0e21a4c748d9b7b8bd37e25d5d88",
      "dce75e5ce879439a9c4214d519b36ec5",
      "780c5edc07624c589f1ff40ab2193940",
      "6607c9c30f7844c89af9dabf02238c2c",
      "e35921d05014464eb821f0af46bae7bb",
      "974fbaf19c57472c86bb256e543bf968",
      "b75e17b66d44436498f38df9ef891f1a",
      "d585c11d80c6475692acf5343c11461d",
      "66839066a2f0455aa0819a2fdf00a26f",
      "f7b00518354e4482818ac9a5e54608ea",
      "4f1345988fbc4c019c53a2d15801a0ed",
      "223ca13bb9c649e6b3b92ee45747adbc",
      "e39356af88a24ff3ab5e2781e034c737",
      "adc4f71586be4681afac4c81ad7e562e",
      "6d686e3235a743cf97c72e5dd71a9403",
      "e20681c6bab24e0bbf7c780abaa1a823",
      "68f61f43c8194930ac8114559a55e37c",
      "b162bafbbc544eb4a56a5d8f11148e46",
      "ac032cbd44f346daa8a72649ea50642f",
      "743d5da16b8444a3924aff7426ec6f22",
      "c509865b85324f228d11c5bdc5637609",
      "cbd62d7e9caf47d2888ea71c567301e2",
      "1cdc8581af1641f6864f2a15de3c24dd",
      "16531a688d5449158a6cc1b5aa69fbd7",
      "280183c14a9d44c6a984c77521520829",
      "d6fa864770f540bb9b10960b6ee26c61",
      "73e6ed8f24424454942bd0df3333f294",
      "48e28d306c4543a78dbb6da0d13e7933",
      "3bc1740e410a484a9d768e16de88feb8",
      "c5c5a5e1520946d1a2a871313e84dd65",
      "0d2c199abfbc41a68e8a9ba6aa1f8b6b"
     ]
    },
    "id": "tqWEYrtBNiAW",
    "outputId": "015e534f-7088-4daf-ec97-df0c4641dbc4"
   },
   "outputs": [],
   "source": [
    "vocab_train = dataset['train'].map(extract_all_chars, batched=True, batch_size=-1, keep_in_memory=True, remove_columns=dataset['train'].column_names)\n",
    "vocab_val = dataset['validation'].map(extract_all_chars, batched=True, batch_size=-1, keep_in_memory=True, remove_columns=dataset['validation'].column_names)\n",
    "vocab_test = dataset['test'].map(extract_all_chars, batched=True, batch_size=-1, keep_in_memory=True, remove_columns=dataset['test'].column_names)"
   ]
  },
  {
   "cell_type": "code",
   "execution_count": null,
   "metadata": {
    "id": "j2kenQtGH7-8"
   },
   "outputs": [],
   "source": [
    "# all distinct letters in the training dataset and test dataset\n",
    "\n",
    "vocab_list = list(set(vocab_train[\"vocab\"][0]) | set(vocab_test[\"vocab\"][0])| set(vocab_val[\"vocab\"][0]))"
   ]
  },
  {
   "cell_type": "code",
   "execution_count": null,
   "metadata": {
    "colab": {
     "base_uri": "https://localhost:8080/"
    },
    "id": "_tjlI8xMPHh0",
    "outputId": "3dd9317b-9f7b-4b56-ec39-e1a3b49f47ad"
   },
   "outputs": [],
   "source": [
    "print(len(vocab_list))"
   ]
  },
  {
   "cell_type": "code",
   "execution_count": null,
   "metadata": {
    "colab": {
     "base_uri": "https://localhost:8080/"
    },
    "id": "_Wp78OozunH0",
    "outputId": "e21fa80e-f5dc-4140-bac7-03708db3a39f"
   },
   "outputs": [],
   "source": [
    "print((vocab_list))"
   ]
  },
  {
   "cell_type": "code",
   "execution_count": null,
   "metadata": {
    "colab": {
     "base_uri": "https://localhost:8080/"
    },
    "id": "WzpwlxUnH_Ag",
    "outputId": "7ae8c598-5230-417e-f7c5-7c9ee88d9a9b"
   },
   "outputs": [],
   "source": [
    "vocab_dict = {k:v for k, v in enumerate(sorted(vocab_list))}\n",
    "vocab_dict"
   ]
  },
  {
   "cell_type": "code",
   "execution_count": null,
   "metadata": {
    "colab": {
     "base_uri": "https://localhost:8080/"
    },
    "id": "tyLHCMLaOiZF",
    "outputId": "bfe2447d-7114-4465-8355-a3c8bf133384"
   },
   "outputs": [],
   "source": [
    "vocab_dict2 = {}\n",
    "for k, v in vocab_dict.items():\n",
    "  vocab_dict2[v] = k\n",
    "print(vocab_dict2)"
   ]
  },
  {
   "cell_type": "code",
   "execution_count": null,
   "metadata": {
    "id": "0bSVLZ-zIhif"
   },
   "outputs": [],
   "source": [
    "# let space be | and remove new line\n",
    "\n",
    "vocab_dict = vocab_dict2\n",
    "vocab_dict[\"|\"] = vocab_dict[\" \"]\n",
    "del vocab_dict[\" \"]\n",
    "del vocab_dict[\"\\n\"]"
   ]
  },
  {
   "cell_type": "code",
   "execution_count": null,
   "metadata": {
    "colab": {
     "base_uri": "https://localhost:8080/"
    },
    "id": "O34w7QCI_2p4",
    "outputId": "eda7fa32-0c6b-4133-9886-6dbfe4027d36"
   },
   "outputs": [],
   "source": [
    "vocab_dict"
   ]
  },
  {
   "cell_type": "code",
   "execution_count": null,
   "metadata": {
    "colab": {
     "base_uri": "https://localhost:8080/"
    },
    "id": "41WsxPuh__zT",
    "outputId": "6fdc8320-bfb2-464c-d8a8-dcb814874d4b"
   },
   "outputs": [],
   "source": [
    "len(vocab_dict)"
   ]
  },
  {
   "cell_type": "code",
   "execution_count": null,
   "metadata": {
    "colab": {
     "base_uri": "https://localhost:8080/"
    },
    "id": "M76KlJjiJPJu",
    "outputId": "6c2f6fa8-69dd-4687-d8b5-5e59b16cc916"
   },
   "outputs": [],
   "source": [
    "# add unk and padding tokens\n",
    "\n",
    "vocab_dict[\"[UNK]\"] = len(vocab_dict) + 1 # plus one because the last char already has len as value\n",
    "vocab_dict[\"[PAD]\"] = len(vocab_dict) + 1\n",
    "len(vocab_dict)"
   ]
  },
  {
   "cell_type": "code",
   "execution_count": null,
   "metadata": {
    "colab": {
     "base_uri": "https://localhost:8080/"
    },
    "id": "CnHPgQmYOqGb",
    "outputId": "dd3799e8-6cf4-4fa2-efe7-ee35930bfa5a"
   },
   "outputs": [],
   "source": [
    "vocab_dict"
   ]
  },
  {
   "cell_type": "code",
   "execution_count": null,
   "metadata": {
    "id": "PC4G8OAuJccn"
   },
   "outputs": [],
   "source": [
    "# save the vocab\n",
    "\n",
    "import json\n",
    "with open('vocab.json', 'w') as vocab_file:\n",
    "    json.dump(vocab_dict, vocab_file)"
   ]
  },
  {
   "cell_type": "code",
   "execution_count": null,
   "metadata": {
    "id": "fPmVpxATJgj6"
   },
   "outputs": [],
   "source": [
    "from transformers import Wav2Vec2CTCTokenizer\n",
    "\n",
    "tokenizer = Wav2Vec2CTCTokenizer.from_pretrained(\"./\", unk_token=\"[UNK]\", pad_token=\"[PAD]\", word_delimiter_token=\"|\") # load vocab to the tokenizer"
   ]
  },
  {
   "cell_type": "code",
   "execution_count": null,
   "metadata": {
    "id": "RqMjWMptR8AI"
   },
   "outputs": [],
   "source": [
    "repo_name = \"wav2vec2-arabic-colab\""
   ]
  },
  {
   "cell_type": "code",
   "execution_count": null,
   "metadata": {
    "colab": {
     "base_uri": "https://localhost:8080/",
     "height": 205,
     "referenced_widgets": [
      "4c46d656f2724f74aa1c373c309f17cd",
      "c509a0a2c03b4f8a94ba6f31219b97d2",
      "c738aceaae1d4f8b81aa219495a3e707",
      "cf3d3dcdb2444723baa0b7bcbd0b8133",
      "57d4c12a37924aa6accba5461481ba65",
      "1042d3c2f24c42ada2220a912ef8e416",
      "dfb5b4c9887646e2ab00285ece1d6f7b",
      "4bc3af5170c5421cb1282a3563b8cdb5",
      "dfb9c11239f143b69eb3e75e57d27154",
      "7f899c16a8ff47388e326e72b2231167",
      "a0f45c71a6eb49f9847ab6475f744a56"
     ]
    },
    "id": "0kZPA70JSBkM",
    "outputId": "02b88a8d-5601-4ac1-f162-3fcdf5f46ce9"
   },
   "outputs": [],
   "source": [
    "tokenizer.push_to_hub(repo_name)"
   ]
  },
  {
   "cell_type": "code",
   "execution_count": null,
   "metadata": {
    "id": "pIleC7Ko_7x_"
   },
   "outputs": [],
   "source": [
    "#input_str = filtered_dataset2[0][\"transcription\"]\n",
    "#labels = tokenizer(input_str).input_ids # it returns a dict of input ids and attention mask so just get the input ids\n",
    "#print(labels)\n",
    "#print(tokenizer.tokenize(input_str))\n",
    "#decoded_with_special = tokenizer.decode(labels, skip_special_tokens=False)\n",
    "#decoded_str = tokenizer.decode(labels, skip_special_tokens=True, group_tokens=False)\n",
    "\n",
    "#print(f\"Input:                 {input_str}\")\n",
    "#print(f\"Decoded w/ special:    {decoded_with_special}\")\n",
    "#print(f\"Decoded w/out special: {decoded_str}\")\n",
    "#print(f\"Are equal:             {input_str == decoded_str}\")"
   ]
  },
  {
   "cell_type": "code",
   "execution_count": null,
   "metadata": {
    "id": "PT33ozq5J0fH"
   },
   "outputs": [],
   "source": [
    "from transformers import Wav2Vec2FeatureExtractor\n",
    "\n",
    "feature_extractor = Wav2Vec2FeatureExtractor(feature_size=1, sampling_rate=16000, padding_value=0.0, do_normalize=True, return_attention_mask=True)"
   ]
  },
  {
   "cell_type": "code",
   "execution_count": null,
   "metadata": {
    "id": "o_Uh1VYTKAAQ"
   },
   "outputs": [],
   "source": [
    "# the feature extractor and tokenizer are wrapped into a single Wav2Vec2Processor class so that one only needs a model and processor object\n",
    "\n",
    "from transformers import Wav2Vec2Processor\n",
    "\n",
    "processor = Wav2Vec2Processor(feature_extractor=feature_extractor, tokenizer=tokenizer)"
   ]
  },
  {
   "cell_type": "code",
   "execution_count": null,
   "metadata": {
    "colab": {
     "base_uri": "https://localhost:8080/"
    },
    "id": "ot6sGhnTKJtF",
    "outputId": "4fb4d624-8261-4b99-dae1-762cdc3b24df"
   },
   "outputs": [],
   "source": [
    "# check the sampling rate\n",
    "\n",
    "dataset['train'][0][\"audio\"]"
   ]
  },
  {
   "cell_type": "code",
   "execution_count": null,
   "metadata": {
    "id": "mv4wMkhKKYC1"
   },
   "outputs": [],
   "source": [
    "# set the audio feature to the correct sampling rate\n",
    "\n",
    "from datasets import Audio\n",
    "\n",
    "dataset['train'] = dataset['train'].cast_column(\"audio\", Audio(sampling_rate=16_000))\n",
    "dataset['validation'] = dataset['validation'].cast_column(\"audio\", Audio(sampling_rate=16_000))"
   ]
  },
  {
   "cell_type": "code",
   "execution_count": null,
   "metadata": {
    "colab": {
     "base_uri": "https://localhost:8080/"
    },
    "id": "epBoXha1LRxP",
    "outputId": "e912f911-2d4e-4d42-84fb-5d09141a55af"
   },
   "outputs": [],
   "source": [
    "dataset['train'][0][\"audio\"]"
   ]
  },
  {
   "cell_type": "code",
   "execution_count": null,
   "metadata": {
    "colab": {
     "base_uri": "https://localhost:8080/",
     "height": 113
    },
    "id": "Y354etU-LiSn",
    "outputId": "6b67b576-945e-42f7-fd0c-02e7c238c842"
   },
   "outputs": [],
   "source": [
    "#check that the data is correctly prepared\n",
    "\n",
    "import IPython.display as ipd\n",
    "import numpy as np\n",
    "import random\n",
    "\n",
    "rand_int = random.randint(0, len(dataset['train'])-1)\n",
    "\n",
    "print(dataset['train'][rand_int][\"transcription\"])\n",
    "ipd.Audio(data=dataset['train'][rand_int][\"audio\"][\"array\"], autoplay=True, rate=16000)"
   ]
  },
  {
   "cell_type": "code",
   "execution_count": null,
   "metadata": {
    "colab": {
     "base_uri": "https://localhost:8080/"
    },
    "id": "rv00jI4PL9yg",
    "outputId": "160868a2-7529-4ec9-f936-04b1fe95e91a"
   },
   "outputs": [],
   "source": [
    "rand_int = random.randint(0, len(dataset['train'])-1)\n",
    "\n",
    "print(\"Target text:\", dataset['train'][rand_int][\"transcription\"])\n",
    "print(\"Input array shape:\", dataset['train'][rand_int][\"audio\"][\"array\"].shape)\n",
    "print(\"Sampling rate:\", dataset['train'][rand_int][\"audio\"][\"sampling_rate\"])"
   ]
  },
  {
   "cell_type": "code",
   "execution_count": null,
   "metadata": {
    "id": "CPASZ8L2M7wr"
   },
   "outputs": [],
   "source": [
    "#apply the data preparation function to all examples\n",
    "\n",
    "def prepare_dataset(batch):\n",
    "    audio = batch[\"audio\"]\n",
    "\n",
    "    # batched output is \"un-batched\"\n",
    "    batch[\"input_values\"] = processor(audio[\"array\"], sampling_rate=audio[\"sampling_rate\"]).input_values[0]\n",
    "    batch[\"input_length\"] = len(batch[\"input_values\"])\n",
    "\n",
    "    with processor.as_target_processor():\n",
    "        batch[\"labels\"] = processor(batch[\"transcription\"]).input_ids\n",
    "    return batch"
   ]
  },
  {
   "cell_type": "code",
   "execution_count": null,
   "metadata": {
    "colab": {
     "base_uri": "https://localhost:8080/",
     "height": 136,
     "referenced_widgets": [
      "7fa920cffef24e06945454e577d78b87",
      "d2b8e263adc3482b8f788bfab0794017",
      "95462167463a45cbb7acbddf7606aec4",
      "7f900329f5f3422babf48a7510a2ae9a",
      "e2fdaaa91cc34145b2ba7b574bfe6522",
      "02aab3deb3574ae99b021b9926019db2",
      "50d8ea34212746299ae1aced93dc4538",
      "d29daf2780134fc4844ee0e962ed50f1",
      "11b34caeb527465696a30e1ec0d3680c",
      "9295c9d03cdd4f528d4ea54c0f0e46ab",
      "10ce6c552ea4480689de99136c8833fb",
      "fe856028e7984bcd8592538d0fbc1adb",
      "66742ff5537049c08d0ac11ebc17cb5a",
      "cd79364943ad4c639b2046bd964cd852",
      "c5459082695c4e9aa4d505e666e623fe",
      "aa68ed33bb8542f4b9cf9a5771c1017e",
      "e3a99d98aa2b4c66946b84f1b0bad789",
      "5f265280b3b942139c27643cb93e7fa6",
      "16a4672366a848b9bc2111b6a9ffbb10",
      "51de6063f862412b9052177d4d481998",
      "b43d8f77142147b0ac9ed45162087f89",
      "f7f9c347a394421492794b3885918442"
     ]
    },
    "id": "uj_dD4P2NGVe",
    "outputId": "38c29c06-9b40-4349-8b16-1c4e554b167d"
   },
   "outputs": [],
   "source": [
    "dataset['train'] = dataset['train'].map(prepare_dataset, remove_columns=dataset['train'].column_names)\n",
    "dataset['validation'] = dataset['validation'].map(prepare_dataset, remove_columns=dataset['validation'].column_names)"
   ]
  },
  {
   "cell_type": "code",
   "execution_count": null,
   "metadata": {
    "id": "tborvC9hx88e"
   },
   "outputs": [],
   "source": [
    "import torch\n",
    "\n",
    "from dataclasses import dataclass, field\n",
    "from typing import Any, Dict, List, Optional, Union\n",
    "\n",
    "@dataclass\n",
    "class DataCollatorCTCWithPadding:\n",
    "    \"\"\"\n",
    "    Data collator that will dynamically pad the inputs received.\n",
    "    Args:\n",
    "        processor (:class:`~transformers.Wav2Vec2Processor`)\n",
    "            The processor used for proccessing the data.\n",
    "        padding (:obj:`bool`, :obj:`str` or :class:`~transformers.tokenization_utils_base.PaddingStrategy`, `optional`, defaults to :obj:`True`):\n",
    "            Select a strategy to pad the returned sequences (according to the model's padding side and padding index)\n",
    "            among:\n",
    "            * :obj:`True` or :obj:`'longest'`: Pad to the longest sequence in the batch (or no padding if only a single\n",
    "              sequence if provided).\n",
    "            * :obj:`'max_length'`: Pad to a maximum length specified with the argument :obj:`max_length` or to the\n",
    "              maximum acceptable input length for the model if that argument is not provided.\n",
    "            * :obj:`False` or :obj:`'do_not_pad'` (default): No padding (i.e., can output a batch with sequences of\n",
    "              different lengths).\n",
    "    \"\"\"\n",
    "\n",
    "    processor: Wav2Vec2Processor\n",
    "    padding: Union[bool, str] = True\n",
    "\n",
    "    def __call__(self, features: List[Dict[str, Union[List[int], torch.Tensor]]]) -> Dict[str, torch.Tensor]:\n",
    "        # split inputs and labels since they have to be of different lenghts and need\n",
    "        # different padding methods\n",
    "        input_features = [{\"input_values\": feature[\"input_values\"]} for feature in features]\n",
    "        label_features = [{\"input_ids\": feature[\"labels\"]} for feature in features]\n",
    "\n",
    "        batch = self.processor.pad(\n",
    "            input_features,\n",
    "            padding=self.padding,\n",
    "            return_tensors=\"pt\",\n",
    "        )\n",
    "        with self.processor.as_target_processor():\n",
    "            labels_batch = self.processor.pad(\n",
    "                label_features,\n",
    "                padding=self.padding,\n",
    "                return_tensors=\"pt\",\n",
    "            )\n",
    "\n",
    "        # replace padding with -100 to ignore loss correctly\n",
    "        labels = labels_batch[\"input_ids\"].masked_fill(labels_batch.attention_mask.ne(1), -100)\n",
    "\n",
    "        batch[\"labels\"] = labels\n",
    "\n",
    "        return batch"
   ]
  },
  {
   "cell_type": "code",
   "execution_count": null,
   "metadata": {
    "id": "x1B1fk34Qd5O"
   },
   "outputs": [],
   "source": [
    "data_collator = DataCollatorCTCWithPadding(processor=processor, padding=True)"
   ]
  },
  {
   "cell_type": "code",
   "execution_count": null,
   "metadata": {
    "colab": {
     "base_uri": "https://localhost:8080/",
     "height": 81,
     "referenced_widgets": [
      "8531b0dab1df4beea145f3b710b8e40d",
      "5d3d46916674477e89598f30db96134c",
      "b95f494090c64b968d778a291539591d",
      "750650c795594d21a3aea3f7d79e5b2c",
      "9e4d74ca15384d92a35e95c30981db29",
      "b23bd9710d4c4f2b9df14e9b577b1044",
      "1418319593054e498c319d8e61e5578f",
      "fae49da0464e4fc395dc5a404eaaf66f",
      "7787c01e0bd44761895afc5761e3ca12",
      "7a6c81d0da1547bd859a8455a9e4ded8",
      "90b29671c8c04eee91a3e119c9d4dae0",
      "597e73e3cfd944a78ea15ea3ab09ae3f",
      "2f4f67d410d44d6ba223ea2d5c184d26",
      "f91cc3ad4a6344f3a2e030bfcf2b17b5",
      "5a8d4ab4f8b1480d8ea1198647d4cb08",
      "02963c81a6254884acf58ba4a83685df",
      "c74623bcab39468695fc4a44e2087ea7",
      "3d797ea8d1f940cd83fb05c030c47b1a",
      "bfb77f51e1144b7a95e14dbe7f58c3d3",
      "383e9c12a50d426e9ea829c4705cfd6f",
      "c3998a6785204259bf08adb3b6d5e880",
      "993f39ae99b6463f93ac493da08209a0"
     ]
    },
    "id": "ri_Smv16QlDP",
    "outputId": "f4bd60c1-e573-4b24-b748-6a85ab8412d6"
   },
   "outputs": [],
   "source": [
    "import evaluate\n",
    "metric = evaluate.load(\"wer\")\n",
    "metric2 = evaluate.load(\"cer\")"
   ]
  },
  {
   "cell_type": "code",
   "execution_count": null,
   "metadata": {
    "id": "WoP9L6zCQ79S"
   },
   "outputs": [],
   "source": [
    "import numpy as np\n",
    "\n",
    "def compute_metrics(pred):\n",
    "    pred_logits = pred.predictions\n",
    "    pred_ids = np.argmax(pred_logits, axis=-1)\n",
    "\n",
    "    pred.label_ids[pred.label_ids == -100] = processor.tokenizer.pad_token_id\n",
    "\n",
    "    pred_str = processor.batch_decode(pred_ids)\n",
    "    # we do not want to group tokens when computing the metrics\n",
    "    label_str = processor.batch_decode(pred.label_ids, group_tokens=False)\n",
    "\n",
    "    with open('refs_and_preds.txt', 'w') as f:\n",
    "      for ref, pred in zip(label_str, pred_str):\n",
    "          f.write(f\"Ref: {ref}\\n\")\n",
    "          f.write(f\"Pred: {pred}\\n\\n\")\n",
    "\n",
    "    wer = 100 * metric.compute(predictions=pred_str, references=label_str)\n",
    "    cer = 100 * metric2.compute(predictions=pred_str, references=label_str)\n",
    "\n",
    "    return {\"wer\": wer, \"cer\":cer}\n"
   ]
  },
  {
   "cell_type": "code",
   "execution_count": null,
   "metadata": {
    "colab": {
     "base_uri": "https://localhost:8080/"
    },
    "id": "Vkp1FQXvRGfR",
    "outputId": "c4c2c36c-736c-43f1-a7b2-d92273e6b7eb"
   },
   "outputs": [],
   "source": [
    "from transformers import Wav2Vec2ForCTC\n",
    "\n",
    "model = Wav2Vec2ForCTC.from_pretrained(\n",
    "    \"facebook/wav2vec2-xls-r-1b\",\n",
    "    attention_dropout=0.1, # dropout for attention layers, can try 0.1\n",
    "    hidden_dropout=0.1, # dropout for hidden layers, can try 0.1\n",
    "    feat_proj_dropout=0.1, # dropout for feature projection layers, can try 0.1\n",
    "    mask_time_prob=0.1, # probability to mask time step\n",
    "    layerdrop=0.1, # probability to drop entire transformer layer\n",
    "    ctc_loss_reduction=\"mean\", # avg loss across batch for ctc loss\n",
    "    pad_token_id=processor.tokenizer.pad_token_id,\n",
    "    vocab_size=len(processor.tokenizer),\n",
    ")"
   ]
  },
  {
   "cell_type": "code",
   "execution_count": null,
   "metadata": {
    "colab": {
     "base_uri": "https://localhost:8080/"
    },
    "id": "skHE4HW0RRBJ",
    "outputId": "3d09395b-cf40-4b6b-da5b-953d3baa4690"
   },
   "outputs": [],
   "source": [
    "model.freeze_feature_extractor()"
   ]
  },
  {
   "cell_type": "code",
   "execution_count": null,
   "metadata": {
    "colab": {
     "base_uri": "https://localhost:8080/"
    },
    "id": "Tz2YRbHXRlYr",
    "outputId": "066cfe04-9836-4864-a192-750fca1af2ba"
   },
   "outputs": [],
   "source": [
    "from transformers import TrainingArguments\n",
    "\n",
    "training_args = TrainingArguments(\n",
    "  output_dir=repo_name,\n",
    "  group_by_length=True, # to prevent excess padding\n",
    "  per_device_train_batch_size=2, # changed it as out of memory error\n",
    "  gradient_accumulation_steps=8,\n",
    "  per_device_eval_batch_size=2,\n",
    "  evaluation_strategy=\"steps\",\n",
    "  max_steps=3000,\n",
    "  gradient_checkpointing=True,\n",
    "  fp16=True,\n",
    "  save_steps=500,\n",
    "  eval_steps=500,\n",
    "  logging_steps=500,\n",
    "  learning_rate=1e-4,\n",
    "  warmup_steps=300,\n",
    "  push_to_hub=True,\n",
    "  report_to=[\"tensorboard\"],\n",
    "  load_best_model_at_end=True,\n",
    "  metric_for_best_model=\"wer\",\n",
    "  greater_is_better=False, # because lower wer is better\n",
    ")"
   ]
  },
  {
   "cell_type": "code",
   "execution_count": null,
   "metadata": {
    "colab": {
     "base_uri": "https://localhost:8080/"
    },
    "id": "1rceYvYaXorJ",
    "outputId": "2d749a3f-0278-409e-e877-155bdc739482"
   },
   "outputs": [],
   "source": [
    "from transformers import Trainer , EarlyStoppingCallback\n",
    "\n",
    "trainer = Trainer(\n",
    "    model=model,\n",
    "    data_collator=data_collator,\n",
    "    args=training_args,\n",
    "    compute_metrics=compute_metrics,\n",
    "    train_dataset=dataset[\"train\"],\n",
    "    eval_dataset=dataset[\"validation\"],\n",
    "    tokenizer=processor.feature_extractor,\n",
    "    callbacks=[EarlyStoppingCallback(2)]\n",
    ")"
   ]
  },
  {
   "cell_type": "code",
   "execution_count": null,
   "metadata": {
    "colab": {
     "base_uri": "https://localhost:8080/",
     "height": 526
    },
    "id": "FwwEf9ubYRqn",
    "outputId": "0feed72a-4a88-4a08-865a-510339fff0d2"
   },
   "outputs": [],
   "source": [
    "trainer.train()"
   ]
  },
  {
   "cell_type": "code",
   "execution_count": null,
   "metadata": {
    "colab": {
     "base_uri": "https://localhost:8080/",
     "height": 69
    },
    "id": "CVrJPykdYU3V",
    "outputId": "1f5fb1d7-ea11-490b-d840-0c4a73f27627"
   },
   "outputs": [],
   "source": [
    "trainer.push_to_hub()"
   ]
  },
  {
   "cell_type": "code",
   "execution_count": null,
   "metadata": {
    "colab": {
     "base_uri": "https://localhost:8080/",
     "height": 386,
     "referenced_widgets": [
      "459ee35d3ae74eb1aa869f3486484a33",
      "a4e012dd513e4d99ab006d1e1e30674f",
      "a92b4ed002b84e4e87271e0740e1b27c",
      "fcb67822121f4407a7786b1d02fd8578",
      "9467a3fd0e604d5399916621b5e59358",
      "d61498f8081e40529c2194f6ca3f8003",
      "d45409bfbe3a4507b6f40023186666de",
      "836b83e103e8457d900a9b9cba8b5c29",
      "cb30597d1bdb4e17a4f3f0a5acd52505",
      "ac5beb8b9d6446eb8a75368dcc4fafbe",
      "3be074578139474aa103b8a3e1ec1795",
      "347daaf4f2d749ae86cab97447ed9ae2",
      "7309a5de2edd40cb84c11912f0d5b96b",
      "49ea2abca57c4e0691e170646d25e7fb",
      "b39bcdbcdafd42bb913d7fcec1ba88ff",
      "a7a8e5db74f14908a9bd54f0cf11cc2a",
      "8d640292660f4274b9934897d679d037",
      "5756d2143de64e06aebb64cbf2910ba5",
      "678d7b2d76b8498dacf2af1e12456a8c",
      "88166dc548284136a652476c91e006ee",
      "60b6bae6bd874039a7b1e8ef6b0886b7",
      "d466eb286b6541fc84d91a4416ef5d57",
      "5717e4a3679546648ada733f2eb8ddc1",
      "5b5421360b9f497f975c2abb6638ed1d",
      "77768044eb01490f92d6913511ca40d7",
      "9acc020f05d64b68ac9779649126b5d9",
      "5f91b7cb66d34be59d60cd51fd39e77c",
      "cfea9543ed1f4934842955f39e231ff6",
      "14f2e511c66b4a71a4110848b12f5bf3",
      "29160236be29409eb01ffede19690b35",
      "45fae26392b24b9193c6563237e7a406",
      "0041358dbab44fd796a0dda36b593cf5",
      "401901164ff44e188e8626410333775e",
      "564e0569777f4c559394332691e49ce8",
      "2c7abe18607d44c687e23bd101c9633a",
      "38c02208df664c1c8d562eb0c730ca96",
      "4b592d5858bb4c6ca2ccb6cc6cb812d0",
      "d620da32a5c54064a5e305b74d312602",
      "ea23946d814641239820d461e64377c4",
      "827aec5755c84d81b77b556b91467639",
      "cf9f235f133241ad9f3fd4be2f17824e",
      "a29b447341bb46509a40cefd5f6dbb5d",
      "f248a1f1196d4fd39acb7170289fb175",
      "c097214b4c424386b873df702003af6d",
      "58950c8d0a3e47ff8ace75b405a6b6ce",
      "e0a88b0b202a4476a6bf4653bb912d55",
      "bb160468116e4470b19d80a566a976c8",
      "78e2a3b969b44af281052a681129d033",
      "75d10276957648e59e68b159d83ef2f8",
      "461510bd140a4ab996eb432032757cc5",
      "44de16d523574f04a049dc0e6a30f2a8",
      "5c107c985fae4138828e89940017f4ab",
      "9e40a1eaed134070bc59e5b72cb6aea2",
      "5c5e257bff4d47a2a54269e56936a8d5",
      "323236947d9447beaba635a1d0970efb",
      "37da80a1da9349d6bc1e37c8011f603f",
      "8d3047f149da470b914d1e05497afae3",
      "7ef3b5a1e4534dc2a0c0eae3277687e6",
      "bdc7b2d8e744414abc92f1e21a506635",
      "7b252dc8b00045c1a4ec137ed2e498e3",
      "1600c68b1b884a6abf16fbb80e37550c",
      "9ef49e4fdbb6472d8c27e1a8b1aa2362",
      "202faffa2d0a472aa2eb29ebd1475d45",
      "80d624a421a74073b25c2b5a5b8a40ad",
      "8fa5e72b4c264e069d1fef5da8054490",
      "8637d5511996427691ba43483412d68d",
      "be9fc06f2c864564814fb0fd63d19999",
      "855c1ef1b27a4628927a46c150b2a38c",
      "d9cfba2f6d8e46a8bbdb0c5b4841b8a1",
      "7c5b0d11b4ad4d139138bb95045858f3",
      "787507bcb20a407e8f77a3364de1d81f",
      "a1c957e52e82495dbd335be0dc65bc4c",
      "d5088dc7932a462bb1d5abfce0dc72c1",
      "009276f1c30741489be3a36c18a7385b",
      "ac32f22d4de9439eb53118b5e781e097",
      "b4ff009c4bb04656b32c51e48676e45b",
      "1bbe21b4064a45a299e94c96dd75e290"
     ]
    },
    "id": "kfi_EL2ayUQe",
    "outputId": "6cc2310e-059a-4ecd-8c1b-88e8d6aa80b4"
   },
   "outputs": [],
   "source": [
    "from transformers import pipeline\n",
    "import torch\n",
    "\n",
    "pipe = pipeline(\"automatic-speech-recognition\", model=\"Raghad-DD/wav2vec2-arabic-colab\")"
   ]
  },
  {
   "cell_type": "code",
   "execution_count": null,
   "metadata": {
    "colab": {
     "base_uri": "https://localhost:8080/",
     "height": 53
    },
    "id": "ANhtAuZc9iWK",
    "outputId": "7fd45e9d-1295-4040-841a-439e0399ef96"
   },
   "outputs": [],
   "source": [
    "x=dataset['test'][0]['transcription']\n",
    "x"
   ]
  },
  {
   "cell_type": "code",
   "execution_count": null,
   "metadata": {
    "colab": {
     "base_uri": "https://localhost:8080/"
    },
    "id": "qwt5VJI1zOdS",
    "outputId": "5b42eb08-e6b3-4bb3-f860-1b047f0d3f9d"
   },
   "outputs": [],
   "source": [
    "x2=pipe(dataset['test'][0]['audio']['path'])\n",
    "x2"
   ]
  },
  {
   "cell_type": "code",
   "execution_count": null,
   "metadata": {
    "colab": {
     "base_uri": "https://localhost:8080/"
    },
    "id": "aKCsXJao-CqC",
    "outputId": "d216bb85-59a3-4326-84cd-9d5c37d54ea8"
   },
   "outputs": [],
   "source": [
    "!pip install jiwer"
   ]
  },
  {
   "cell_type": "code",
   "execution_count": null,
   "metadata": {
    "colab": {
     "base_uri": "https://localhost:8080/"
    },
    "id": "Bv4zXtjr-FRu",
    "outputId": "585e9805-e1e2-4411-e689-4520ff71b32a"
   },
   "outputs": [],
   "source": [
    "from jiwer import wer\n",
    "\n",
    "error = wer(x, x2['text'])\n",
    "print(\"WER: \", error*100)"
   ]
  },
  {
   "cell_type": "code",
   "execution_count": null,
   "metadata": {
    "colab": {
     "base_uri": "https://localhost:8080/"
    },
    "id": "dwhtgojKyj63",
    "outputId": "329fc738-e84c-4213-d42b-cdb8f46ae64f"
   },
   "outputs": [],
   "source": [
    "all_predictions = []\n",
    "\n",
    "for i in range(len(dataset['test'])):\n",
    "  transcript = pipe(dataset['test'][i]['audio']['path'])\n",
    "  all_predictions.append(transcript['text'])"
   ]
  },
  {
   "cell_type": "code",
   "execution_count": null,
   "metadata": {
    "colab": {
     "base_uri": "https://localhost:8080/",
     "height": 67,
     "referenced_widgets": [
      "5c4ce7cc438d4782b6a703b168cb409c",
      "a3d8464ffe9343c2832e87f6e2a1b16e",
      "6cfc1a8d28f44b8580ab6c95990674a1",
      "c379bda51abb4ca4bd4fbc9b93e5fc1b",
      "d18d6693dc3c4e41933726d8f1a78cee",
      "11bffccf67d14c5da5e433f273193920",
      "551d4429b78b4306854cd3f180e1ad22",
      "504580c5e86a49c2a5445c47a85aea67",
      "3de12140e5eb4cfe86c900d9243c5ef7",
      "9e8e5759a7594e39931ba40cdadc5f99",
      "62c7eb9de580415b9849115f96461843"
     ]
    },
    "id": "2XarCpfxym6w",
    "outputId": "d6ad7e16-7f0e-45f0-e440-080e23519e57"
   },
   "outputs": [],
   "source": [
    "from evaluate import load\n",
    "\n",
    "wer_metric = load(\"wer\")\n",
    "\n",
    "wer = 100 * wer_metric.compute(references=dataset['test'][\"transcription\"], predictions=all_predictions)\n",
    "wer"
   ]
  },
  {
   "cell_type": "code",
   "execution_count": null,
   "metadata": {
    "colab": {
     "base_uri": "https://localhost:8080/",
     "height": 67,
     "referenced_widgets": [
      "0a3e00eb879243d1b9c5e91b7ca32c41",
      "5e888b9e646c4e33b21caa3bc4fee3a2",
      "af430ab01c06443bb7983e7eef9edb86",
      "a5e3877861144d34951d960e45311d4b",
      "03cf390dda434a449b4f561b9e59257b",
      "82312501d3a348908e12f30162e52fd4",
      "e5262f276d984939ac9c38a7076fa4d4",
      "416f529e97194c48be729cfaa13fa268",
      "3c5f7ef8b6f3433594bc1f60f2233401",
      "9f44c7cc0ec049709bf9b141641d7ad7",
      "a0656beaa5244fb498fd7ff0d366dd9c"
     ]
    },
    "id": "UKkmneYnyqTd",
    "outputId": "854077ec-8a13-48ef-a88a-7f7032cf7cf7"
   },
   "outputs": [],
   "source": [
    "from evaluate import load\n",
    "\n",
    "cer_metric = load(\"cer\")\n",
    "\n",
    "cer = 100 * cer_metric.compute(references=dataset['test'][\"transcription\"], predictions=all_predictions)\n",
    "cer"
   ]
  },
  {
   "cell_type": "code",
   "execution_count": null,
   "metadata": {
    "id": "YCfeIi0A0ZLy"
   },
   "outputs": [],
   "source": [
    "import csv\n",
    "with open('output-wave.csv', mode='w', newline='', encoding='utf-8-sig') as file:\n",
    "    writer = csv.writer(file)\n",
    "\n",
    "    # Write the header if needed\n",
    "    writer.writerow(['Ref', 'Predicted'])\n",
    "\n",
    "    # Write the data\n",
    "    for item1, item2 in zip(dataset['test'][\"transcription\"], all_predictions):\n",
    "        writer.writerow([item1, item2])"
   ]
  }
 ],
 "metadata": {
  "colab": {
   "provenance": []
  },
  "kernelspec": {
   "display_name": "Python 3",
   "name": "python3"
  },
  "language_info": {
   "codemirror_mode": {
    "name": "ipython",
    "version": 3
   },
   "file_extension": ".py",
   "mimetype": "text/x-python",
   "name": "python",
   "nbconvert_exporter": "python",
   "pygments_lexer": "ipython3",
   "version": "3.9.20"
  }
 },
 "nbformat": 4,
 "nbformat_minor": 0
}
