{
 "cells": [
  {
   "cell_type": "code",
   "execution_count": null,
   "metadata": {
    "colab": {
     "base_uri": "https://localhost:8080/"
    },
    "id": "_LIRkEfHYsGw",
    "outputId": "f6205d7a-2f71-40f9-d868-e492c2d02fc5"
   },
   "outputs": [],
   "source": [
    "!pip install datasets transformers sacrebleu torch sentencepiece transformers[sentencepiece]"
   ]
  },
  {
   "cell_type": "code",
   "execution_count": null,
   "metadata": {
    "colab": {
     "base_uri": "https://localhost:8080/"
    },
    "id": "7GmHd6aaZygy",
    "outputId": "30c97487-7f2a-4df7-aaa8-61c3c58cb8f1"
   },
   "outputs": [],
   "source": [
    "from google.colab import drive\n",
    "drive.mount('/content/drive')  # Mount Google Drive"
   ]
  },
  {
   "cell_type": "code",
   "execution_count": null,
   "metadata": {
    "colab": {
     "base_uri": "https://localhost:8080/",
     "height": 206
    },
    "id": "KLBhgR5YbRZe",
    "outputId": "2592887c-b66c-483c-84d1-86f639677105"
   },
   "outputs": [],
   "source": [
    "import pandas as pd\n",
    "\n",
    "df= pd.read_excel(\"/content/drive/My Drive/combined.xlsx\")\n",
    "df.head()"
   ]
  },
  {
   "cell_type": "code",
   "execution_count": null,
   "metadata": {
    "colab": {
     "base_uri": "https://localhost:8080/",
     "height": 147
    },
    "id": "irn9g48kbjUo",
    "outputId": "5c7c4c86-33a3-4c04-d4ea-bb35954bbe5f"
   },
   "outputs": [],
   "source": [
    "df.isnull().sum()"
   ]
  },
  {
   "cell_type": "code",
   "execution_count": null,
   "metadata": {
    "colab": {
     "base_uri": "https://localhost:8080/"
    },
    "id": "danoSCjKaZAz",
    "outputId": "63e7124e-1a7c-4e4c-9aef-6689000121cd"
   },
   "outputs": [],
   "source": [
    "from datasets import Dataset\n",
    "\n",
    "my_dataset = Dataset.from_pandas(df)\n",
    "print(my_dataset)"
   ]
  },
  {
   "cell_type": "code",
   "execution_count": null,
   "metadata": {
    "colab": {
     "base_uri": "https://localhost:8080/"
    },
    "id": "f2zWpk9Rh3wS",
    "outputId": "89f3b2af-561c-4ea3-d369-c59a1b21cbd6"
   },
   "outputs": [],
   "source": [
    "!pip install PyArabic"
   ]
  },
  {
   "cell_type": "code",
   "execution_count": null,
   "metadata": {
    "colab": {
     "base_uri": "https://localhost:8080/",
     "height": 49,
     "referenced_widgets": [
      "fc3461ebe125490f8f37ffff0f30c144",
      "5c52f126efd74c3197a5e5325b54db09",
      "512532fd64d64ef29b4133ffc84a07c8",
      "89acba4805a94b3da3c5ec7d882fceb0",
      "95f854dfbdb7467885fd9e8d7bc8fdc2",
      "ba01ca840cc14aa589449beb0b7d269b",
      "87844b08af25427ba803ccc29a04a5ff",
      "cade683e992e4a79a1499a457b146f45",
      "9a65f8d018d44a9c9755db48b3c75f68",
      "c699f1e7054944d2b29d483ba3beb3b9",
      "45c03078b64545f0bfeb1eeb77de3572"
     ]
    },
    "id": "un1FDvWxftqN",
    "outputId": "3b832ad8-91e5-44bb-8d37-d6ce27c83b7b"
   },
   "outputs": [],
   "source": [
    "import pyarabic.araby as araby\n",
    "import re\n",
    "\n",
    "def clean_arabic(example):\n",
    "  # example['Text (Arabic)'] = re.sub(r'[.?،,!:\\\"\\'؟]', '', example['Text (Arabic)'])\n",
    "  example['Text (Arabic)'] = re.sub(r'[,]', '،', example['Text (Arabic)'])\n",
    "  example['Text (Arabic)'] = araby.strip_diacritics(example['Text (Arabic)'])\n",
    "  return example\n",
    "\n",
    "my_dataset = my_dataset.map(clean_arabic)"
   ]
  },
  {
   "cell_type": "code",
   "execution_count": null,
   "metadata": {
    "colab": {
     "base_uri": "https://localhost:8080/"
    },
    "id": "Ij2__EJ4ehhs",
    "outputId": "77948f7b-f2a3-47b7-a7d7-76a8822e5b7c"
   },
   "outputs": [],
   "source": [
    "import re\n",
    "\n",
    "# filter rows that have anything other than letters\n",
    "def filter_dataset(dataset):\n",
    "    filtered_rows = []\n",
    "    for i in range(len(dataset['Text (Arabic)'])):\n",
    "        if bool(re.search(r'[^\\u0621-\\u064A\\s]', dataset['Text (Arabic)'][i])):\n",
    "            filtered_rows.append(i)\n",
    "\n",
    "    return dataset.select(filtered_rows)\n",
    "\n",
    "filtered_dataset2 = filter_dataset(my_dataset)\n",
    "\n",
    "print(filtered_dataset2)"
   ]
  },
  {
   "cell_type": "code",
   "execution_count": null,
   "metadata": {
    "id": "-Ko3tixRfX4O"
   },
   "outputs": [],
   "source": [
    "for i in range(len(filtered_dataset2)):\n",
    "  print(filtered_dataset2[i]['Text (Arabic)'])\n",
    "  # print(filtered_dataset2[i]['Text (English)'])\n",
    "  print(\"\\n\")"
   ]
  },
  {
   "cell_type": "code",
   "execution_count": null,
   "metadata": {
    "colab": {
     "base_uri": "https://localhost:8080/"
    },
    "id": "L7XhJBgIxqMo",
    "outputId": "81df324f-5bac-4ffd-cdd4-e49773694582"
   },
   "outputs": [],
   "source": [
    "!pip install contractions"
   ]
  },
  {
   "cell_type": "code",
   "execution_count": null,
   "metadata": {
    "colab": {
     "base_uri": "https://localhost:8080/",
     "height": 49,
     "referenced_widgets": [
      "3296d7c7a61e4c4da95c192bf2618739",
      "6f5a332399c54d1d8402bf5e6767163c",
      "4a311036531e4a88846982d4ba760ccd",
      "611f376da37f4fc6bc4a78e3bc11df09",
      "e252a868119e452bac0c247665417732",
      "fd624c91bdb046eabac5d31ce904e0a3",
      "8f75f4d22c4f45bb89f6e0c77e2ceb67",
      "8f2237920ba0424b857642d5e9232a9f",
      "401df74bb1154ca9a5a580f5f5a3ac36",
      "788a418785964a4b88859a9fda496035",
      "ebb26b40184d48e3aaed228ab95f77a9"
     ]
    },
    "id": "qzB5_GbHnZjB",
    "outputId": "8fc9067b-1c0e-470a-b347-bc3c04651a8a"
   },
   "outputs": [],
   "source": [
    "import contractions\n",
    "\n",
    "def clean_english(example):\n",
    "  example['Text (English)'] = contractions.fix(example['Text (English)']) # this expands words like I'm to I am\n",
    "  # example['Text (English)'] = re.sub(r'[:.?,\\'!;()‘’“”\"*…]', '', example['Text (English)'])\n",
    "  # example['Text (English)'] = re.sub(r'[-—]', ' ', example['Text (English)'])\n",
    "  example['Text (English)'] = re.sub(r'[\\u0621-\\u064A]', '', example['Text (English)'])\n",
    "  example['Text (English)'] = re.sub(r'[()*…...]', '', example['Text (English)'])\n",
    "  example['Text (English)'] = re.sub(r'[%]', ' percent', example['Text (English)'])\n",
    "  example['Text (English)'] = example['Text (English)'].strip()\n",
    "  return example\n",
    "\n",
    "my_dataset = my_dataset.map(clean_english)"
   ]
  },
  {
   "cell_type": "code",
   "execution_count": null,
   "metadata": {
    "colab": {
     "base_uri": "https://localhost:8080/"
    },
    "id": "MQuxO7Z7n_uI",
    "outputId": "5ff2314c-5e44-4cbb-d8c2-364d17e3c2a0"
   },
   "outputs": [],
   "source": [
    "import re\n",
    "\n",
    "# filter rows that have anything other than letters\n",
    "def filter_dataset(dataset):\n",
    "    filtered_rows = []\n",
    "    for i in range(len(dataset['Text (English)'])):\n",
    "        if bool(re.search(r'[^A-Za-z\\s]', dataset['Text (English)'][i])):\n",
    "            filtered_rows.append(i)\n",
    "\n",
    "    return dataset.select(filtered_rows)\n",
    "\n",
    "filtered_dataset2 = filter_dataset(my_dataset)\n",
    "\n",
    "print(filtered_dataset2)"
   ]
  },
  {
   "cell_type": "code",
   "execution_count": null,
   "metadata": {
    "id": "t-FrPDxznu3X"
   },
   "outputs": [],
   "source": [
    "for i in range(len(filtered_dataset2)):\n",
    "  # print(filtered_dataset2[i]['Text (Arabic)'])\n",
    "  print(filtered_dataset2[i]['Text (English)'])\n",
    "  print(\"\\n\")"
   ]
  },
  {
   "cell_type": "code",
   "execution_count": null,
   "metadata": {
    "id": "lI3NPuTRdJaw"
   },
   "outputs": [],
   "source": [
    "from transformers import AutoTokenizer\n",
    "\n",
    "model_checkpoint=\"Helsinki-NLP/opus-mt-ar-en\"\n",
    "tokenizer = AutoTokenizer.from_pretrained(model_checkpoint)"
   ]
  },
  {
   "cell_type": "code",
   "execution_count": null,
   "metadata": {
    "colab": {
     "base_uri": "https://localhost:8080/"
    },
    "id": "XXuyx3i62_hw",
    "outputId": "3316c187-b37b-4f29-cdfb-e58f89915314"
   },
   "outputs": [],
   "source": [
    "!pip install sacremoses"
   ]
  },
  {
   "cell_type": "code",
   "execution_count": null,
   "metadata": {
    "id": "0n8zfM9skyve"
   },
   "outputs": [],
   "source": [
    "print(my_dataset[40]['Text (Arabic)']+\"\\n\")\n",
    "print(my_dataset[40]['Text (English)'])"
   ]
  },
  {
   "cell_type": "code",
   "execution_count": null,
   "metadata": {
    "id": "xpPZZYWIjVco"
   },
   "outputs": [],
   "source": [
    "tokenizer.tokenize(my_dataset[40]['Text (Arabic)'])"
   ]
  },
  {
   "cell_type": "code",
   "execution_count": null,
   "metadata": {
    "id": "aI-N0eJmlerl"
   },
   "outputs": [],
   "source": [
    "tokenizer.tokenize(my_dataset[1000]['Text (English)'])"
   ]
  },
  {
   "cell_type": "code",
   "execution_count": null,
   "metadata": {
    "colab": {
     "base_uri": "https://localhost:8080/"
    },
    "id": "GYu47_Bga2-Y",
    "outputId": "d1010287-fa9f-4513-c039-3ab0c5d8e6fa"
   },
   "outputs": [],
   "source": [
    "my_dataset = my_dataset.train_test_split(test_size=0.3, seed=42)\n",
    "print(my_dataset)"
   ]
  },
  {
   "cell_type": "code",
   "execution_count": null,
   "metadata": {
    "colab": {
     "base_uri": "https://localhost:8080/"
    },
    "id": "Zmtb0bAwMA-J",
    "outputId": "a670b30e-69a3-4a2c-d840-d82fe4062891"
   },
   "outputs": [],
   "source": [
    "my_dataset_test = my_dataset['test'].train_test_split(test_size=0.5, seed=42)\n",
    "print(my_dataset_test)"
   ]
  },
  {
   "cell_type": "code",
   "execution_count": null,
   "metadata": {
    "colab": {
     "base_uri": "https://localhost:8080/"
    },
    "id": "8Nr97uZJMTGS",
    "outputId": "364a30ef-35a6-4481-af60-c44914c02875"
   },
   "outputs": [],
   "source": [
    "my_dataset['validation'] = my_dataset_test['train']\n",
    "my_dataset['test'] = my_dataset_test['test']\n",
    "print(my_dataset)"
   ]
  },
  {
   "cell_type": "code",
   "execution_count": null,
   "metadata": {
    "colab": {
     "base_uri": "https://localhost:8080/",
     "height": 521
    },
    "id": "2XwxmJRsoyMY",
    "outputId": "a2eeeab2-f778-4970-d6c8-01c5cc8b3eb1"
   },
   "outputs": [],
   "source": [
    "# Tokenize the sentences and calculate their lengths to find max length\n",
    "tokenized_lengths = [len(tokenizer.encode(sentence)) for sentence in my_dataset['train']['Text (Arabic)']] # for eng do 'Text (English)'\n",
    "\n",
    "print(\"Tokenized Lengths of Sentences:\", tokenized_lengths)\n",
    "\n",
    "import numpy as np\n",
    "print(\"Mean Length:\", np.mean(tokenized_lengths))\n",
    "print(\"Max Length:\", np.max(tokenized_lengths))\n",
    "\n",
    "x = np.where(np.array(tokenized_lengths) > 33)\n",
    "print(len(x[0]))\n",
    "\n",
    "import matplotlib.pyplot as plt\n",
    "plt.hist(tokenized_lengths)\n",
    "plt.show()"
   ]
  },
  {
   "cell_type": "code",
   "execution_count": null,
   "metadata": {
    "id": "MIH7lCnk3Qua"
   },
   "outputs": [],
   "source": [
    "max_input_length = 190\n",
    "max_target_length = 390\n",
    "source_lang = \"ar\"\n",
    "target_lang = \"en\"\n",
    "\n",
    "def preprocess_function(examples):\n",
    "    model_inputs = tokenizer(examples[\"Text (Arabic)\"], max_length=max_input_length, truncation=True)\n",
    "\n",
    "    with tokenizer.as_target_tokenizer():\n",
    "        labels = tokenizer(examples[\"Text (English)\"], max_length=max_target_length, truncation=True)\n",
    "    model_inputs[\"labels\"] = labels[\"input_ids\"]\n",
    "    return model_inputs"
   ]
  },
  {
   "cell_type": "code",
   "execution_count": null,
   "metadata": {
    "colab": {
     "base_uri": "https://localhost:8080/",
     "height": 169,
     "referenced_widgets": [
      "fdccf735302f4fb1accf0828a50bbf8b",
      "687ba57916174d0d89bec3f3b37e9469",
      "9819c4ffbe3a4222ad7c8d25852f1e3f",
      "dc31d542f76d47fe96511aca37196b82",
      "95d0a9194c94481b89712cd0bce62d7f",
      "8e52d632af9041f0a4f16e660779b9b8",
      "52441ac213134658bce0a34d78e3dde3",
      "b9e47842040942b5b0d9fd6abd638405",
      "1ffc318f71384338bbebb86b5a15de61",
      "f20d903154ef45adba5dbf7b7f1f25ff",
      "7d262e7733234c93820bc6c8cc27c8b6",
      "2c3d4eed875a4e53804e8270125c4023",
      "c26caa4fc4a94803bb296327c5a32ea7",
      "fe49ec43a379492b90c68ededa11e0ac",
      "d76ceab5e33d48e3afe2674d659b246e",
      "98b38170427f4f8e9c598c0d4fd789a0",
      "bb7e223b62cc46e1ae03080a61ed1128",
      "390d579f13e1474184d5d201bea056ef",
      "8086278d0292443c9abe1cc7352ce4ea",
      "524f07332053499e90b859f991d4b467",
      "c94941927e9f4902b6635d35a1d4719c",
      "7865e554b7de4046b260eceebd5792bc",
      "bd2916b46bdc45a6bd0f550c545ec5b7",
      "b317b0b4caac4f75b8945527cfef1aab",
      "5ecfa63889254aefb605e2b31ffce146",
      "a61c1ad80a6e45078c52e883f3496423",
      "5718f2e9b7c54bcb9bc0ba07a8054874",
      "38196c532b3f4ef9b4b9dd47f9f84ba4",
      "bf56f12c008e47169bc3691c0f47da7d",
      "952da245e70e4553b01ffc1d7a341173",
      "ac3b9b95a14a47a3bfca74095001de18",
      "ff056c15d01e4efe927ac4378a789b83",
      "427f6f64f0154a05bf12b63b0fbad76c"
     ]
    },
    "id": "KOT9f3rm4Gmg",
    "outputId": "012e7ad1-5249-44ac-f994-c8d82cd4fd42"
   },
   "outputs": [],
   "source": [
    "tokenized_datasets = my_dataset.map(preprocess_function, batched=True)"
   ]
  },
  {
   "cell_type": "code",
   "execution_count": null,
   "metadata": {
    "id": "uOGiKe8L4Mca"
   },
   "outputs": [],
   "source": [
    "from transformers import AutoModelForSeq2SeqLM\n",
    "\n",
    "model = AutoModelForSeq2SeqLM.from_pretrained(model_checkpoint)"
   ]
  },
  {
   "cell_type": "code",
   "execution_count": null,
   "metadata": {
    "id": "KP1H6F7o43v2"
   },
   "outputs": [],
   "source": [
    "from transformers import DataCollatorForSeq2Seq\n",
    "\n",
    "data_collator = DataCollatorForSeq2Seq(tokenizer, model=model)"
   ]
  },
  {
   "cell_type": "code",
   "execution_count": null,
   "metadata": {
    "colab": {
     "base_uri": "https://localhost:8080/"
    },
    "id": "sT79BlGc7tiF",
    "outputId": "b2813291-1bcb-4c7c-ebc9-f0cf3a8974ed"
   },
   "outputs": [],
   "source": [
    "!pip install evaluate"
   ]
  },
  {
   "cell_type": "code",
   "execution_count": null,
   "metadata": {
    "colab": {
     "base_uri": "https://localhost:8080/"
    },
    "id": "RKcfGpB-7tBd",
    "outputId": "24e262f5-d806-48d5-ed63-11afcf9e1b77"
   },
   "outputs": [],
   "source": [
    "from evaluate import load\n",
    "\n",
    "bleu = load(\"bleu\")\n",
    "meteor = load('meteor')"
   ]
  },
  {
   "cell_type": "code",
   "execution_count": null,
   "metadata": {
    "id": "WyzEPubiqNq9"
   },
   "outputs": [],
   "source": [
    "fake_preds = [\"Is there elevator?\", \"I've seen him before.\"]\n",
    "fake_labels = [[\"Is there an elevator?\"], [\"I've seen him before.\"]] # list of list when multiple references so can remove it\n",
    "\n",
    "print(bleu.compute(predictions=fake_preds, references=fake_labels))\n",
    "print(meteor.compute(predictions=fake_preds, references=fake_labels))"
   ]
  },
  {
   "cell_type": "code",
   "execution_count": null,
   "metadata": {
    "id": "_7f-lC4v5BPd"
   },
   "outputs": [],
   "source": [
    "import numpy as np\n",
    "\n",
    "def postprocess_text(preds, labels):\n",
    "  preds = [pred.strip() for pred in preds]\n",
    "  labels = [label.strip() for label in labels]\n",
    "  return preds, labels\n",
    "\n",
    "def compute_metrics(eval_preds):\n",
    "  preds, labels = eval_preds\n",
    "  if isinstance(preds, tuple):\n",
    "      preds = preds[0]\n",
    "  decoded_preds = tokenizer.batch_decode(preds, skip_special_tokens=True)\n",
    "  # Replace -100 in the labels as we can't decode them.\n",
    "  labels = np.where(labels != -100, labels, tokenizer.pad_token_id)\n",
    "  decoded_labels = tokenizer.batch_decode(labels, skip_special_tokens=True)\n",
    "  # Some simple post-processing\n",
    "  decoded_preds, decoded_labels = postprocess_text(decoded_preds, decoded_labels)\n",
    "  result = bleu.compute(predictions=decoded_preds, references=decoded_labels)\n",
    "  result_meteor = meteor.compute(predictions=decoded_preds, references=decoded_labels)\n",
    "  result = {\"bleu\": result[\"bleu\"]}\n",
    "  result['meteor'] = result_meteor['meteor']\n",
    "  prediction_lens = [np.count_nonzero(pred != tokenizer.pad_token_id) for pred in preds]\n",
    "  result[\"gen_len\"] = np.mean(prediction_lens)\n",
    "  result = {k: round(v, 4) for k, v in result.items()}\n",
    "  return result"
   ]
  },
  {
   "cell_type": "code",
   "execution_count": null,
   "metadata": {
    "colab": {
     "base_uri": "https://localhost:8080/",
     "height": 17,
     "referenced_widgets": [
      "15416a9e62c548fc9f9bb46f7f2db35c",
      "0c5cd59c330a4f9687c08b86ba033233",
      "f1b9db750c79458e8413335308d7246d",
      "104a930219454fd48b970622cce9b425",
      "6b2e528408ef482f804362f733990c07",
      "be98783ba4164dbab1201f8cf5c71d0f",
      "61ee0d44ada248daaf8ba1540932c802",
      "4f0265db13114727a04d73d6ce22f40e",
      "ef8e513b460b4d83805034e5473d80e3",
      "54c7fdadf43a443eab5b34d2b24f4a07",
      "327a09ed46604f8f8b975fe1c23cd7a2",
      "e06b2094d6724567bbd2057fc848aae9",
      "d8304499c4994311a373444c737157d5",
      "b407edb4a6064754b004b7110afb1782",
      "3e1bc1fcd26d42d5858d63ac57826dcc",
      "ff6019f21ed7403a9f0427ab5b3665b1",
      "86a9cf70999c44acae5d3cc1b85696ba",
      "8b561ac695df4b98936e6df52549dadf",
      "cb84344c6972432da775a44d3ec6b145",
      "bb35843bbbe047c6933bfea585b488fb"
     ]
    },
    "id": "OKBrb28e8JbR",
    "outputId": "8818aa40-8e61-4405-8b10-0329b75cba3a"
   },
   "outputs": [],
   "source": [
    "from huggingface_hub import notebook_login\n",
    "\n",
    "notebook_login()"
   ]
  },
  {
   "cell_type": "code",
   "execution_count": null,
   "metadata": {
    "colab": {
     "base_uri": "https://localhost:8080/"
    },
    "id": "u6P61Mj-4U75",
    "outputId": "1ffa1a51-29aa-4dc8-e9a8-deb2579a46b3"
   },
   "outputs": [],
   "source": [
    "from transformers import Seq2SeqTrainingArguments\n",
    "\n",
    "# try diff parameters\n",
    "batch_size = 4\n",
    "model_name = model_checkpoint.split(\"/\")[-1]\n",
    "args = Seq2SeqTrainingArguments(\n",
    "    f\"{model_name}-finetuned-{source_lang}-to-{target_lang}-13\",\n",
    "    evaluation_strategy = \"epoch\",\n",
    "    save_strategy = \"epoch\",\n",
    "    learning_rate=1e-5,\n",
    "    per_device_train_batch_size=batch_size,\n",
    "    per_device_eval_batch_size=batch_size,\n",
    "    weight_decay=0.001,\n",
    "    num_train_epochs=15,\n",
    "    predict_with_generate=True,\n",
    "    push_to_hub=False,\n",
    "    warmup_steps=20,\n",
    "    load_best_model_at_end=True,\n",
    "    metric_for_best_model='eval_loss',\n",
    "    lr_scheduler_type=\"cosine\"\n",
    "\n",
    ")"
   ]
  },
  {
   "cell_type": "code",
   "execution_count": null,
   "metadata": {
    "colab": {
     "base_uri": "https://localhost:8080/"
    },
    "id": "CdBjdpom5DX1",
    "outputId": "5a5f5bdf-8e0c-4dae-8c4d-d8c8ffabe33d"
   },
   "outputs": [],
   "source": [
    "from transformers import Seq2SeqTrainer, EarlyStoppingCallback\n",
    "\n",
    "trainer = Seq2SeqTrainer(\n",
    "    model,\n",
    "    args,\n",
    "    train_dataset=tokenized_datasets[\"train\"],\n",
    "    eval_dataset=tokenized_datasets[\"validation\"],\n",
    "    data_collator=data_collator,\n",
    "    tokenizer=tokenizer,\n",
    "    compute_metrics=compute_metrics,\n",
    "    callbacks=[EarlyStoppingCallback(4)]\n",
    ")"
   ]
  },
  {
   "cell_type": "code",
   "execution_count": null,
   "metadata": {
    "id": "ZIv0LbKc7hzQ"
   },
   "outputs": [],
   "source": [
    "import os\n",
    "\n",
    "# Set your API key\n",
    "os.environ[\"WANDB_API_KEY\"] = \"\""
   ]
  },
  {
   "cell_type": "code",
   "execution_count": null,
   "metadata": {
    "colab": {
     "base_uri": "https://localhost:8080/",
     "height": 126
    },
    "id": "2vDVE1Bd6zLA",
    "outputId": "70c61bdf-267b-4596-d1bf-657c906fe7e5"
   },
   "outputs": [],
   "source": [
    "import wandb\n",
    "import time\n",
    "\n",
    "# run this before every run so it doesn't overwrite the previous run\n",
    "wandb.init(project=\"huggingface\", name=f\"run_{int(time.time())}\")"
   ]
  },
  {
   "cell_type": "code",
   "execution_count": null,
   "metadata": {
    "colab": {
     "base_uri": "https://localhost:8080/",
     "height": 530
    },
    "id": "YA4x8ve_5Gm_",
    "outputId": "288ad765-9097-4b46-dfff-73ade0fa4190"
   },
   "outputs": [],
   "source": [
    "trainer.train()"
   ]
  },
  {
   "cell_type": "code",
   "execution_count": null,
   "metadata": {
    "colab": {
     "base_uri": "https://localhost:8080/",
     "height": 896
    },
    "id": "5Sf-bT2CNFBP",
    "outputId": "0e34a769-126a-4c03-d5e5-ef79242a4bb8"
   },
   "outputs": [],
   "source": [
    "# close it after run else it overwrites then try next run\n",
    "wandb.finish()"
   ]
  },
  {
   "cell_type": "code",
   "execution_count": null,
   "metadata": {
    "colab": {
     "base_uri": "https://localhost:8080/",
     "height": 408,
     "referenced_widgets": [
      "9a8531179ccb4aecbd1b085d76b3cf8e",
      "c94b15daf36b4b3792c06bd07edc014c",
      "3c83e12919074ab4b7917981ea5f98ac",
      "650d09ba7e2a4409a078f77e443c9223",
      "577d86cc435d4e519bc4848716d0ea59",
      "872dac678400495ea892af152c42a48b",
      "814a4e15b2bc44cd870201346ef1cfa2",
      "9440ce023df54952b9442c4edf12a8de",
      "82166ffc1ac744b384902e1b402f42fb",
      "53d3fafc068145438afaa04a43b416db",
      "ebafd6150e7f4e54ba9b1cf6870d78c4",
      "cbacc02d983843d38887ffa64ead9555",
      "0fa10b90b4f544eda91e27ea2e1aeed0",
      "97f933b6daab4de5bf2e970bfeb3e987",
      "16427750f03a426fb5ccc9521936d89f",
      "2cd0da68216843b188865ecad34b781c",
      "b470acd1b03c4cbfb88eb370ae7265b1",
      "01484174cd294b40adba69a5ecaeb096",
      "83673271415c4d318e197b16161d6997",
      "c16ad375e0bf429cb4ff1f7c1aeed784",
      "b3858e097ada42749a1354bac993d2da",
      "3d57b746de48458fb2d4573fcee7077b",
      "d1e75cd7776c40ffac5cc9deaba770b8",
      "9749fd0edfb84ce1b08085dbe8e9c4f7",
      "f7e1dbeb139c4e00b4cf70c032becef4",
      "8351ab2a5206425a96cf9ce044b86a7a",
      "7226989ba3cf425d987a9f8cd1d9baec",
      "49670d3c8bc140f7b725ffaa3aeae65a",
      "14fbe2881e2845b2bcf90a5ab36baf5b",
      "654efa68293b4d0a9e3e687589060faa",
      "6cfc43847e77442d8c5a0853e2fba8b1",
      "23955d4b96ab44d88045fe7025e54d35",
      "02eb81afe76e40e791fdff1940826f92",
      "dce5416ac76b467caccc6af17b48ceee",
      "51789bfdc1394f35b1d3241b0d4a9c39",
      "9021da58b85942c4964f832d29798823",
      "9b4f0396555944ada3202eccf3d8ede7",
      "42545b2c327e4b65b9da89d5e85ca69d",
      "2c762789720547faaa4450b8dcc6bc45",
      "953bdf2b950a410ea65301ed162b4495",
      "7381c59c93b54385abb72ad5377b90ce",
      "be3a39d349c6466ead37ef44bbaad379",
      "5b1202b4d7bc4cce919107dfcd0fd8d4",
      "a2268eb799ab4908a748507a1b2dab87",
      "07dc534163484444b0b46d2ac7b67350",
      "27302ff72b134270a2ca0dea7f17221e",
      "6e43b850781242009a07e38a0f4e066b",
      "96619e2d68c04538b80250cf82f074e4",
      "1caac2cff77e4bb9bd227307ee8eac34",
      "3de51aea304f4e718ae212c6f59cb121",
      "249e4a0af57a4070afdce608cb0b1362",
      "c94c73a5688645dfb35110a51fb0cabc",
      "868f466cd6014120b8f356f63bf9b8bd",
      "d15e94dd4dc243ada06eaf880efa5482",
      "8483acb8abcd4773b49ba6845b04d602",
      "1f126b4bc6f44c84b7463ed05e38763b",
      "708e81f17d0c41f8aef09d4397d9d96d",
      "2d6201c972de4bff8f783a8742def93e",
      "f64d06a93b42419c8f11057d031ae53d",
      "8cfb05bf4b4840dd9f03050bfacef4c6",
      "71534557e1d84c369788958c8b96b230",
      "50e03fa1a22b4440b44d4b7f21759be9",
      "794d6ac5e17242e9954003cccb634a5d",
      "8fc26663fb8d4f3e9b66a87393ac42b3",
      "0d17727573144349967000b09d9a4dbb",
      "abe24816de0f4d4ab6913174ecaaf3a7",
      "a29b79517b05445eb7190644d152f243",
      "a5ff56847f394b83b7a826aa35d8d7e6",
      "a2aa7c4215ee4ed6999829d28af2f703",
      "db13f5a5953d4e31a195b81da076d118",
      "77d77e7f78fd47ccaf7ee50e8056e9e6",
      "c7216f480078416c8a1cde796f5fe20d",
      "6ab1e0cd7b7b466fbfee5b1c3806e7bf",
      "d055456988044b95ad843570b24e71a5",
      "9ddccd141fc74fb09dcb90410bc8277d",
      "6d15f63e2ef14cfd8b9925375bdae6bc",
      "8077866c36584484bd68715de21a8c3a",
      "92f0c9df1fe647fb853a226bc9ed1027",
      "782bd4f4a6c74b43a6714f127f9df075",
      "1b4fae38cbf9467eb9c6d3d4def04178",
      "fab3ded92c824754b413155bcc340b4e",
      "d8e8dcffd70745968c0d5bccf5262a7a",
      "969e12348366414580b58861cebac3fd",
      "e3cc6dd823834c88b0f8cea91bb7f6b0",
      "d023ac4f50cb41cb948cec1026339445",
      "a8cc285ba6214261bd0f1a1edf520091",
      "2a97687ab0514788aacdc83019519607",
      "cbdbc5eb79e747ac84c4f89a9b3323f1",
      "d69c9e0502bb49389d3def759c56889e",
      "3b44f26b9cbc478389fea6f33bd19f29",
      "9ad8fa05ebcb4a4991b2d5816bdd3302",
      "8c960006c15b4972ab06823e4a39e9be",
      "dfc9ee01bc1e488e8097a3e7d47bd452",
      "2942ce88425f48469b67c31c7a4eedcd",
      "89f136006f2f4c96a9ca2733e3a93303",
      "7a7cdd01790349a3a44529c65a73dc0e",
      "5204e19ec520439197f0b4ee85dd40b2",
      "0e564e7e034b414e838590243af5a5cd",
      "c73c7ad4e59f43edbf3e81505ecd1891",
      "aa7167bc7e844ea89724f240d6957595",
      "c03edaaa04ee4d2eab3e959c4aa0efc9",
      "30a80ed7f6604db9aef768c367407a01",
      "2616e3a8bf574badbeb26e59543a078f",
      "4cf984262d984086a071a0a5fdb86bf3",
      "98401e7fb92e4eb992ff49f04acde112",
      "d65ac3cb821e413c8edd2d175d8ef448",
      "77420d3141da4f72b8d1d3e7ceba894e",
      "78a5ccba1e2e4fe79ea22d16346e7a58",
      "7ca952c415fd4aa69815f657dd5af7ff",
      "41d432edb727439e998a7e25d6cdc785"
     ]
    },
    "id": "eqAfW2Evwgym",
    "outputId": "268612da-dd0b-4b50-ba56-5f8ccfc7a440"
   },
   "outputs": [],
   "source": [
    "trainer.push_to_hub()"
   ]
  },
  {
   "cell_type": "code",
   "execution_count": null,
   "metadata": {
    "colab": {
     "base_uri": "https://localhost:8080/"
    },
    "id": "ARrUmTlwwDbL",
    "outputId": "071edaf3-0220-4373-8bc2-ab809f4b7753"
   },
   "outputs": [],
   "source": [
    "my_dataset['test'][2]"
   ]
  },
  {
   "cell_type": "code",
   "execution_count": null,
   "metadata": {
    "colab": {
     "base_uri": "https://localhost:8080/",
     "height": 291,
     "referenced_widgets": [
      "a0ceb4d80db04d8aab10e1bb9771168d",
      "84d1bd414c254c339d9109dbddd7d212",
      "831c883240fd425cbab1bd676f7e3c51",
      "633f9ed7c4d44163b57b590f79c4399c",
      "0f189e8061864a37841c4965537d100d",
      "d751b90367674a58beae7fcbd3ed445e",
      "600635f0ec26468886d528e7626345b1",
      "dcd0b6d8c8e34dbc9be96543dd77107b",
      "591224c2096540889fd0abf931e42dc0",
      "ee4f5da6d0174df4b86570a950d3a2ec",
      "43b2435f039d4671b9b338f4f82605ca",
      "a60d1b61929f4a8f98b7c8386a51a66f",
      "e0bb5bdea1fd438f9f26476f2ef8cbda",
      "3c6a3fa21d954740a3ccce7f13304a30",
      "e1a02506b6b24348b567d2dca6e0cc97",
      "fbc3fc59ddf6451c8e5e745adb7839af",
      "bfde1f2144784cb2820619a64347e597",
      "f7f2fb5cef0c4024864082582f7db7ce",
      "40122b9edadb4a0fb5e5356389264a93",
      "9e8b7875c78e447ca93a793323941573",
      "f51f3058563c46b1a7967d7afcaf9e4d",
      "2bfd111294624a7aa67916b139e54631",
      "9393957ec930499cb8e2b24edf0b7834",
      "97edb822526249d1b256383381e5ee70",
      "9f96079edeb04b27a192cc2d50271c52",
      "cf3eed59c099462f9eb37d638159fc86",
      "6ee35f5a8c26460b9855b2f66d14c919",
      "0a0e259ba6bf45b4ac972a131b46f283",
      "c3892d92ca174b32a2580d8737186538",
      "fb26005fb5c04590a6720cd9b0da14cd",
      "02154ef8d96d4b0fbda5b803fdbd9206",
      "658d1623ea9146408878468556ebeeb6",
      "030d37143baa47cea0ac0b5e0cbb7d4e",
      "cb5d0566bc364ae9849ba70926aaa96c",
      "b90a1d38fb394d149994756abf0e98d0",
      "756e8a480f5d466a98733649d717fce9",
      "25e30482c93e41e8843a4c80f8bb7953",
      "53759cf806b5458aab0770d572c583e9",
      "83133411380d4e57896238f907c837ad",
      "1b0c33e603fc4711a051a00e1c0ee4fc",
      "f63f6bc28c664fd495a07680660e7137",
      "a2aa3e2dc21a476cbe5ff5498c106fbc",
      "d4ba36b5265844ceb100fd1caf00ff0a",
      "b706359c4899477aa50f34a395c86dc2",
      "88e4fcd595854ae18fc069cf8f331ebd",
      "baac25a271ca470eae5c17c67a3bcbec",
      "2d21afbfd5ce4bbf9b13e8241c7f723c",
      "c49a895a82b74361a6c1c1020a08af8b",
      "47ac7d9e5d2746be92068f2440a0971e",
      "b2a0aeb3442b4563a117f7b6f63e3515",
      "4322a9cb2e4543afb1442e1872715d23",
      "a8fa55bbbf2e492ba7fe78f93291bf76",
      "f0180946672e4600850d862468fb4578",
      "cb7cd6a1214745c88093f999c0bb0836",
      "cdb02daa06794001ab87c00181009efa",
      "b59069cf93ac48b981a3542d5c55c0a4",
      "71fd798216a54889b067e4e5bffae31c",
      "564951c34b1047ef99bec23fedd22b13",
      "e29e76e6f82541ebb7b9db4270f0d36a",
      "c7d2ebc8bbae4d13a2239e0770b56115",
      "c15c7609a5fc4267ad98295a7c90ed50",
      "8d94ad4a2d494c3ba348cb50b1e01fa1",
      "94a159024127457aadbeb8a5fd355263",
      "b2e6346adf824697a6386c47475c97b0",
      "e5fc60e74aab45f4bee3004e3d62b735",
      "2205a031e5c943d0a053bc0c3c327fdb",
      "0b9d207f4efd4daf9c8c7db9a8e19d2c",
      "e10db94725784b458fa2fb99211c1989",
      "6002b80952db474c992a80178df7af27",
      "a32c56143bcf43039cb9e4cd2845df9e",
      "2a77a089d2fa42da87b45ed863b75f34",
      "ded7bc79e4204a1899f5bf9c4f890634",
      "eb3c67b22fba4ab4b98eaabceaabd6fd",
      "45a1ec7416c34f7bbf721ff6b35469b4",
      "ec662ad3d2ea44a8bad9aa671ba8a1ff",
      "684d8e0d110a4708986a262821223676",
      "6a7d82b0d7914162a2175df9f9b97a39",
      "2cef365a78ef4479a4af53272db5bc23",
      "02a4ee5c6dcf48b387844bdf6dd15f34",
      "4ca4107d285149b2a4a9acbea533cf16",
      "1b265bfd1fe14c8aaaf45c7af6868769",
      "8f02a78a11b44ea08280f2f4dfad197e",
      "3e38451a0ae749989c03c806dc45590e",
      "c72fbd7aa70d4dad95497eccdf34a636",
      "18b6c34ce0134f29beb778e5f18fbf0b",
      "469a9a2227b7493aa8d907db66602047",
      "709d8962eb914ee69e72410da4d73912",
      "4aad599e69af4a48bac415d501348be8"
     ]
    },
    "id": "zt1tysnY8p6m",
    "outputId": "1ec3228c-db0c-4319-b543-d4d119f7d321"
   },
   "outputs": [],
   "source": [
    "from transformers import AutoModelForSeq2SeqLM, AutoTokenizer\n",
    "\n",
    "# check some translations with trained model\n",
    "src_text = my_dataset['test'][2]['Text (Arabic)']\n",
    "\n",
    "model_checkpoint = \"\"\n",
    "tokenizer = AutoTokenizer.from_pretrained(model_checkpoint)\n",
    "model = AutoModelForSeq2SeqLM.from_pretrained(model_checkpoint)\n",
    "\n",
    "\n",
    "translated = model.generate(**tokenizer(src_text, return_tensors=\"pt\", padding=True)) # can try more parameters\n",
    "[tokenizer.decode(t, skip_special_tokens=True) for t in translated]"
   ]
  },
  {
   "cell_type": "markdown",
   "metadata": {
    "id": "6usbHFqEESdV"
   },
   "source": [
    "Referneces:\n",
    "\n",
    "-https://medium.com/@tskumar1320/how-to-fine-tune-pre-trained-language-translation-model-3e8a6aace9f"
   ]
  }
 ],
 "metadata": {
  "accelerator": "GPU",
  "colab": {
   "gpuType": "T4",
   "provenance": []
  },
  "kernelspec": {
   "display_name": "Python 3",
   "name": "python3"
  },
  "language_info": {
   "name": "python"
  }
 },
 "nbformat": 4,
 "nbformat_minor": 0
}
