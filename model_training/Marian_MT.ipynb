{
 "cells": [
  {
   "cell_type": "code",
   "execution_count": null,
   "metadata": {
    "colab": {
     "base_uri": "https://localhost:8080/"
    },
    "id": "_LIRkEfHYsGw",
    "outputId": "ff3e3cb5-aee2-4e0b-9657-f3bd8364e157"
   },
   "outputs": [],
   "source": [
    "!pip install datasets transformers sacrebleu torch sentencepiece transformers[sentencepiece]"
   ]
  },
  {
   "cell_type": "code",
   "execution_count": null,
   "metadata": {
    "colab": {
     "base_uri": "https://localhost:8080/"
    },
    "id": "7GmHd6aaZygy",
    "outputId": "5e92ca99-61d2-4f87-fdcc-c0876bbcb52f"
   },
   "outputs": [],
   "source": [
    "from google.colab import drive\n",
    "drive.mount('/content/drive')  # Mount Google Drive"
   ]
  },
  {
   "cell_type": "code",
   "execution_count": null,
   "metadata": {
    "colab": {
     "base_uri": "https://localhost:8080/",
     "height": 206
    },
    "id": "KLBhgR5YbRZe",
    "outputId": "f32a57ee-85ec-4972-c1ba-92b1ebaba8ab"
   },
   "outputs": [],
   "source": [
    "import pandas as pd\n",
    "\n",
    "df= pd.read_excel(\"/content/drive/My Drive/combined.xlsx\")\n",
    "df.head()"
   ]
  },
  {
   "cell_type": "code",
   "execution_count": null,
   "metadata": {
    "colab": {
     "base_uri": "https://localhost:8080/",
     "height": 147
    },
    "id": "irn9g48kbjUo",
    "outputId": "5780e3cb-425e-438e-c266-12b517d1211a"
   },
   "outputs": [],
   "source": [
    "df.isnull().sum()"
   ]
  },
  {
   "cell_type": "code",
   "execution_count": null,
   "metadata": {
    "colab": {
     "base_uri": "https://localhost:8080/"
    },
    "id": "danoSCjKaZAz",
    "outputId": "6dccc6ac-ef4c-44c9-89c3-6ea3498bfec8"
   },
   "outputs": [],
   "source": [
    "from datasets import Dataset\n",
    "\n",
    "my_dataset = Dataset.from_pandas(df)\n",
    "print(my_dataset)"
   ]
  },
  {
   "cell_type": "code",
   "execution_count": null,
   "metadata": {
    "colab": {
     "base_uri": "https://localhost:8080/"
    },
    "id": "f2zWpk9Rh3wS",
    "outputId": "c38855e3-8386-41dd-9a53-105b712371ed"
   },
   "outputs": [],
   "source": [
    "!pip install PyArabic"
   ]
  },
  {
   "cell_type": "code",
   "execution_count": null,
   "metadata": {
    "colab": {
     "base_uri": "https://localhost:8080/",
     "height": 49,
     "referenced_widgets": [
      "67cb362957e64eb19705480066fdb1cc",
      "58db5d780ead435e9f4ad2defe596e4c",
      "028ddfe39f59466fae28e02a6f25480f",
      "409e9469bfdd4e3ca465e02b24c75ba8",
      "261070427b2e47059838a04995b2566f",
      "cf660d6ae1f6404187e6917e807223bb",
      "3f3b7e6ba35149088800cc5072053432",
      "cbb9ed2dbb6a4ec4b07424e69c8c9211",
      "a022d3636a964fb4aa22a6656c9f779f",
      "bf541f9e2e354feeb6c8743acdf658e7",
      "766b6a7188ce4cdc833eb56703841ba9"
     ]
    },
    "id": "un1FDvWxftqN",
    "outputId": "5b4e25a7-2383-4191-f410-2112392b8f00"
   },
   "outputs": [],
   "source": [
    "import pyarabic.araby as araby\n",
    "import re\n",
    "\n",
    "def clean_arabic(example):\n",
    "  # example['Text (Arabic)'] = re.sub(r'[.?،,!:\\\"\\'؟]', '', example['Text (Arabic)'])\n",
    "  example['Text (Arabic)'] = araby.strip_diacritics(example['Text (Arabic)'])\n",
    "  return example\n",
    "\n",
    "my_dataset = my_dataset.map(clean_arabic)"
   ]
  },
  {
   "cell_type": "code",
   "execution_count": null,
   "metadata": {
    "colab": {
     "base_uri": "https://localhost:8080/"
    },
    "id": "Ij2__EJ4ehhs",
    "outputId": "c06cec6c-aa31-48b3-e736-c9679d0ae962"
   },
   "outputs": [],
   "source": [
    "import re\n",
    "\n",
    "# filter rows that have anything other than letters\n",
    "def filter_dataset(dataset):\n",
    "    filtered_rows = []\n",
    "    for i in range(len(dataset['Text (Arabic)'])):\n",
    "        if bool(re.search(r'[^\\u0621-\\u064A\\s]', dataset['Text (Arabic)'][i])):\n",
    "            filtered_rows.append(i)\n",
    "\n",
    "    return dataset.select(filtered_rows)\n",
    "\n",
    "filtered_dataset2 = filter_dataset(my_dataset)\n",
    "\n",
    "print(filtered_dataset2)"
   ]
  },
  {
   "cell_type": "code",
   "execution_count": null,
   "metadata": {
    "id": "-Ko3tixRfX4O"
   },
   "outputs": [],
   "source": [
    "for i in range(len(filtered_dataset2)):\n",
    "  print(filtered_dataset2[i]['Text (Arabic)'])\n",
    "  print(filtered_dataset2[i]['Text (English)'])\n",
    "  print(\"\\n\")"
   ]
  },
  {
   "cell_type": "code",
   "execution_count": null,
   "metadata": {
    "colab": {
     "base_uri": "https://localhost:8080/"
    },
    "id": "L7XhJBgIxqMo",
    "outputId": "6d02ad90-bf69-4d44-d57a-2225f335abee"
   },
   "outputs": [],
   "source": [
    "!pip install contractions"
   ]
  },
  {
   "cell_type": "code",
   "execution_count": null,
   "metadata": {
    "colab": {
     "base_uri": "https://localhost:8080/",
     "height": 49,
     "referenced_widgets": [
      "d3a27eb2601d4043bcca04f647ead419",
      "d14594e9767a4f0482806020ae315795",
      "5e676893b866498eac4c25f1416f3126",
      "459c2f0fabcb4b57a4773bcb61fed562",
      "7c9f3882c9e84b28b41a0abd62944f40",
      "f84bfb61aa9040fe8670d18e462d3999",
      "85ef4cd5430744b38aa7965607b9aa5e",
      "9621b7a678674786b2ea7eff5668beb1",
      "ddb59bb862644592932a57b1779a34ac",
      "ebf638e10c904849881e31d9eca02d0c",
      "c41f72c444cb493b89d974744c3a8f48"
     ]
    },
    "id": "qzB5_GbHnZjB",
    "outputId": "dc7b9aa5-4208-4bed-8060-da40a6860a30"
   },
   "outputs": [],
   "source": [
    "import contractions\n",
    "\n",
    "def clean_english(example):\n",
    "  example['Text (English)'] = contractions.fix(example['Text (English)']) # this expands words like I'm to I am\n",
    "  # example['Text (English)'] = re.sub(r'[:.?,\\'!;()‘’“”\"*…]', '', example['Text (English)'])\n",
    "  # example['Text (English)'] = re.sub(r'[-—]', ' ', example['Text (English)'])\n",
    "  example['Text (English)'] = re.sub(r'[()*…]', '', example['Text (English)'])\n",
    "  example['Text (English)'] = re.sub(r'[%]', ' percent', example['Text (English)'])\n",
    "  example['Text (English)'] = example['Text (English)'].strip()\n",
    "  return example\n",
    "\n",
    "my_dataset = my_dataset.map(clean_english)"
   ]
  },
  {
   "cell_type": "code",
   "execution_count": null,
   "metadata": {
    "colab": {
     "base_uri": "https://localhost:8080/"
    },
    "id": "MQuxO7Z7n_uI",
    "outputId": "865b21f3-4931-4d60-8aac-80d6fe6f4259"
   },
   "outputs": [],
   "source": [
    "import re\n",
    "\n",
    "# filter rows that have anything other than letters\n",
    "def filter_dataset(dataset):\n",
    "    filtered_rows = []\n",
    "    for i in range(len(dataset['Text (English)'])):\n",
    "        if bool(re.search(r'[^A-Za-z\\s]', dataset['Text (English)'][i])):\n",
    "            filtered_rows.append(i)\n",
    "\n",
    "    return dataset.select(filtered_rows)\n",
    "\n",
    "filtered_dataset2 = filter_dataset(my_dataset)\n",
    "\n",
    "print(filtered_dataset2)"
   ]
  },
  {
   "cell_type": "code",
   "execution_count": null,
   "metadata": {
    "id": "t-FrPDxznu3X"
   },
   "outputs": [],
   "source": [
    "for i in range(len(filtered_dataset2)):\n",
    "  print(filtered_dataset2[i]['Text (Arabic)'])\n",
    "  print(filtered_dataset2[i]['Text (English)'])\n",
    "  print(\"\\n\")"
   ]
  },
  {
   "cell_type": "code",
   "execution_count": null,
   "metadata": {
    "colab": {
     "base_uri": "https://localhost:8080/",
     "height": 340,
     "referenced_widgets": [
      "232ce31bcc214e84820aeb5fd98fb735",
      "972264a636194f1b8738f558d2900e26",
      "8466e76926304a39bc2d04919f702ce0",
      "c549ac004ea54664b5097559b8ce96dd",
      "51e8a34057044f919751a914b1c5cf47",
      "2f774a4849134d6e9c9fb6bdd2213873",
      "2357e613bba84a8584e28d26d8495b65",
      "d84e15a5fef84ca9a5a8bf019df01024",
      "1311c8bcdc2a45aaba551ff1284db277",
      "346cd8621de147a7bf143e809c45122e",
      "9df1bb62e1d549339eb0dba20e4e6945",
      "1a85f30355b64c6faa73cb00285ad3f6",
      "8f27227f0a394dcd9aa0278ebee3a937",
      "9e1ce4171b014837be382d084c62fa35",
      "a5406c0e50ad4f35bb1faad0121faff0",
      "80d78aebfc664e91817a34cfbf5ef416",
      "e9a5f185350740ee8b8799cef74da5a9",
      "e85a584805c14f049a2e758db866d025",
      "1fdf982f05cf4888822bf263632a6ace",
      "99105ec20b694200a04f9f79fd854548",
      "be89872238374e47b9d128249ff51bad",
      "9f747a69f41e4456a3a162af6597b660",
      "333eeecec38948d68e6090f078e0ca78",
      "fcf67218e7e14d91835bf27971551bb5",
      "b880fd674fe94881a793275dbf368d5f",
      "1c5c415fe8f04e41ac1b31775e90ac6c",
      "354b5596f5664ec7a9e74b3e73cc96a7",
      "91990ec84da44bcd981a1c4045eead96",
      "3760aa76e5944b7d8ee1478ec47e7185",
      "6c9ed90fda914a64a2f64ad3a38b2f7c",
      "37a82f8878ad4a9ea5cada5c227f0b0f",
      "927b650191194f87a1d9b3f088e28e5e",
      "a2a1ff1d88384d1dabbecbfeb38d5671",
      "af4259a59bc746838ace1e688755bb78",
      "189a6d3ee03a490ea90ed4195ef09730",
      "8c59d76c4051418288ef72a7b0da8afd",
      "0ca9dcd7987f453e9e9ee965fff9b16f",
      "1e300637a2ad437480fafa7f8904dd0e",
      "d35f40ea6ec044ee9cdda8ad6645c4b4",
      "ef0b80b7f04543bb818359c5ffcfc419",
      "4df9915de6ae467090d82747925941b5",
      "f8a89b01ebff4a44ad2681c9594d3853",
      "df3fd533bab04f048b7f21bfe68699e9",
      "bb6295252e0f404086baf6c058147731",
      "2c0a549b9a6a43c286ee63063850035a",
      "54f2d48aecfc449bba738a540fd7cacf",
      "a3b7628b58d74c2c9c147e4c11e2dd23",
      "9d3ac6f1cff141c3906b1206872e9858",
      "b8bf5a6c0b1b4332aa20cc1df9d237ff",
      "10d0eaf6495e4870ba2264ca2906aec6",
      "8036434463f2468f99b25b334f861384",
      "337beb3f4f2542478ab8dc5819f79ec6",
      "82cc6c9d19604907aea429766c88b181",
      "ba795f0636554e6d92d1024fad037ba9",
      "371ae899202e48a989615c2f83060779"
     ]
    },
    "id": "lI3NPuTRdJaw",
    "outputId": "ecd4e649-32c2-4909-df96-515eea9ac046"
   },
   "outputs": [],
   "source": [
    "from transformers import AutoTokenizer\n",
    "\n",
    "model_checkpoint=\"Helsinki-NLP/opus-mt-ar-en\"\n",
    "tokenizer = AutoTokenizer.from_pretrained(model_checkpoint)"
   ]
  },
  {
   "cell_type": "code",
   "execution_count": null,
   "metadata": {
    "colab": {
     "base_uri": "https://localhost:8080/"
    },
    "id": "XXuyx3i62_hw",
    "outputId": "41045f69-1cad-40bc-c393-0e8cc1725756"
   },
   "outputs": [],
   "source": [
    "!pip install sacremoses"
   ]
  },
  {
   "cell_type": "code",
   "execution_count": null,
   "metadata": {
    "colab": {
     "base_uri": "https://localhost:8080/"
    },
    "id": "0n8zfM9skyve",
    "outputId": "58f5ccb3-d6ad-4e29-eaa0-d608e033bc0c"
   },
   "outputs": [],
   "source": [
    "print(my_dataset[0]['Text (Arabic)']+\"\\n\")\n",
    "print(my_dataset[0]['Text (English)'])"
   ]
  },
  {
   "cell_type": "code",
   "execution_count": null,
   "metadata": {
    "colab": {
     "base_uri": "https://localhost:8080/"
    },
    "id": "xpPZZYWIjVco",
    "outputId": "c102f7ee-ce35-472f-e5fd-1b3645afb749"
   },
   "outputs": [],
   "source": [
    "tokenizer.tokenize(my_dataset[0]['Text (Arabic)'])"
   ]
  },
  {
   "cell_type": "code",
   "execution_count": null,
   "metadata": {
    "colab": {
     "base_uri": "https://localhost:8080/"
    },
    "id": "aI-N0eJmlerl",
    "outputId": "69ce1a2d-3772-48d7-f142-9ba930036009"
   },
   "outputs": [],
   "source": [
    "tokenizer.tokenize(my_dataset[0]['Text (English)'])"
   ]
  },
  {
   "cell_type": "code",
   "execution_count": null,
   "metadata": {
    "colab": {
     "base_uri": "https://localhost:8080/"
    },
    "id": "VJES62FOoSUj",
    "outputId": "20509e90-1a45-4eb4-8bb7-87c12146dde3"
   },
   "outputs": [],
   "source": [
    "len(tokenizer.tokenize(my_dataset['train'][1]['Text (Arabic)']))"
   ]
  },
  {
   "cell_type": "code",
   "execution_count": null,
   "metadata": {
    "colab": {
     "base_uri": "https://localhost:8080/"
    },
    "id": "2XwxmJRsoyMY",
    "outputId": "570d3ea5-a953-425e-db66-bf41d9005964"
   },
   "outputs": [],
   "source": [
    "# Tokenize the sentences and calculate their lengths to find max length\n",
    "tokenized_lengths = [len(tokenizer.encode(sentence)) for sentence in my_dataset['train']['Text (Arabic)']] # for eng do 'Text (English)'\n",
    "\n",
    "print(\"Tokenized Lengths of Sentences:\", tokenized_lengths)\n",
    "\n",
    "import numpy as np\n",
    "print(\"Mean Length:\", np.mean(tokenized_lengths))\n",
    "print(\"Max Length:\", np.max(tokenized_lengths))\n"
   ]
  },
  {
   "cell_type": "code",
   "execution_count": null,
   "metadata": {
    "colab": {
     "base_uri": "https://localhost:8080/"
    },
    "id": "GYu47_Bga2-Y",
    "outputId": "2af3359d-a74b-4042-f3e7-d2e7fda6a805"
   },
   "outputs": [],
   "source": [
    "my_dataset = my_dataset.train_test_split(test_size=0.3)\n",
    "print(my_dataset)"
   ]
  },
  {
   "cell_type": "code",
   "execution_count": null,
   "metadata": {
    "colab": {
     "base_uri": "https://localhost:8080/"
    },
    "id": "Zmtb0bAwMA-J",
    "outputId": "0d3d0b86-d899-472e-b4ec-520dde4dc81f"
   },
   "outputs": [],
   "source": [
    "my_dataset_test = my_dataset['test'].train_test_split(test_size=0.5)\n",
    "print(my_dataset_test)"
   ]
  },
  {
   "cell_type": "code",
   "execution_count": null,
   "metadata": {
    "colab": {
     "base_uri": "https://localhost:8080/"
    },
    "id": "8Nr97uZJMTGS",
    "outputId": "e36ddfdb-a6fc-4ee9-d535-844f5006b601"
   },
   "outputs": [],
   "source": [
    "my_dataset['validation'] = my_dataset_test['train']\n",
    "my_dataset['test'] = my_dataset_test['test']\n",
    "print(my_dataset)"
   ]
  },
  {
   "cell_type": "code",
   "execution_count": null,
   "metadata": {
    "id": "MIH7lCnk3Qua"
   },
   "outputs": [],
   "source": [
    "max_input_length = 195\n",
    "max_target_length = 360\n",
    "source_lang = \"ar\"\n",
    "target_lang = \"en\"\n",
    "\n",
    "def preprocess_function(examples):\n",
    "    inputs = [ex for ex in examples[\"Text (Arabic)\"]]\n",
    "    targets = [ex for ex in examples[\"Text (English)\"]]\n",
    "    model_inputs = tokenizer(inputs, max_length=max_input_length, truncation=True)\n",
    "\n",
    "    with tokenizer.as_target_tokenizer():\n",
    "        labels = tokenizer(targets, max_length=max_target_length, truncation=True)\n",
    "    model_inputs[\"labels\"] = labels[\"input_ids\"]\n",
    "    return model_inputs"
   ]
  },
  {
   "cell_type": "code",
   "execution_count": null,
   "metadata": {
    "colab": {
     "base_uri": "https://localhost:8080/",
     "height": 169,
     "referenced_widgets": [
      "0b79f750dac64e1196876decd6dbc089",
      "1baee95f149e4f5884498bdb2bd4c422",
      "728f529784d14762a4c2b09e22ae200f",
      "f48b8ea0f0b24dad9a5c96123cc6913f",
      "046c652efb0a4d7c9434c858171db026",
      "b450335103964f1591462a9dfd8f61c5",
      "d193fc6a8c9d40ba8454cc34c53cb8f7",
      "53b84182cbae47e890a37fde4937bec9",
      "1eff3ce183314be5a30cc517b5afef23",
      "62810d033d864cd0acec26ccea542567",
      "4e5ea910e8b244988291867f044f99ff",
      "a510ebea343b43bb9386ee38957bc4d2",
      "7fa7a15b7af549b79b67a423dbd845de",
      "d47ec98a04b0416cba843f352218ae34",
      "d5539cde6df54bd382831705634c9f47",
      "2ddfcafe6aee494c89221962edf15913",
      "46bd038f18e147aca6a6a888233eb74a",
      "217e643fd88b41c49cdec8a47f6d5573",
      "d1218c7283254e5685249a03a45a6583",
      "c7a91bbf82ab41eb8227a034e35f5dad",
      "1375316dd13b435b8ceeb9fd53719737",
      "7b28f268ca074115b53ca7b96b5b8693",
      "90b34b443c57488292401738575b83ea",
      "fbbafdd213c34334b3423989c6753ab7",
      "672c881b42904d5ba4cb65bb3e5bcb76",
      "fbe315ef0f4b4d9888ff64937b3e60f2",
      "c16405f6ce1d49d6902236fe497fdea4",
      "4c601fb0447e4fd9822daaa8eec206ee",
      "f358b4bde32e46e49ad08a0af6a1e4e2",
      "1585a96abc3e41359c2bdff430aa5e7a",
      "06a4f6b5e9014b189d11cfc8c28c5a11",
      "1c1dfe7f4163413793d797b192030e13",
      "bcc217f454bd4d87a38ebce8f018af68"
     ]
    },
    "id": "KOT9f3rm4Gmg",
    "outputId": "fd849855-e410-4494-b72c-41cbf46a7d56"
   },
   "outputs": [],
   "source": [
    "tokenized_datasets = my_dataset.map(preprocess_function, batched=True)"
   ]
  },
  {
   "cell_type": "code",
   "execution_count": null,
   "metadata": {
    "colab": {
     "base_uri": "https://localhost:8080/",
     "height": 81,
     "referenced_widgets": [
      "a045a6ee93b6408abe8a1df67cf3d3de",
      "af643e9cb8324edfac1da163df997996",
      "bcbbf2ea85a44d2d9f7500c41fc12c00",
      "b2444e3ecbd74c079538a1b6d835a44c",
      "335ee01883ee43cd98077c5ef35cb82a",
      "2c04b6fa4fde4c8b9b5ac17fb29d32b9",
      "1ad274868d9549c88de5b8b41f1742e4",
      "65d6a2e49446424aaa5d7eee441d64c3",
      "aab11317448f4d788d3bd62d5be6d8a0",
      "3f5548a3bda1424eb1e5a85a1e574341",
      "b3caecead5d140179584b5d18a626ade",
      "7a0b7c26ccdc40288eb35484fcab4f16",
      "38324fb772d44737a8a34f38ef190b1a",
      "3c952b4ccae446e7a9a7726ad4fd4e65",
      "9ae5dacbacff4bcba5a5f059149b6716",
      "8b1abfb29bcb4a868fae613fa2e97e8d",
      "904c4976eddb4d2b883fec5f7f281764",
      "49646a76454d47228b3dbf5d91b395a9",
      "5526eed41da944839ab14fa7cb0aae93",
      "5c681c2f8bb341f892e3c1ecb48b9703",
      "7750312b910749b288747cb6c2096032",
      "f0619eee4e7e4a0bb674117c6a76a6c3"
     ]
    },
    "id": "uOGiKe8L4Mca",
    "outputId": "295a30ed-92eb-4c92-fd0a-715bbfca8045"
   },
   "outputs": [],
   "source": [
    "from transformers import AutoModelForSeq2SeqLM\n",
    "\n",
    "model = AutoModelForSeq2SeqLM.from_pretrained(model_checkpoint)"
   ]
  },
  {
   "cell_type": "code",
   "execution_count": null,
   "metadata": {
    "id": "KP1H6F7o43v2"
   },
   "outputs": [],
   "source": [
    "from transformers import DataCollatorForSeq2Seq\n",
    "\n",
    "data_collator = DataCollatorForSeq2Seq(tokenizer, model=model)"
   ]
  },
  {
   "cell_type": "code",
   "execution_count": null,
   "metadata": {
    "colab": {
     "base_uri": "https://localhost:8080/",
     "height": 710,
     "referenced_widgets": [
      "b068c7737b2e451bbe0c5aea5f622fa3",
      "0c2a4b2fc52f4966a96f9fb14e3c8598",
      "3a2e4feea44e4b2eb844bf336301626f",
      "f097fc3228a9416d92b25991c1967fb7",
      "74d5a3e9b3c1423b84659559df4a0eec",
      "4fa0c2eb4d934761aa80b34b329f6cec",
      "397cd9082c0b4b69bab92a2df37c9b84",
      "8cdc2b7c72e14e159cd14017f5b33e0f",
      "04638c49e2f24096b76a0805aa15f822",
      "a6e547e665004dafbbfc4242bae7f05c",
      "ecfe2990c268437d86013b2d76ca0e03"
     ]
    },
    "id": "sT79BlGc7tiF",
    "outputId": "920d3da9-73b3-4c61-da90-cfc8ef23e9ed"
   },
   "outputs": [],
   "source": [
    "!pip install evaluate"
   ]
  },
  {
   "cell_type": "code",
   "execution_count": null,
   "metadata": {
    "colab": {
     "base_uri": "https://localhost:8080/",
     "height": 216,
     "referenced_widgets": [
      "0fc58155404240ba826a23ed87250909",
      "fd63dd8d4c4a4e0da2f0f82d2ccf50f6",
      "f043b0b676864713ae6f3827fff3ed4f",
      "9798f5277e9041a0ad3ffb22084d8359",
      "597a1e9533c34a61b516a5210c5ca202",
      "447e0631a29c434f8287dc510a8e4e9e",
      "796cfc4c227a41caa2940ef43cf0fe1a",
      "aa31ab76fed44176a5a25805a2207996",
      "38e02cdedcba4d70912d6b43181feeb2",
      "eaf7ee8cf9c64432a9bc421e4c5f8855",
      "d69d92337d8041e8840d42b42a571b7d",
      "46bbcce37d7b4bf5bda1a8c74635ff08",
      "bfd8de6aaa3d4d22b35abf2285098228",
      "17ad345aed0f4442875064568bdbfae5",
      "30cdc48046a94177aada4e057811bfd3",
      "8285141e9e494a3bb7798c269ca2ef6c",
      "bfe5025cf751409f98cdfed1158bcba9",
      "35a66b4c17c1484a80ee0d93741aea6c",
      "44ce501abb5d42f8b5868706cadc0d18",
      "8167adf59ff045a9b785804ed2a1e9ac",
      "73d0d525c5224d00a9c60a01dcc76c3a",
      "e0802d75cff043008ffa04061145eee9",
      "3d92a736a2824525975724d62e539b75",
      "deed4083dd41480fbed7cb0cfc6643b5",
      "7b39bb9e6b264b1c9626430504fb431e",
      "4d818044e3f64a408afc62c97a52d89d",
      "4c2b6175ded645d0a108f1e47eda1063",
      "cccd6ab16da94877b64218ba3c3c6314",
      "bdba408034494dec8835243df1709e03",
      "3fda51bb14e14f199c6c8e9352498954",
      "beaef2ee290e4ec58ad32123cd9e46ee",
      "29041ccae3ee4da09511236dcb2c5ac9",
      "9661fccd107e4f70a6e563e71ec3d111",
      "ce334b9cb1644b01b8737b4f4c0f8043",
      "771caff4b1b84bfca35758af2ea301a7",
      "2080c3e679f145a9a91ba7986a39cd3e",
      "246f6b0afa404c49882c68c0411ce284",
      "3de7a3e0da3145d7997723186686fd12",
      "fbef2da338ce4d67894a8d1a302ef45d",
      "5d0a1299cdc34e118d9db45133beb4ec",
      "7dd4ef0140d441a8bb589225f650c0dc",
      "f1fd52c7bc994152a2dbd4f09c8d6efd",
      "db2d5b24b88141e9b327377e113dad1c",
      "10ff814ec3a049c7ba6857aaaab1fdf6"
     ]
    },
    "id": "RKcfGpB-7tBd",
    "outputId": "bbfa3e57-ad15-4893-b282-4807b8739feb"
   },
   "outputs": [],
   "source": [
    "from evaluate import load\n",
    "\n",
    "bleu = load(\"bleu\")\n",
    "meteor = load('meteor')"
   ]
  },
  {
   "cell_type": "code",
   "execution_count": null,
   "metadata": {
    "colab": {
     "base_uri": "https://localhost:8080/"
    },
    "id": "WyzEPubiqNq9",
    "outputId": "5da22d43-b26f-4b9b-fe85-f7eb83bda95f"
   },
   "outputs": [],
   "source": [
    "fake_preds = [\"Is there elevator?\", \"I've seen him before.\"]\n",
    "fake_labels = [[\"Is there an elevator?\"], [\"I've seen him before.\"]]\n",
    "\n",
    "print(bleu.compute(predictions=fake_preds, references=fake_labels))\n",
    "print(meteor.compute(predictions=fake_preds, references=fake_labels))"
   ]
  },
  {
   "cell_type": "code",
   "execution_count": null,
   "metadata": {
    "id": "_7f-lC4v5BPd"
   },
   "outputs": [],
   "source": [
    "import numpy as np\n",
    "\n",
    "def postprocess_text(preds, labels):\n",
    "  preds = [pred.strip() for pred in preds]\n",
    "  labels = [[label.strip()] for label in labels]\n",
    "  return preds, labels\n",
    "\n",
    "def compute_metrics(eval_preds):\n",
    "  preds, labels = eval_preds\n",
    "  if isinstance(preds, tuple):\n",
    "      preds = preds[0]\n",
    "  decoded_preds = tokenizer.batch_decode(preds, skip_special_tokens=True)\n",
    "  # Replace -100 in the labels as we can't decode them. # when was this set?\n",
    "  labels = np.where(labels != -100, labels, tokenizer.pad_token_id)\n",
    "  decoded_labels = tokenizer.batch_decode(labels, skip_special_tokens=True)\n",
    "  # Some simple post-processing\n",
    "  decoded_preds, decoded_labels = postprocess_text(decoded_preds, decoded_labels)\n",
    "  result = bleu.compute(predictions=decoded_preds, references=decoded_labels)\n",
    "  result_meteor = meteor.compute(predictions=decoded_preds, references=decoded_labels)\n",
    "  result = {\"bleu\": result[\"bleu\"]}\n",
    "  result['meteor'] = result_meteor['meteor']\n",
    "  prediction_lens = [np.count_nonzero(pred != tokenizer.pad_token_id) for pred in preds]\n",
    "  result[\"gen_len\"] = np.mean(prediction_lens)\n",
    "  result = {k: round(v, 4) for k, v in result.items()}\n",
    "  return result"
   ]
  },
  {
   "cell_type": "code",
   "execution_count": null,
   "metadata": {
    "colab": {
     "base_uri": "https://localhost:8080/",
     "height": 17,
     "referenced_widgets": [
      "fe294b40c1df4d698db8d0ee0093b13f",
      "25ff0f1ef7d14ae88649868e945b257b",
      "f3a0e1bf13d34dd4b16aee446670eb31",
      "9832351deb40491b83dfe728eb22447c",
      "12e87d345d994ec182331304afa50a5f",
      "8ba1bde9b9944206a1dc11113a42efeb",
      "8b13132aa12f4fbf82b4621883d1839c",
      "b497eae48eda4ed89a12f5a66ab8ed3a",
      "9f7168278a0049408e872fccf7986950",
      "e51132ae7af74dfcae3b8406e13de78c",
      "f68a5dee158641ba9b9007ced984f65e",
      "c5f6d7a4e1114810a7e39c4e41d1ac26",
      "b9b79ecf62714cb3afe2b6999b04f741",
      "7bb40187cfd94aa7bbf6f51814f17c58",
      "cb7a2de84a6c43abab00cb9f5aa3e8a5",
      "843e97ce6a4b4b6ca24a57c3ee1d45c9",
      "f60c62aefceb4066b1ca5dadb0dbf23c",
      "0009ab85c74d4cd3b1e3426e0a286200",
      "83e86f8e222c4296b6d927eaa7cab107",
      "26e4b657fcb34f7b9ae916998baffd20"
     ]
    },
    "id": "OKBrb28e8JbR",
    "outputId": "28dad7c1-594d-4ceb-a1d6-c7b485a662b0"
   },
   "outputs": [],
   "source": [
    "from huggingface_hub import notebook_login\n",
    "\n",
    "notebook_login()"
   ]
  },
  {
   "cell_type": "code",
   "execution_count": null,
   "metadata": {
    "colab": {
     "base_uri": "https://localhost:8080/"
    },
    "id": "u6P61Mj-4U75",
    "outputId": "14369ce4-f96e-4289-acaf-5da85e3f9b9a"
   },
   "outputs": [],
   "source": [
    "from transformers import Seq2SeqTrainingArguments\n",
    "\n",
    "# try diff parameters, warm up steps etc\n",
    "batch_size = 4\n",
    "model_name = model_checkpoint.split(\"/\")[-1]\n",
    "args = Seq2SeqTrainingArguments(\n",
    "    f\"{model_name}-finetuned-{source_lang}-to-{target_lang}-5\",\n",
    "    evaluation_strategy = \"epoch\",\n",
    "    learning_rate=2e-5,\n",
    "    per_device_train_batch_size=batch_size,\n",
    "    per_device_eval_batch_size=batch_size,\n",
    "    weight_decay=0.001,\n",
    "    num_train_epochs=10,\n",
    "    predict_with_generate=True,\n",
    "    push_to_hub=True,\n",
    "    warmup_steps=20,\n",
    "    lr_scheduler_type=\"linear\"\n",
    ")"
   ]
  },
  {
   "cell_type": "code",
   "execution_count": null,
   "metadata": {
    "colab": {
     "base_uri": "https://localhost:8080/"
    },
    "id": "CdBjdpom5DX1",
    "outputId": "c4459db5-a39f-4779-f4aa-aba90372edc8"
   },
   "outputs": [],
   "source": [
    "from transformers import Seq2SeqTrainer\n",
    "\n",
    "trainer = Seq2SeqTrainer(\n",
    "    model,\n",
    "    args,\n",
    "    train_dataset=tokenized_datasets[\"train\"],\n",
    "    eval_dataset=tokenized_datasets[\"validation\"],\n",
    "    data_collator=data_collator,\n",
    "    tokenizer=tokenizer,\n",
    "    compute_metrics=compute_metrics\n",
    ")\n"
   ]
  },
  {
   "cell_type": "code",
   "execution_count": null,
   "metadata": {
    "colab": {
     "base_uri": "https://localhost:8080/",
     "height": 75
    },
    "id": "YA4x8ve_5Gm_",
    "outputId": "d3b59411-a4ef-47e9-84e8-086488515b06"
   },
   "outputs": [],
   "source": [
    "trainer.train()"
   ]
  },
  {
   "cell_type": "code",
   "execution_count": null,
   "metadata": {
    "colab": {
     "base_uri": "https://localhost:8080/",
     "height": 120,
     "referenced_widgets": [
      "28f0da6ce9b8492d87b7ae5f40f1ecd0",
      "7da04fe42b294ab89207c8e8571e4e78",
      "be3340a9942a4daaa2cd66399ed8bb7e",
      "8171be7d1873408984842a7c711d77eb",
      "18981c18565e4c7ea5742fb9317f2aeb",
      "5d7995af011347529fcfae5047fc9414",
      "f2f76fe1281647c6a998d528b1aaa2ee",
      "f6c6e0f8281b4b09a80e1d3570c7c943",
      "a09c961bace743879680c5b0a982f9d0",
      "5b36b8def0294af788ec62bd9ccac32a",
      "a1c9716dde804c12b5cb5ef87d3623f8"
     ]
    },
    "id": "eqAfW2Evwgym",
    "outputId": "f440f3e0-7f86-46b5-b4fa-f00264bf58c7"
   },
   "outputs": [],
   "source": [
    "trainer.push_to_hub()"
   ]
  },
  {
   "cell_type": "code",
   "execution_count": null,
   "metadata": {
    "colab": {
     "base_uri": "https://localhost:8080/"
    },
    "id": "ARrUmTlwwDbL",
    "outputId": "ead36f1e-141b-4cbf-80f5-9828ade68a99"
   },
   "outputs": [],
   "source": [
    "my_dataset['test'][2]"
   ]
  },
  {
   "cell_type": "code",
   "execution_count": null,
   "metadata": {
    "colab": {
     "base_uri": "https://localhost:8080/"
    },
    "id": "zt1tysnY8p6m",
    "outputId": "1103bbe9-13fc-4d54-dcf6-affd7b870c8f"
   },
   "outputs": [],
   "source": [
    "from transformers import AutoModelForSeq2SeqLM, AutoTokenizer\n",
    "\n",
    "# check some translations with trained model\n",
    "src_text = my_dataset['test'][2]['Text (Arabic)']\n",
    "\n",
    "model_checkpoint = \"the one u saved on hf\"\n",
    "tokenizer = AutoTokenizer.from_pretrained(model_checkpoint)\n",
    "model = AutoModelForSeq2SeqLM.from_pretrained(model_checkpoint)\n",
    "\n",
    "\n",
    "translated = model.generate(**tokenizer(src_text, return_tensors=\"pt\", padding=True)) # can try more parameters\n",
    "[tokenizer.decode(t, skip_special_tokens=True) for t in translated]"
   ]
  },
  {
   "cell_type": "markdown",
   "metadata": {
    "id": "6usbHFqEESdV"
   },
   "source": [
    "Referneces:\n",
    "\n",
    "-https://medium.com/@tskumar1320/how-to-fine-tune-pre-trained-language-translation-model-3e8a6aace9f"
   ]
  },
  {
   "cell_type": "code",
   "execution_count": null,
   "metadata": {
    "id": "HWsoq-D3xDNX"
   },
   "outputs": [],
   "source": []
  }
 ],
 "metadata": {
  "accelerator": "GPU",
  "colab": {
   "gpuType": "T4",
   "provenance": []
  },
  "kernelspec": {
   "display_name": "Python 3",
   "name": "python3"
  },
  "language_info": {
   "name": "python"
  }
 },
 "nbformat": 4,
 "nbformat_minor": 0
}
