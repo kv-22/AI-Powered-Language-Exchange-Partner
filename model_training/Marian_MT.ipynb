{
 "cells": [
  {
   "cell_type": "code",
   "execution_count": null,
   "metadata": {
    "colab": {
     "base_uri": "https://localhost:8080/"
    },
    "id": "_LIRkEfHYsGw",
    "outputId": "677e2170-8773-4443-929b-4e96bcf79faf"
   },
   "outputs": [],
   "source": [
    "!pip install datasets transformers sacrebleu torch sentencepiece transformers[sentencepiece] PyArabic contractions evaluate"
   ]
  },
  {
   "cell_type": "code",
   "execution_count": null,
   "metadata": {
    "colab": {
     "base_uri": "https://localhost:8080/"
    },
    "id": "7GmHd6aaZygy",
    "outputId": "5a068fd5-0c71-4920-f0af-e3dcea1abebf"
   },
   "outputs": [],
   "source": [
    "from google.colab import drive\n",
    "drive.mount('/content/drive')"
   ]
  },
  {
   "cell_type": "code",
   "execution_count": null,
   "metadata": {
    "colab": {
     "base_uri": "https://localhost:8080/",
     "height": 206
    },
    "id": "KLBhgR5YbRZe",
    "outputId": "5a50fc9f-f89a-4cd5-f60b-5c4d7904e74b"
   },
   "outputs": [],
   "source": [
    "import pandas as pd\n",
    "\n",
    "df= pd.read_excel(\"/content/drive/My Drive/combined.xlsx\")\n",
    "df.head()"
   ]
  },
  {
   "cell_type": "code",
   "execution_count": null,
   "metadata": {
    "colab": {
     "base_uri": "https://localhost:8080/",
     "height": 147
    },
    "id": "irn9g48kbjUo",
    "outputId": "7b9c6d97-9b05-4128-d262-64b376adc26b"
   },
   "outputs": [],
   "source": [
    "df.isnull().sum()"
   ]
  },
  {
   "cell_type": "code",
   "execution_count": null,
   "metadata": {
    "colab": {
     "base_uri": "https://localhost:8080/"
    },
    "id": "danoSCjKaZAz",
    "outputId": "813c0643-9914-4b61-8227-f10dd7752590"
   },
   "outputs": [],
   "source": [
    "from datasets import Dataset\n",
    "\n",
    "my_dataset = Dataset.from_pandas(df)\n",
    "print(my_dataset)"
   ]
  },
  {
   "cell_type": "code",
   "execution_count": null,
   "metadata": {
    "colab": {
     "base_uri": "https://localhost:8080/",
     "height": 49,
     "referenced_widgets": [
      "b7375637e137495f884a0b85cafa17cf",
      "18393675142345b49bde6ccd2727756d",
      "8a0f2d5ef698457a8d96521244eb20dd",
      "ccf60b774c08483e87affa46fb8172f2",
      "5be61f07bdef412981a6518674e06b5e",
      "0c2792adfe5845a4a84260b69d7aae80",
      "39d2a847bee449f9a4fe21d3a627828d",
      "67618d02cb314a30abc6ae2ff0170ef7",
      "771a78742a4543f791b27fa6bb097da5",
      "8bb96d84803e4029b2af8c46b31ec441",
      "7106d14d6d37460e9129ec2ffba11087"
     ]
    },
    "id": "un1FDvWxftqN",
    "outputId": "40d97e32-8ae2-4909-90e7-81136b64c427"
   },
   "outputs": [],
   "source": [
    "import pyarabic.araby as araby\n",
    "import re\n",
    "\n",
    "def clean_arabic(example):\n",
    "  example['Text (Arabic)'] = re.sub(r'[,]', '،', example['Text (Arabic)'])\n",
    "  example['Text (Arabic)'] = araby.strip_diacritics(example['Text (Arabic)'])\n",
    "  return example\n",
    "\n",
    "my_dataset = my_dataset.map(clean_arabic)"
   ]
  },
  {
   "cell_type": "code",
   "execution_count": null,
   "metadata": {
    "colab": {
     "base_uri": "https://localhost:8080/"
    },
    "id": "Ij2__EJ4ehhs",
    "outputId": "eb0268af-8238-49b3-8fc7-c7576b370525"
   },
   "outputs": [],
   "source": [
    "import re\n",
    "\n",
    "# filter rows that have anything other than letters\n",
    "def filter_dataset(dataset):\n",
    "    filtered_rows = []\n",
    "    for i in range(len(dataset['Text (Arabic)'])):\n",
    "        if bool(re.search(r'[^\\u0621-\\u064A\\s]', dataset['Text (Arabic)'][i])):\n",
    "            filtered_rows.append(i)\n",
    "\n",
    "    return dataset.select(filtered_rows)\n",
    "\n",
    "filtered_dataset2 = filter_dataset(my_dataset)\n",
    "\n",
    "print(filtered_dataset2)"
   ]
  },
  {
   "cell_type": "code",
   "execution_count": null,
   "metadata": {
    "id": "-Ko3tixRfX4O"
   },
   "outputs": [],
   "source": [
    "for i in range(len(filtered_dataset2)):\n",
    "  print(filtered_dataset2[i]['Text (Arabic)'])\n",
    "  print(\"\\n\")"
   ]
  },
  {
   "cell_type": "code",
   "execution_count": null,
   "metadata": {
    "colab": {
     "base_uri": "https://localhost:8080/",
     "height": 49,
     "referenced_widgets": [
      "cee17f9e26fc487da3efcfcb10ebdaa2",
      "dc9676ad4f804eee9b48fbf7caabe2c7",
      "421ec389a6dd42bab88baa88cadba4ae",
      "c3121713e4b548059f04a6eb1f1e7940",
      "f298e5cbe0eb43d59b9f1d28f093b8a8",
      "48f100f8d48444cfbacff9eb4d74be10",
      "5ea64beb711041abb1894d6287bdd39f",
      "f91681e045054bcc8d8568c715f2a14c",
      "d1c15cfb11eb4dc9a0c2ec29b1849b2d",
      "3431cda7662b4fca974de622d3ebfa82",
      "fb54ed6229ba45498c92b490f08d9c65"
     ]
    },
    "id": "qzB5_GbHnZjB",
    "outputId": "7f7b13f7-e257-4566-8816-e46f5046ffc1"
   },
   "outputs": [],
   "source": [
    "import contractions\n",
    "\n",
    "def clean_english(example):\n",
    "  example['Text (English)'] = contractions.fix(example['Text (English)']) # this expands words like I'm to I am\n",
    "  example['Text (English)'] = re.sub(r'[\\u0621-\\u064A]', '', example['Text (English)'])\n",
    "  example['Text (English)'] = re.sub(r'[()*…]', '', example['Text (English)'])\n",
    "  example['Text (English)'] = re.sub(r'[%]', ' percent', example['Text (English)'])\n",
    "  example['Text (English)'] = example['Text (English)'].strip()\n",
    "  return example\n",
    "\n",
    "my_dataset = my_dataset.map(clean_english)"
   ]
  },
  {
   "cell_type": "code",
   "execution_count": null,
   "metadata": {
    "colab": {
     "base_uri": "https://localhost:8080/"
    },
    "id": "MQuxO7Z7n_uI",
    "outputId": "1ab0dfc7-b2ba-4b91-b954-eb94dbf61867"
   },
   "outputs": [],
   "source": [
    "import re\n",
    "\n",
    "# filter rows that have anything other than letters\n",
    "def filter_dataset(dataset):\n",
    "    filtered_rows = []\n",
    "    for i in range(len(dataset['Text (English)'])):\n",
    "        if bool(re.search(r'[^A-Za-z\\s]', dataset['Text (English)'][i])):\n",
    "            filtered_rows.append(i)\n",
    "\n",
    "    return dataset.select(filtered_rows)\n",
    "\n",
    "filtered_dataset2 = filter_dataset(my_dataset)\n",
    "\n",
    "print(filtered_dataset2)"
   ]
  },
  {
   "cell_type": "code",
   "execution_count": null,
   "metadata": {
    "id": "t-FrPDxznu3X"
   },
   "outputs": [],
   "source": [
    "for i in range(len(filtered_dataset2)):\n",
    "  print(filtered_dataset2[i]['Text (English)'])\n",
    "  print(\"\\n\")"
   ]
  },
  {
   "cell_type": "code",
   "execution_count": null,
   "metadata": {
    "colab": {
     "base_uri": "https://localhost:8080/",
     "height": 340,
     "referenced_widgets": [
      "fafdae18f08e43ef8b908d09adce6cbf",
      "7d4a60c06a344c30939e397b1c6823a0",
      "f1ddf47c34504ebda43371e35913178f",
      "e895f7705e61474e8292b3a5a52bd99c",
      "f3ee485b14f74f7287bcaa010f40d6a3",
      "c1dd31f12f2d4825be5eb5161562e269",
      "a46b7ff918604ca080afb2d00b937d56",
      "8c599dbc16464d6aa553702970633c16",
      "acabdaf5682b46fba8645952a6758500",
      "f1ed284555d9454fa8df510b71e48894",
      "bb27f5c6921c420199e920f0f6e976cf",
      "31a06473902a4330985dbcc932b8c824",
      "a9fa330cafed4a7cb07abae1442729d4",
      "8429549463f840cc97e2c99947befa8c",
      "fc64dbbe21774f35b0ab4db2f61bd6b3",
      "838a2f3e001149679c35ea4d97631b1b",
      "3b7aa2ffb34644daa9ff0700992c5dda",
      "3428eae59f0946539fd0c9b44f7f425d",
      "e5c853d8a7ac4ed592f184f05aadcb56",
      "cbb685392b334001bfe0db9935d57251",
      "06c1e686c72847d3a1cc98e7517bc360",
      "6c6898d95500420c9eb429158a3f0257",
      "bd08d8f45f8e4c7facd997ed71f81c23",
      "7cc3f02d0b1a44c1b85171ba1afddc78",
      "22d87014d0b041bbacdf27342319aae9",
      "ca3dd505888443148e75cc17bfa50f9d",
      "37498cf76a6b42feb190a825b846c132",
      "66ed0d3d0ab845cebc5a2b1daee1cc4a",
      "3121b0a12a3744c3a080f046d21da0c1",
      "685e8ff52edc4bddade3d016d1d18f9a",
      "466f3d67fc984f0bb40471808aae991f",
      "32a7fbd4919844e79c691d9cd0186267",
      "cb6361be833d4ae3ac8ff1f12698409a",
      "94cee2b4ef274e5cb79cacabc1407156",
      "7a8c80d2c51048fcb8c7d3a0499ae277",
      "179e58d9fdcb407face5518a9529dbda",
      "aef29693f3154daf9047c01c2a9b1d0f",
      "a898785053884c14b687cc1a794eeac2",
      "966ec18ce4da4713a0430008b3116f0b",
      "ffb0fa5d4c8347f4a41608d9701c2b19",
      "61c569d27c92462fa36b42ca95cf0a54",
      "7eb626ccc69d463d93cc4b6889a4b901",
      "21fc6d2c46f74d64ae9c3ff61ee31530",
      "4f05064945114bd489ac5d35af3b45c3",
      "a71ae7f6be7d474bb8ec504ab5ce7ebf",
      "808aa1a8f8b54fd49323b50a22dd51ac",
      "44ea8652c3784011a92b28d0ccf4c525",
      "4ddf2abc85df4177bbefaf78fb433091",
      "061665b515154895bf4dd986d56e3919",
      "8c734960ea40404aa08848c9c83ec08e",
      "19b638d52a6d45c38c6dcf0cf6f8a821",
      "8bda8360d9b34cc1b6328db1523e6b5a",
      "853ffba7850947a9a3098a222995d014",
      "209d9ee3f4fb46b1a435aa6eefca0b06",
      "e9b8677b080141858675db0c59c7b864"
     ]
    },
    "id": "lI3NPuTRdJaw",
    "outputId": "9fe43b32-89a5-4973-e7f3-c75a77389d56"
   },
   "outputs": [],
   "source": [
    "from transformers import AutoTokenizer\n",
    "\n",
    "model_checkpoint=\"Helsinki-NLP/opus-mt-ar-en\"\n",
    "tokenizer = AutoTokenizer.from_pretrained(model_checkpoint)"
   ]
  },
  {
   "cell_type": "code",
   "execution_count": null,
   "metadata": {
    "colab": {
     "base_uri": "https://localhost:8080/"
    },
    "id": "XXuyx3i62_hw",
    "outputId": "f6f6f280-6c2d-4b9f-e14d-e3c253185e90"
   },
   "outputs": [],
   "source": [
    "!pip install sacremoses"
   ]
  },
  {
   "cell_type": "code",
   "execution_count": null,
   "metadata": {
    "id": "0n8zfM9skyve"
   },
   "outputs": [],
   "source": [
    "print(my_dataset[40]['Text (Arabic)']+\"\\n\")\n",
    "print(my_dataset[40]['Text (English)'])"
   ]
  },
  {
   "cell_type": "code",
   "execution_count": null,
   "metadata": {
    "id": "xpPZZYWIjVco"
   },
   "outputs": [],
   "source": [
    "tokenizer.tokenize(my_dataset[40]['Text (Arabic)'])"
   ]
  },
  {
   "cell_type": "code",
   "execution_count": null,
   "metadata": {
    "id": "aI-N0eJmlerl"
   },
   "outputs": [],
   "source": [
    "tokenizer.tokenize(my_dataset[40]['Text (English)'])"
   ]
  },
  {
   "cell_type": "code",
   "execution_count": null,
   "metadata": {
    "colab": {
     "base_uri": "https://localhost:8080/"
    },
    "id": "h98pQQZyh1b8",
    "outputId": "d4710b16-3c57-4b96-9ffd-5d168f37ed03"
   },
   "outputs": [],
   "source": [
    "my_dataset"
   ]
  },
  {
   "cell_type": "code",
   "execution_count": null,
   "metadata": {
    "colab": {
     "base_uri": "https://localhost:8080/",
     "height": 521
    },
    "id": "2XwxmJRsoyMY",
    "outputId": "7e6996cd-1ff8-46ab-da47-7f937268e56c"
   },
   "outputs": [],
   "source": [
    "# Tokenize the sentences and calculate their lengths to find max length\n",
    "# tokenized_lengths = [len(tokenizer.encode(sentence)) for sentence in my_dataset['Text (English)']]\n",
    "\n",
    "# print(\"Tokenized Lengths of Sentences:\", tokenized_lengths)\n",
    "\n",
    "# import numpy as np\n",
    "# print(\"Mean Length:\", np.mean(tokenized_lengths))\n",
    "# print(\"Max Length:\", np.max(tokenized_lengths))\n",
    "\n",
    "# x = np.where(np.array(tokenized_lengths) > 390)\n",
    "# print(len(x[0]))\n",
    "\n",
    "# import matplotlib.pyplot as plt\n",
    "# plt.hist(tokenized_lengths)\n",
    "# plt.show()"
   ]
  },
  {
   "cell_type": "code",
   "execution_count": null,
   "metadata": {
    "colab": {
     "base_uri": "https://localhost:8080/"
    },
    "id": "GYu47_Bga2-Y",
    "outputId": "2db0eb5f-6d11-456e-de2c-c143692890f0"
   },
   "outputs": [],
   "source": [
    "my_dataset = my_dataset.train_test_split(test_size=0.3, seed=42)\n",
    "print(my_dataset)"
   ]
  },
  {
   "cell_type": "code",
   "execution_count": null,
   "metadata": {
    "colab": {
     "base_uri": "https://localhost:8080/"
    },
    "id": "Zmtb0bAwMA-J",
    "outputId": "eaaea4e7-11ce-47db-de45-469a28ffe551"
   },
   "outputs": [],
   "source": [
    "my_dataset_test = my_dataset['test'].train_test_split(test_size=0.5, seed=42)\n",
    "print(my_dataset_test)"
   ]
  },
  {
   "cell_type": "code",
   "execution_count": null,
   "metadata": {
    "colab": {
     "base_uri": "https://localhost:8080/"
    },
    "id": "8Nr97uZJMTGS",
    "outputId": "e32e6ba5-484f-48ad-d004-b301a4da78cb"
   },
   "outputs": [],
   "source": [
    "my_dataset['validation'] = my_dataset_test['train']\n",
    "my_dataset['test'] = my_dataset_test['test']\n",
    "print(my_dataset)"
   ]
  },
  {
   "cell_type": "code",
   "execution_count": null,
   "metadata": {
    "id": "MIH7lCnk3Qua"
   },
   "outputs": [],
   "source": [
    "max_input_length = 190\n",
    "max_target_length = 390\n",
    "source_lang = \"ar\"\n",
    "target_lang = \"en\"\n",
    "\n",
    "def preprocess_function(examples):\n",
    "    model_inputs = tokenizer(examples[\"Text (Arabic)\"], max_length=max_input_length, truncation=True)\n",
    "\n",
    "    with tokenizer.as_target_tokenizer():\n",
    "        labels = tokenizer(examples[\"Text (English)\"], max_length=max_target_length, truncation=True)\n",
    "    model_inputs[\"labels\"] = labels[\"input_ids\"]\n",
    "    return model_inputs"
   ]
  },
  {
   "cell_type": "code",
   "execution_count": null,
   "metadata": {
    "colab": {
     "base_uri": "https://localhost:8080/",
     "height": 169,
     "referenced_widgets": [
      "00b723824e514a23820930fa6345d5bf",
      "7d937545a70e47109b9070870e059625",
      "8614a71e19614ea09c8c9bfe7c033cc4",
      "95ae7663fee64c3f9ffcdcc610fe5ea9",
      "e88056ad4c794f738a55ea07b7fdcba1",
      "381a5d43431a4f24a39c16137d15fd43",
      "6903f05111f340d7879463151aff08e7",
      "109e5f2788ff455aaeb5f770ec4801ae",
      "fbcf15e51fd446ae9c5b114dbf8ed8e1",
      "bbedfc247d1442ca8765107d662c4dcd",
      "cb1cd765177d48049bc06b2c775d3502",
      "87bb6866dc9244a29ce9eebf502e9360",
      "8f72a6cedce84745b1d471b451163f77",
      "4ddd03ce430447d29e725eeac2f878c8",
      "0752fb3e165548d3a686794afaca2bd7",
      "aafc88c76e844f3fad37845fca59fa2c",
      "952882be75214296a3726fc0710dbd3b",
      "a389cc6134994abea912c0e51d79a705",
      "20d401b787a44399af2a7a00a3d05d3a",
      "a8ef5fdf54f04637bf5a2eb63f82ad6e",
      "f3316875b5424cf1b109871ee1bc3ac3",
      "327c18a499894f4ab8a6c657767d43a6",
      "f75297961a704aa394be1c28cdb1c200",
      "5e248856a8834c76b0b4d0532cb21dc7",
      "5caa0053df684e45b4f4c54772e52538",
      "be03f5dd43ef4f9c8e27b55aa7f9aff6",
      "b4efbc734433482d87a94058f534a374",
      "7184eb315f174f20b20468ca75c4c7a4",
      "d1d7c5660d5145be9d43f029f9bd65cf",
      "3b162b0f280e49979624c94e0e788cae",
      "0ba1ee795c0c453c8e4b49c14a503124",
      "97a6efa075c040e1bcb5b6a92a28d52f",
      "17c187209258489e9395364874863aa6"
     ]
    },
    "id": "KOT9f3rm4Gmg",
    "outputId": "088a69b1-ce7e-412e-ac53-e62102ca39d5"
   },
   "outputs": [],
   "source": [
    "tokenized_datasets = my_dataset.map(preprocess_function, batched=True)"
   ]
  },
  {
   "cell_type": "code",
   "execution_count": null,
   "metadata": {
    "colab": {
     "base_uri": "https://localhost:8080/",
     "height": 81,
     "referenced_widgets": [
      "1c1598cd5da5420f8de39771a4939723",
      "69744bf7d5a147f5b1da07a235e7fe2c",
      "db56560b0e894ae796cc04f631faaee3",
      "bfca81cbb6c04ecf8549f75fc67c4c15",
      "4967b7238f4c4cf7a70e276db16502e1",
      "6566c6008c4e4f2db60bcea02f0bb8ad",
      "61b848ea16ea4890a3af22398c61d96b",
      "d8f247a1bfe94c3c999281ec7870165f",
      "9050815040f54a1baeb9f1b3740b6f73",
      "717f3993e9154b81ad820451cbab76d5",
      "035fe4f6b306463fa42c83c3504c2039",
      "63cad93945d0433286e509c136b15737",
      "bd43264450994f3ea6011058700554af",
      "006c7effab22453c863dd5f7367c6344",
      "8eb2a4f310c24b92962fccb7f0f86b5f",
      "2940cc49c47a48d49975b83632a52efd",
      "af4c193824a84eb9a804a5933758a2de",
      "c91d85f1e93f432da7269747011d9b58",
      "22d953459dd84fd8a8cae10316fac353",
      "21fb74541d554acfae227265f021b03a",
      "71c08358ad7d4fae9ff845fb201836aa",
      "cad59f08e0e14f6188bca8897989cd65"
     ]
    },
    "id": "uOGiKe8L4Mca",
    "outputId": "697bb7bb-eb9e-4ef2-9990-388c57f5b5fa"
   },
   "outputs": [],
   "source": [
    "from transformers import AutoModelForSeq2SeqLM\n",
    "\n",
    "model = AutoModelForSeq2SeqLM.from_pretrained(model_checkpoint)"
   ]
  },
  {
   "cell_type": "code",
   "execution_count": null,
   "metadata": {
    "id": "KP1H6F7o43v2"
   },
   "outputs": [],
   "source": [
    "from transformers import DataCollatorForSeq2Seq\n",
    "\n",
    "data_collator = DataCollatorForSeq2Seq(tokenizer, model=model)"
   ]
  },
  {
   "cell_type": "code",
   "execution_count": null,
   "metadata": {
    "colab": {
     "base_uri": "https://localhost:8080/",
     "height": 216,
     "referenced_widgets": [
      "8798b983d6a74ecfa5289ff142c8941e",
      "5e0d82a267364f3582a95d0a1eb4bdc4",
      "9f7f447081104275a412be5ef45ea342",
      "a0faeca7194d46ff9fe22b752068e04a",
      "6f6b197f1ddf4ebe9cc9018edd55f9e1",
      "873826f66a634df2bbb4f55219c66ad7",
      "ad9e103b9aa84bba9c686c41c922b8b8",
      "237580154e5e43b5a8a3ef32bc488a06",
      "eccba592c09748af9a31c0a02c536ebc",
      "9f56207de1bf46fb8eda557ad3e3f2f0",
      "40962698aabe489da6d3718ac553997a",
      "d27df94ec2f14e4bb438265fbd4d7959",
      "a1c0f49ce6184cf1a8284fcd804f4fcf",
      "50e37ec8615e47ac93660b6910fdf652",
      "f319d477d8a940b5a0f651cec7ff623e",
      "0400bebbe5734aaa8cdd8cd1eec78b29",
      "75016b3d2e5e4f78975267e3ebf0d7eb",
      "94c0bff211ed4863868e82a31fa76bc0",
      "35d2ba1dd80d480b8cc077ea91767b6a",
      "8bfb60b6683a48b48d0928eb69778b41",
      "aa6463efccac48cb90088657db5cb6dc",
      "998d96c88c324a05b504401e9e56e53a",
      "564c82fab7e648d2826cbf40ec30e46c",
      "cb61827ec30a4298aa89828b8bb4e881",
      "d428b0e538f0463c80337894adaaa953",
      "509191a07cdc4db2aad562d9a47edd31",
      "8d2a47ba322342b082c23b8169fdbc14",
      "7d67d1d92fc34b3e90eb1fcebff532ce",
      "8226b8068bbf449baef928753e1dd554",
      "347da58ef6a24049973810da388530cf",
      "cd83b9bb791347029380590ce3d92a01",
      "b3f1b37c975f4d6c859f958c9ae33686",
      "f98da1fd1f1543d4a66a491a2ec4a922",
      "1de30bfb866e4b15a661fffa54a16477",
      "1c35760a203e428c932beaa508e04519",
      "7addde0d5fe74571a60ed834bfd079db",
      "618410ddaab4475dbd3ae0c6f783c46e",
      "5f7bf019d11e4b68a99bc3ce9da2e431",
      "07dce4c6092148abbe215089125113d1",
      "68089d44623446da804a188c05c3bc8e",
      "fa6188a4c1854a51bd455430dd999a6e",
      "04dad9ede1a54ac1840f6502fa84ef2c",
      "6325dd337661460794c3a74ed1e5558f",
      "c9d5bbddee7549579c8ed87ab24c0f09"
     ]
    },
    "id": "RKcfGpB-7tBd",
    "outputId": "1854e272-da84-4402-89c2-7594f3706f66"
   },
   "outputs": [],
   "source": [
    "from evaluate import load\n",
    "\n",
    "bleu = load(\"bleu\")\n",
    "meteor = load('meteor')"
   ]
  },
  {
   "cell_type": "code",
   "execution_count": null,
   "metadata": {
    "id": "WyzEPubiqNq9"
   },
   "outputs": [],
   "source": [
    "fake_preds = [\"Is there elevator?\", \"I've seen him before.\"]\n",
    "fake_labels = [[\"Is there an elevator?\"], [\"I've seen him before.\"]] # list of list when multiple references\n",
    "\n",
    "print(bleu.compute(predictions=fake_preds, references=fake_labels))\n",
    "print(meteor.compute(predictions=fake_preds, references=fake_labels))"
   ]
  },
  {
   "cell_type": "code",
   "execution_count": null,
   "metadata": {
    "id": "_7f-lC4v5BPd"
   },
   "outputs": [],
   "source": [
    "import numpy as np\n",
    "\n",
    "def postprocess_text(preds, labels):\n",
    "  preds = [pred.strip() for pred in preds]\n",
    "  labels = [label.strip() for label in labels]\n",
    "  return preds, labels\n",
    "\n",
    "def compute_metrics(eval_preds):\n",
    "  preds, labels = eval_preds\n",
    "  if isinstance(preds, tuple):\n",
    "      preds = preds[0]\n",
    "  decoded_preds = tokenizer.batch_decode(preds, skip_special_tokens=True)\n",
    "  # Replace -100 in the labels as we can't decode them.\n",
    "  labels = np.where(labels != -100, labels, tokenizer.pad_token_id)\n",
    "  decoded_labels = tokenizer.batch_decode(labels, skip_special_tokens=True)\n",
    "  # Some simple post-processing\n",
    "  decoded_preds, decoded_labels = postprocess_text(decoded_preds, decoded_labels)\n",
    "  result = bleu.compute(predictions=decoded_preds, references=decoded_labels)\n",
    "  result_meteor = meteor.compute(predictions=decoded_preds, references=decoded_labels)\n",
    "  result = {\"bleu\": result[\"bleu\"]}\n",
    "  result['meteor'] = result_meteor['meteor']\n",
    "  prediction_lens = [np.count_nonzero(pred != tokenizer.pad_token_id) for pred in preds]\n",
    "  result[\"gen_len\"] = np.mean(prediction_lens)\n",
    "  result = {k: round(v, 4) for k, v in result.items()}\n",
    "  return result"
   ]
  },
  {
   "cell_type": "code",
   "execution_count": null,
   "metadata": {
    "colab": {
     "base_uri": "https://localhost:8080/",
     "height": 17,
     "referenced_widgets": [
      "6f3cf9a63a2d401ba906ed63353165a9",
      "4139dfdb8e1c476ab24bb0c3ce759cda",
      "ee94b19619d6423298f56ee5d4207341",
      "cac69acf9b2c481f87d722fb5371790a",
      "196c80ea2c154df7b83bbfe926ebc521",
      "fd2725c5cb1e48f9a49ac12b9914d846",
      "4ed0a6183aad4e9a97d9a2eeb0402c91",
      "e0dbc00906b94e96be70dcfc1de2e198",
      "033c912837c647db8ee7d38f095cc9df",
      "124a7a02430248249e4157ac572ab853",
      "c0011b9e11284918aa0816db0eca0f5d",
      "2bfd838493ca48a788afd844692c813c",
      "1e0452b6debc40819aff0d4f5ab4b463",
      "eecdfbfecbd64138838cf4ec31b4e0b4",
      "28b9a2e48023414dad1ab02d0f8f8e6a",
      "27cd42dc0bcf4422a156ebf0b99e2d1c",
      "463e4c411b384f5ab753c8365e0428e3",
      "c7017c9f22114b4f83176800ab10d92c",
      "72e274f2fa514a6fa1fca55000f31f83",
      "ab4ffb8ee9f84eb590850c4fe43c7c9d"
     ]
    },
    "id": "OKBrb28e8JbR",
    "outputId": "59a3249e-d8fa-4c2c-bc9d-0cf98d173f3e"
   },
   "outputs": [],
   "source": [
    "from huggingface_hub import notebook_login\n",
    "\n",
    "notebook_login()"
   ]
  },
  {
   "cell_type": "code",
   "execution_count": null,
   "metadata": {
    "colab": {
     "base_uri": "https://localhost:8080/"
    },
    "id": "u6P61Mj-4U75",
    "outputId": "007d61c8-9685-4bfa-ea87-045d57432ffa"
   },
   "outputs": [],
   "source": [
    "from transformers import Seq2SeqTrainingArguments\n",
    "\n",
    "# try diff parameters\n",
    "batch_size = 4\n",
    "model_name = model_checkpoint.split(\"/\")[-1]\n",
    "args = Seq2SeqTrainingArguments(\n",
    "    f\"{model_name}-finetuned-{source_lang}-to-{target_lang}-final2\",\n",
    "    evaluation_strategy = \"epoch\",\n",
    "    save_strategy = \"epoch\",\n",
    "    learning_rate=1e-5,\n",
    "    per_device_train_batch_size=batch_size,\n",
    "    per_device_eval_batch_size=batch_size,\n",
    "    weight_decay=0.001,\n",
    "    num_train_epochs=15,\n",
    "    predict_with_generate=True,\n",
    "    push_to_hub=False,\n",
    "    warmup_steps=20,\n",
    "    load_best_model_at_end=True,\n",
    "    metric_for_best_model='eval_loss',\n",
    "    hub_private_repo=True,\n",
    "    report_to=[\"tensorboard\"]\n",
    "\n",
    ")"
   ]
  },
  {
   "cell_type": "code",
   "execution_count": null,
   "metadata": {
    "colab": {
     "base_uri": "https://localhost:8080/"
    },
    "id": "CdBjdpom5DX1",
    "outputId": "0dbce3cd-6f73-49db-aa82-5fc1fbc220ca"
   },
   "outputs": [],
   "source": [
    "from transformers import Seq2SeqTrainer, EarlyStoppingCallback\n",
    "\n",
    "trainer = Seq2SeqTrainer(\n",
    "    model,\n",
    "    args,\n",
    "    train_dataset=tokenized_datasets[\"train\"],\n",
    "    eval_dataset=tokenized_datasets[\"validation\"],\n",
    "    data_collator=data_collator,\n",
    "    tokenizer=tokenizer,\n",
    "    compute_metrics=compute_metrics,\n",
    "    callbacks=[EarlyStoppingCallback(4)]\n",
    ")"
   ]
  },
  {
   "cell_type": "code",
   "execution_count": null,
   "metadata": {
    "colab": {
     "base_uri": "https://localhost:8080/",
     "height": 624
    },
    "id": "YA4x8ve_5Gm_",
    "outputId": "be3897ff-66e1-4fbf-be7b-5a6a9828d681"
   },
   "outputs": [],
   "source": [
    "trainer.train()"
   ]
  },
  {
   "cell_type": "code",
   "execution_count": null,
   "metadata": {
    "colab": {
     "base_uri": "https://localhost:8080/",
     "height": 280,
     "referenced_widgets": [
      "57d2650be36a484094f127285add37e0",
      "fa078360352248aeab532006176fdd2d",
      "8afba2707596490ab2fa1fc1fafb5c09",
      "acbe6941d22a4c16bf07b39dac013faf",
      "20d6fd95f8aa4b9f93e79e794172cd48",
      "623571ad97264eafa467b85bf18b0c9e",
      "ac78757a60fe4defbea16daa1fb6a416",
      "4ac7f7257d2f499faaa82a98866dea42",
      "5aa2a151511f4544b20c07d3f7e973d2",
      "842bd3b2bc24430c91da5ea2b037f3fa",
      "2c42a242574840bfaf55e845c71cd348",
      "0b1c5a76fffe4346b8e34d39865dd082",
      "9146e2791a294cb3908ef91a0110ba2c",
      "85eb42ddb11840659c863376657faece",
      "14842c78e9e64e8e814843b1ce0749be",
      "dfb4cce00d8e48cda9020c10cbe60d92",
      "8face15190404c50b73015bbe6bcaeee",
      "269dc501068548be82e7000ce72b7d9e",
      "6311b5e1919a45c8b53ea02c7d7961c4",
      "8c0b3a85cf0c4d8c93eecf4fa1df4bf8",
      "aa74c90b9bf04b14a40e117684d6e474",
      "1b210da75cd540919f4effb528396014",
      "555006d0575649018e9d36b679fea0a2",
      "df61de5cd280423fb5a1bdada8fd5e94",
      "7077ba9a2b85409a90113c2ddb907c96",
      "cb66e60d41a647b5aca661f7bf04317b",
      "146600017bf34268a07aa5fd7a57d8de",
      "9b2ca595557848c8a57dafb22e6e89ff",
      "dcab5848e4dc457a906c923716042a56",
      "a7ccd1f517714780a1b9c355c17e21db",
      "e388f22be31247ae81bfebf686639d26",
      "795ee3a8406647c4953f1ef2e227c43d",
      "a20a5adaf3f844cc9801df3c5675c72f",
      "67efb00b307342e883c4b0a5b2c4e088",
      "5b491ec651a44b869097f113c41bea11",
      "c0dda16fe4634a6bafbab097f5a0f3c4",
      "f292c7ea635b473d921efc520867efcd",
      "e52a571290354a50bac572a0c6beb86d",
      "df190b36aa12443b9e292576c31bb2c3",
      "1e0408e65df44f5ca2662c340b7df394",
      "623ea798241c44069daffd6f9aa04a06",
      "e231fa83afb7411694533b0fdc52179a",
      "e84b42027dbc4883a7304a8f8d4c7179",
      "b5a883a2c96f4ca5a7b247b3f656ada9",
      "2267ab6dd037460a838bad6145484789",
      "bc2b86a98023407b8aa17ec195a59120",
      "4fc34b42a31a4a56829374c3e61ad7ff",
      "58e43445979644f7a0783d8dc24f0c54",
      "51fac88a5a264cc28d147f6cdefcf612",
      "c4c506f5a9264fa39ceae4177cb4f7e4",
      "b0c4bf280c364f7c9643494642591dc0",
      "225ea775e082404ca82774b9f359bc14",
      "cba5e712496a42dfb6a4d90e9c11fc14",
      "173d65af77aa4238b449cd02e36e343d",
      "15fd69cd69b64b58a79c78a14f70d258",
      "28a7951c031c45beae4045c46c1681f7",
      "54c93644f5394c7fab8eae05209bccfc",
      "8997cc2c5d744c3699022f78b2def892",
      "2881f24aaaa043c5b5a53afb6b206711",
      "1fa28f2ebc864dfda13b187714b7a940",
      "b5677913ae494a21add7d8009d345426",
      "5414572922304b638c87b905be494c7d",
      "43eec3c2969b450a82dbc3f0a60bea0d",
      "c73d0c1794ab45d0949f4c835f49ff09",
      "6c244916e18a46a0aa6c1f54910b6586",
      "6ec2d32ad34c47d19df3579c07331eff"
     ]
    },
    "id": "eqAfW2Evwgym",
    "outputId": "911b07e7-180a-49cf-83ea-ec454a5eb24a"
   },
   "outputs": [],
   "source": [
    "trainer.push_to_hub()"
   ]
  },
  {
   "cell_type": "code",
   "execution_count": null,
   "metadata": {
    "colab": {
     "base_uri": "https://localhost:8080/",
     "height": 156,
     "referenced_widgets": [
      "453dc9daa6b84699b1784dd46b93551b",
      "89de3297598e4f7e8a5adc3c67ff1109",
      "ac1cf3bed4804e6f9db1e7d91a7cce6b",
      "37b209f843384d7d86305fcf84a50965",
      "2a37684c538d45e9b04bfe3eb4471a97",
      "eb8a8321cf134e7b8d50ab6575472fe8",
      "304dd4bdf0b7413db9fea13e32cfdbd9",
      "bfac39ad356048888a5110f1ac39e25e",
      "cd892e09562d4f5593f6176bfe6b529f",
      "4b03f16bc76a49ce97ab62768bb71862",
      "ee6e502288be4b708fde3cd04078a6dd"
     ]
    },
    "id": "6oJEb0aIpVn1",
    "outputId": "d98f013e-8f30-41fb-c59d-045e35d32843"
   },
   "outputs": [],
   "source": [
    "tokenizer.push_to_hub(\"itskavya/opus-mt-ar-en-finetuned-ar-to-en-final2\")"
   ]
  },
  {
   "cell_type": "code",
   "execution_count": null,
   "metadata": {
    "colab": {
     "base_uri": "https://localhost:8080/"
    },
    "id": "ARrUmTlwwDbL",
    "outputId": "07ba7161-4843-4f49-bd95-3d42a596e92f"
   },
   "outputs": [],
   "source": [
    "my_dataset['test'][2]"
   ]
  },
  {
   "cell_type": "code",
   "execution_count": null,
   "metadata": {
    "colab": {
     "base_uri": "https://localhost:8080/",
     "height": 291,
     "referenced_widgets": [
      "9588ac888d7145eb961f78347b004c70",
      "f4d4b3e09626458fa22a612a57669858",
      "4daa42d0168c4dbbae7585a831d8d7a4",
      "128f49fcdd5340649a6fbbfb4ec5478d",
      "3cce835a4ce04c01b49baaa894d77571",
      "68de285e62a941a3abf309cd0564e7a3",
      "e9298791d2c94050a4e86ff5a4546024",
      "e25fdb4c36e1400cabd01ca3d1e3767a",
      "c37e24ff3db346f89706816f8dd2b992",
      "a8c145d56db449288d1489f9ef8b3026",
      "f4054b0046dc4707961a844c4383bc9c",
      "892845d1b69a492fb99c3f751d0af3f7",
      "83c6679df497458fb1c05eb7bdc41b4c",
      "9ba4ba65658744b49315e71bf321f521",
      "fd5fa600744040629fdba9d7c07150ad",
      "744203b0e33048588656b92e4aede9b4",
      "488f54b8496e41b798f8c1839baad54f",
      "cf2fba037b514b0689823aaf9127963a",
      "8ebb6e1bf03e4e6885708907ff05e00c",
      "27ae2913273c4d50be4349167ce3f77e",
      "a6f3532b9fd845738a7495cd53dd53d6",
      "6b81e0369d63400383c7fffe8fdbbd09",
      "c91df43dd2124aaaae133893c945b30c",
      "5dd091f198d54ad98989a1fb890f5226",
      "0fe10c55b7574f899b9d60b58941489c",
      "042ced12c4384d02a74bce82e3c6be04",
      "84799695e8654c17b36fc5a72f923607",
      "d4c6ca8cf734472992fed87a1a4e15f3",
      "5825166f7b5540d4a670c5741bc3b8e1",
      "0eb826eb9b954a89b1274400fa63d728",
      "d2fb1be75bb84e39b46a527b9ac690a6",
      "a2b3904bf5104428850526841f8c9a49",
      "c7295bbfb4d34923b247749d0d5efef2",
      "596900f0458d4c55bc39f2d618de7815",
      "852f39d526934a35a930474c3432176e",
      "2fa5cc2292ec45ad8f7b2b7088a91e15",
      "95ea1da141614921a518473db66542cc",
      "41987c44778a41f5b036e85c58c62d9b",
      "d4093cc59d2d42b097b3bf5edb81e152",
      "08fdb7464f274f46a31d311b00f69fb4",
      "38c600a6cccb4caabfd8e1f073556ecb",
      "49cf80e06cf8432eb866fcfefc03f0ef",
      "f2e4f4ad5ad14c72ac51243e6740b71c",
      "ec8a6a5ceff1487ebd480d300191ec04",
      "4be9698cf7ca4c3da0ff871191179faf",
      "d7ace26dc4804390bca16906a2be5c58",
      "6ac059e46304413c9b93951fc8c34c59",
      "9845fc80bacf4f9d974472d9817a461a",
      "6be50629cfba4daa9f54d03efa44545b",
      "cfa98f7810314417a00eb55350e2c23a",
      "865a8898aaec4caa8f38269ce24ebba5",
      "feb92850f3cb4454aea5cc041292866b",
      "01fd29de6d5c4ae287016f510f855cae",
      "4f88bac779874b7ea280754e27742544",
      "072d768d5a6d4ca3974644e0b83e94c0",
      "555db94fd6f84e53aabb14e239f047cd",
      "0785ade9c6d945e98f432b6dc7f499aa",
      "3aba95517985451abb2cd1d05b15f383",
      "ae356aa5acb7421c8619abbb67fa6850",
      "521fa36da9504f5eac65516d8b6039a2",
      "15449f104a10424e8c6c2bbd0e4e98ea",
      "f3a4e4d69c4e48938b8babde88a56f24",
      "8b194236576244d78654c533d7b087e0",
      "26ccc0f41e6c4475bb79998edb41f6c4",
      "96b95da7bfa3493bb8e44588b6576eb3",
      "54b070424be44a89b63699f8e526cfa7",
      "77fdc99f5d124aecb0373827f5e4fc9b",
      "284f8224152c4b64973f1a6c2ea7ff78",
      "79a7ef9377da41f1979eb0a73768571a",
      "58dd59edb7f543c3a0fa48b380ede0c2",
      "c42a3845f08846afbf19ba878a2e2c8d",
      "49c19c947ffd4f2eaa2709eca3c5fc92",
      "98964130d3174fbda5d3c6a61e463a1c",
      "f950b1dc528a46c888b4fd07e7487c5a",
      "14fadb6fdadd45c79172d5b854614b2c",
      "7ad3df8035e04ecfbf5a52234581212d",
      "536a2cde3fc547b5b2e8574befbeae23",
      "dda0dfcefdba439f94525dcef7bf7355",
      "43055c685028440f8aa9bbc50e0500c4",
      "7023f6e072a940bf877d95aabd9f2f89",
      "2f6d8b201ca848189d1cc84a5b7d1f0e",
      "15868aae3be14886b90331cbfd9ac1c6",
      "11cdcb94cbf74e7d88dd007dfc07a800",
      "fe1cc124056a482cb250ba573e20842c",
      "e7f5fcdfda4e4b38a72888a0762887ba",
      "957965227f514ff8b0a5c8fc5bb0f80a",
      "be4b8c82b00d4d539360a64000eb53b8",
      "a2ea07335831467c976184b6323ecde3"
     ]
    },
    "id": "cwvYSl-uw3sZ",
    "outputId": "923218a9-086f-4538-cad3-8e83793815d8"
   },
   "outputs": [],
   "source": [
    "from transformers import pipeline\n",
    "\n",
    "pipe = pipeline(\"translation\", model=\"itskavya/opus-mt-ar-en-finetuned-ar-to-en-final2\")"
   ]
  },
  {
   "cell_type": "code",
   "execution_count": null,
   "metadata": {
    "colab": {
     "base_uri": "https://localhost:8080/"
    },
    "id": "LBODuld4xzZf",
    "outputId": "a22e88fb-31dd-40b5-d80c-deb0d7a1ecb5"
   },
   "outputs": [],
   "source": [
    "en = pipe(my_dataset['test'][2]['Text (Arabic)'])\n",
    "print(en)"
   ]
  },
  {
   "cell_type": "code",
   "execution_count": null,
   "metadata": {
    "colab": {
     "base_uri": "https://localhost:8080/"
    },
    "id": "li7DyYewAgMm",
    "outputId": "420f284d-3820-4061-c4f0-6e7a0386291e"
   },
   "outputs": [],
   "source": [
    "all_predictions = []\n",
    "\n",
    "for i in range(len(my_dataset['test'])):\n",
    "  en = pipe(my_dataset['test'][i]['Text (Arabic)'])\n",
    "  all_predictions.append(en[0]['translation_text'])"
   ]
  },
  {
   "cell_type": "code",
   "execution_count": null,
   "metadata": {
    "colab": {
     "base_uri": "https://localhost:8080/"
    },
    "id": "5DoHNtv3Bl6P",
    "outputId": "b7d83732-7496-46ee-9fb0-037c417b7d55"
   },
   "outputs": [],
   "source": [
    "all_predictions"
   ]
  },
  {
   "cell_type": "code",
   "execution_count": null,
   "metadata": {
    "colab": {
     "base_uri": "https://localhost:8080/"
    },
    "id": "lSkSG2pl47IT",
    "outputId": "b3a032c9-8ab9-443c-d773-4a14917167a2"
   },
   "outputs": [],
   "source": [
    "my_dataset['test'][\"Text (English)\"]"
   ]
  },
  {
   "cell_type": "code",
   "execution_count": null,
   "metadata": {
    "colab": {
     "base_uri": "https://localhost:8080/"
    },
    "id": "w1GvuMuEOgvL",
    "outputId": "7db04488-566d-4ac0-fb2c-196f1bb90de6"
   },
   "outputs": [],
   "source": [
    "from evaluate import load\n",
    "\n",
    "bleu_metric = load(\"bleu\")\n",
    "\n",
    "bleu_result = bleu_metric.compute(\n",
    "    references=my_dataset['test'][\"Text (English)\"], predictions=all_predictions\n",
    ")\n",
    "bleu_result"
   ]
  },
  {
   "cell_type": "code",
   "execution_count": null,
   "metadata": {
    "colab": {
     "base_uri": "https://localhost:8080/"
    },
    "id": "sDSbZQ6BOhZV",
    "outputId": "8604c711-506d-4ccf-e0da-c0748a7f5d74"
   },
   "outputs": [],
   "source": [
    "meteor_metric = load(\"meteor\")\n",
    "\n",
    "meteor_result = meteor_metric.compute(\n",
    "    references=my_dataset['test'][\"Text (English)\"], predictions=all_predictions\n",
    ")\n",
    "\n",
    "meteor_result"
   ]
  },
  {
   "cell_type": "markdown",
   "metadata": {
    "id": "6usbHFqEESdV"
   },
   "source": [
    "References:\n",
    "\n",
    "-https://medium.com/@tskumar1320/how-to-fine-tune-pre-trained-language-translation-model-3e8a6aace9f"
   ]
  }
 ],
 "metadata": {
  "accelerator": "GPU",
  "colab": {
   "gpuType": "T4",
   "provenance": []
  },
  "kernelspec": {
   "display_name": "Python 3",
   "name": "python3"
  },
  "language_info": {
   "name": "python"
  }
 },
 "nbformat": 4,
 "nbformat_minor": 0
}
