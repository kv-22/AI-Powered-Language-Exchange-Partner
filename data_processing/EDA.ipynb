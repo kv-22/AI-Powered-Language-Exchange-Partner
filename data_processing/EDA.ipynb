{
 "cells": [
  {
   "cell_type": "code",
   "execution_count": null,
   "metadata": {},
   "outputs": [],
   "source": [
    "!pip install datasets librosa soundfile"
   ]
  },
  {
   "cell_type": "code",
   "execution_count": null,
   "metadata": {},
   "outputs": [],
   "source": [
    "from datasets import load_dataset\n",
    "\n",
    "dataset = load_dataset('dataset')\n",
    "dataset"
   ]
  },
  {
   "cell_type": "code",
   "execution_count": null,
   "metadata": {},
   "outputs": [],
   "source": [
    "print(dataset['train'][0])"
   ]
  },
  {
   "cell_type": "markdown",
   "metadata": {},
   "source": [
    "Analyzing the volume levels in audio using RMS"
   ]
  },
  {
   "cell_type": "code",
   "execution_count": null,
   "metadata": {},
   "outputs": [],
   "source": [
    "import librosa\n",
    "import numpy as np\n",
    "\n",
    "# Function to compute RMS for a given audio file\n",
    "def compute_rms(audio_path):\n",
    "    y, sr = librosa.load(audio_path)\n",
    "    rms_values = librosa.feature.rms(y=y) # get rms values of this file\n",
    "    mean_rms = np.mean(rms_values) # get mean of the rms values\n",
    "    std_rms = np.std(rms_values) # get std of the rms values\n",
    "    return mean_rms, std_rms\n",
    "\n",
    "rms_values_list = []\n",
    "mean_rms_list = []\n",
    "std_rms_list = []\n",
    "\n",
    "for i in range(len(dataset['train'])):\n",
    "    audio_path = dataset['train'][i]['audio']['path'] \n",
    "    mean_rms, std_rms = compute_rms(audio_path)\n",
    "    mean_rms_list.append(mean_rms)\n",
    "    std_rms_list.append(std_rms)\n",
    "\n",
    "overall_mean = np.mean(mean_rms_list) # get mean of the mean of each file\n",
    "overall_std = np.std(mean_rms_list) # get std of the std of each file\n",
    "\n",
    "print(f\"Overall Mean of RMS values: {overall_mean}\")\n",
    "print(f\"Overall Standard Deviation of RMS values: {overall_std}\")"
   ]
  },
  {
   "cell_type": "markdown",
   "metadata": {},
   "source": [
    "Since the std doesn't vary much from the mean, the volume level is consistent across the audios."
   ]
  },
  {
   "cell_type": "markdown",
   "metadata": {},
   "source": [
    "Plot the mean rms values for each file:"
   ]
  },
  {
   "cell_type": "code",
   "execution_count": null,
   "metadata": {},
   "outputs": [],
   "source": [
    "import matplotlib.pyplot as plt\n",
    "\n",
    "# Plot the mean RMS values across all audio files\n",
    "plt.boxplot(mean_rms_list)\n",
    "plt.title('Variation of Mean RMS Across Audio Files')\n",
    "plt.ylabel('Mean RMS')\n",
    "plt.show()"
   ]
  },
  {
   "cell_type": "markdown",
   "metadata": {},
   "source": [
    "It shows outliers even though the std didn't differ. This could be because some audios are longer while majority are short, which can affect the RMS values."
   ]
  },
  {
   "cell_type": "code",
   "execution_count": null,
   "metadata": {},
   "outputs": [],
   "source": [
    "# import numpy as np\n",
    "\n",
    "# example = minds[0]\n",
    "# input_features = example[\"input_features\"]\n",
    "\n",
    "# plt.figure().set_figwidth(12)\n",
    "# librosa.display.specshow(\n",
    "#     np.asarray(input_features[0]),\n",
    "#     x_axis=\"time\",\n",
    "#     y_axis=\"mel\",\n",
    "#     sr=feature_extractor.sampling_rate,\n",
    "#     hop_length=feature_extractor.hop_length,\n",
    "# )\n",
    "# plt.colorbar()"
   ]
  },
  {
   "cell_type": "code",
   "execution_count": null,
   "metadata": {},
   "outputs": [],
   "source": [
    "# Load the audio\n",
    "y, sr = librosa.load('my_dataset_female/female_audio_segments_1/1_1.mp3')\n",
    "\n",
    "# Compute the spectrogram\n",
    "D = librosa.amplitude_to_db(np.abs(librosa.stft(y)), ref=np.max)\n",
    "\n",
    "# Plot the spectrogram\n",
    "plt.figure(figsize=(10, 6))\n",
    "librosa.display.specshow(D, x_axis='time', y_axis='log', sr=sr)\n",
    "plt.colorbar(format='%+2.0f dB')\n",
    "plt.title('Spectrogram of Audio')\n",
    "plt.show()\n"
   ]
  },
  {
   "cell_type": "code",
   "execution_count": null,
   "metadata": {},
   "outputs": [],
   "source": []
  }
 ],
 "metadata": {
  "kernelspec": {
   "display_name": "base",
   "language": "python",
   "name": "python3"
  },
  "language_info": {
   "codemirror_mode": {
    "name": "ipython",
    "version": 3
   },
   "file_extension": ".py",
   "mimetype": "text/x-python",
   "name": "python",
   "nbconvert_exporter": "python",
   "pygments_lexer": "ipython3",
   "version": "3.11.5"
  }
 },
 "nbformat": 4,
 "nbformat_minor": 2
}
