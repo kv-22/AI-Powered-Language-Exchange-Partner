{
 "cells": [
  {
   "cell_type": "code",
   "execution_count": null,
   "metadata": {},
   "outputs": [],
   "source": [
    "import pandas as pd\n",
    "\n",
    "# df = pd.read_csv('male transcription datasets/male_dataset_6.csv')\n",
    "df = pd.read_excel('male transcription datasets/male_dataset_15.xlsx')\n",
    "\n",
    "# Function to extract the last number from the old audio file path\n",
    "def extract_last_number(path):\n",
    "    # Split the path by underscores and extract the last part before the file extension\n",
    "    return int(path.rsplit('_', 1)[-1].split('.')[0]) # split from the right once using the last _, get the last part, split again using . and get the first part\n",
    "    # return int(path.rsplit('_', 2)[-2])\n",
    "\n",
    "# Function to create the new audio file path\n",
    "def create_new_path(old_path):\n",
    "    last_number = extract_last_number(old_path)\n",
    "    # Create the new path in the desired format\n",
    "    # return f\"female audio segments/female_audio_segments_1/1_{last_number}.mp3\"\n",
    "    return f\"male audio segments/male_audio_segments_15/15_chunk_{last_number}.wav\"\n",
    "\n",
    "df['audio_path'] = df['Audio File'].apply(create_new_path)\n",
    "\n",
    "df.to_excel('updated_male/updated_paths_m_15.xlsx', index=False)\n",
    "\n",
    "print(\"Paths updated successfully!\")"
   ]
  },
  {
   "cell_type": "code",
   "execution_count": null,
   "metadata": {},
   "outputs": [],
   "source": [
    "import os\n",
    "\n",
    "# List the folders\n",
    "folder_paths = [\n",
    "    ''\n",
    "    \n",
    "]\n",
    "\n",
    "for folder_path in folder_paths:\n",
    "    # Extract the folder number\n",
    "    folder_number = folder_path.split('_')[-1]  # This will get the number at the end of the folder name\n",
    "    \n",
    "    files = os.listdir(folder_path)\n",
    "    \n",
    "    for file in files:\n",
    "        if file.startswith('chunk'):\n",
    "            # Construct the new file name with folder number prefix\n",
    "            new_name = f\"{folder_number}_{file}\"\n",
    "            \n",
    "            # Get the full current and new paths\n",
    "            current_path = os.path.join(folder_path, file)\n",
    "            new_path = os.path.join(folder_path, new_name)\n",
    "            \n",
    "            # Rename the file\n",
    "            os.rename(current_path, new_path)\n",
    "\n",
    "    print(f\"Renamed files in folder {folder_number} successfully!\")\n",
    "\n",
    "print(\"All files renamed successfully!\")"
   ]
  },
  {
   "cell_type": "code",
   "execution_count": null,
   "metadata": {},
   "outputs": [],
   "source": [
    "import os\n",
    "import pandas as pd\n",
    "from glob import glob\n",
    "import re\n",
    "\n",
    "folder_path = \"updated_male\"\n",
    "\n",
    "data = []\n",
    "\n",
    "xlsx_files = glob(os.path.join(folder_path, \"*.xlsx\")) # glob will search for files with the specified pattern and return them, updated/*.xlsx\n",
    "\n",
    "for file in xlsx_files:\n",
    "    df = pd.read_excel(file)\n",
    "\n",
    "    if 'audio_path' in df.columns and 'Text (Arabic)' in df.columns:\n",
    "        # Loop over each row and extract the relevant data\n",
    "        for _, row in df.iterrows():\n",
    "            audio_path = row['audio_path']\n",
    "            audio_path = os.path.join(*audio_path.split(os.sep)[1:]) # split the path by the os seperator and then join the path from the second element, it is to remove the female audio segments thing first\n",
    "            # Replace 'female_audio_segments_<number>' with 'audio'\n",
    "            audio_path = re.sub(r'male_audio_segments_\\d+/', 'audio/', audio_path) # replace the female_audio_segments_#/ with audio/\n",
    "            transcript = row['Text (Arabic)']\n",
    "            \n",
    "            data.append({\n",
    "                \"audio\": audio_path,\n",
    "                \"text\": transcript\n",
    "            })\n",
    "            \n",
    "df_data = pd.DataFrame(data)\n",
    "\n",
    "df_data.to_csv(\"audio_transcripts.csv\", index=False, encoding='utf-8-sig') #encoding to support arabic characters\n",
    "\n",
    "print(\"CSV file saved as audio_transcripts.csv\")\n"
   ]
  },
  {
   "cell_type": "markdown",
   "metadata": {},
   "source": [
    "References:\n",
    "\n",
    "-https://huggingface.co/docs/hub/en/datasets-adding\n",
    "\n",
    "-https://huggingface.co/docs/hub/en/repositories-getting-started\n",
    "\n",
    "-https://huggingface.co/docs/hub/en/datasets-data-files-configuration\n",
    "\n",
    "-https://huggingface.co/docs/hub/en/datasets-audio\n"
   ]
  },
  {
   "cell_type": "markdown",
   "metadata": {},
   "source": []
  },
  {
   "cell_type": "code",
   "execution_count": null,
   "metadata": {},
   "outputs": [],
   "source": []
  }
 ],
 "metadata": {
  "kernelspec": {
   "display_name": "Python 3",
   "language": "python",
   "name": "python3"
  },
  "language_info": {
   "codemirror_mode": {
    "name": "ipython",
    "version": 3
   },
   "file_extension": ".py",
   "mimetype": "text/x-python",
   "name": "python",
   "nbconvert_exporter": "python",
   "pygments_lexer": "ipython3",
   "version": "3.11.3"
  }
 },
 "nbformat": 4,
 "nbformat_minor": 2
}
